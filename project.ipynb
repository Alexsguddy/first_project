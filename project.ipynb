{
 "cells": [
  {
   "cell_type": "markdown",
   "metadata": {},
   "source": [
    "Привет! меня зовут Люман Аблаев. Сегодня я проверю твой проект.\n",
    "<br> Дальнейшее общение будет происходить на \"ты\" если это не вызывает никаких проблем.\n",
    "<br> Желательно реагировать на красные комментарии ('исправил', 'не понятно как исправить ошибку', ...)\n",
    "<br> Пожалуйста, не удаляй комментарии ревьюера, так как они повышают качество повторного ревью.\n",
    "\n",
    "Комментарии будут в <font color='green'>зеленой</font>, <font color='blue'>синей</font> или <font color='red'>красной</font> рамках:\n",
    "\n",
    "\n",
    "<div class=\"alert alert-block alert-success\">\n",
    "<b>Успех:</b> Если все сделано отлично\n",
    "</div>\n",
    "\n",
    "<div class=\"alert alert-block alert-info\">\n",
    "<b>Совет: </b> Если можно немного улучшить\n",
    "</div>\n",
    "\n",
    "<div class=\"alert alert-block alert-danger\">\n",
    "<b>Ошибка:</b> Если требуются исправления. Работа не может быть принята с красными комментариями.\n",
    "</div>\n",
    "\n",
    "-------------------\n",
    "\n",
    "Будет очень хорошо, если ты будешь помечать свои действия следующим образом:\n",
    "<div class=\"alert alert-block alert-warning\">\n",
    "<b>Комментарий студента:</b> ..\n",
    "</div>\n",
    "<div class=\"alert alert-block alert-warning\">\n",
    "<b>Изменения:</b> Были внесены следующие изменения ...\n",
    "</div>\n",
    "\n",
    "<font color='orange' style='font-size:24px; font-weight:bold'>Полезные ссылки</font>\n",
    "* Очень интересная и полезная статья: https://dyakonov.org/2021/05/27/imbalance/\n",
    "\n",
    "<font color='orange' style='font-size:24px; font-weight:bold'>Общее впечатление</font>\n",
    "* Спасибо за  качественную работу, видно, что приложено много усилий.\n",
    "- Я оставил некоторые советы, надеюсь они будут полезными или интересными.\n",
    "- Есть некоторые недочеты, которые нужно поправить, но у тебя это не должно занять много времени)\n",
    "- Жду обновленную работу"
   ]
  },
  {
   "cell_type": "markdown",
   "metadata": {},
   "source": [
    "<div class=\"alert alert-block alert-warning\">\n",
    "<b>Изменения:</b> Чтобы проще было понять изменения, опишу их сначала здесь. \n",
    "\n",
    "а) Соотношение классов добавил в пункте 3.1 и обозначил отношение количества отрицательных признаков к положительным как disbalance. \n",
    "    \n",
    "б) Добавление гиперпараметра `class_weight = 'balanced'` в модели вывел в отдельный пункт 3.2. \n",
    "    \n",
    "в) при увеличении и уменьшении выборки для каждой модели добавил расчет f1_score и auc_roc для случая, если мы делаем выборки одинаковыми по размеру. При увеличении выборки repeat = round(disbalance), а при уменьшении выборки frac = 1/disbalance\n",
    "    \n",
    "г) поправил выводы\n",
    "</div>"
   ]
  },
  {
   "cell_type": "markdown",
   "metadata": {},
   "source": [
    "<font color='orange' style='font-size:24px; font-weight:bold'>Общее впечатление[2]</font>\n",
    "* Спасибо за оперативность\n",
    "- Приятно видеть фидбек \n",
    "- Недочеты исправлены - работа полностью корректна\n",
    "- Рад был быть полезен. Удачи в дальнейшем обучении!\n"
   ]
  },
  {
   "cell_type": "markdown",
   "metadata": {
    "toc": true
   },
   "source": [
    "<h1>Содержание<span class=\"tocSkip\"></span></h1>\n",
    "<div class=\"toc\"><ul class=\"toc-item\"><li><span><a href=\"#Подготовка-данных\" data-toc-modified-id=\"Подготовка-данных-1\"><span class=\"toc-item-num\">1&nbsp;&nbsp;</span>Подготовка данных</a></span><ul class=\"toc-item\"><li><span><a href=\"#Загрузка-библиотек-и-данных\" data-toc-modified-id=\"Загрузка-библиотек-и-данных-1.1\"><span class=\"toc-item-num\">1.1&nbsp;&nbsp;</span>Загрузка библиотек и данных</a></span></li><li><span><a href=\"#Наличие-пропусков\" data-toc-modified-id=\"Наличие-пропусков-1.2\"><span class=\"toc-item-num\">1.2&nbsp;&nbsp;</span>Наличие пропусков</a></span></li><li><span><a href=\"#Разбиение-на-выборки\" data-toc-modified-id=\"Разбиение-на-выборки-1.3\"><span class=\"toc-item-num\">1.3&nbsp;&nbsp;</span>Разбиение на выборки</a></span></li><li><span><a href=\"#Масштабирование-количественных-признаков\" data-toc-modified-id=\"Масштабирование-количественных-признаков-1.4\"><span class=\"toc-item-num\">1.4&nbsp;&nbsp;</span>Масштабирование количественных признаков</a></span></li><li><span><a href=\"#Заполнение-пропусков\" data-toc-modified-id=\"Заполнение-пропусков-1.5\"><span class=\"toc-item-num\">1.5&nbsp;&nbsp;</span>Заполнение пропусков</a></span></li><li><span><a href=\"#Кодирование-категориальных-признаков\" data-toc-modified-id=\"Кодирование-категориальных-признаков-1.6\"><span class=\"toc-item-num\">1.6&nbsp;&nbsp;</span>Кодирование категориальных признаков</a></span></li><li><span><a href=\"#Корреляция-данных\" data-toc-modified-id=\"Корреляция-данных-1.7\"><span class=\"toc-item-num\">1.7&nbsp;&nbsp;</span>Корреляция данных</a></span></li></ul></li><li><span><a href=\"#Исследование-задачи\" data-toc-modified-id=\"Исследование-задачи-2\"><span class=\"toc-item-num\">2&nbsp;&nbsp;</span>Исследование задачи</a></span><ul class=\"toc-item\"><li><span><a href=\"#Модель-решающего-дерева\" data-toc-modified-id=\"Модель-решающего-дерева-2.1\"><span class=\"toc-item-num\">2.1&nbsp;&nbsp;</span>Модель решающего дерева</a></span></li><li><span><a href=\"#Модель-случайного-леса\" data-toc-modified-id=\"Модель-случайного-леса-2.2\"><span class=\"toc-item-num\">2.2&nbsp;&nbsp;</span>Модель случайного леса</a></span></li><li><span><a href=\"#Модель-логистической-регрессии\" data-toc-modified-id=\"Модель-логистической-регрессии-2.3\"><span class=\"toc-item-num\">2.3&nbsp;&nbsp;</span>Модель логистической регрессии</a></span></li><li><span><a href=\"#Вывод-по-моделям-без-учета-дизбаланса\" data-toc-modified-id=\"Вывод-по-моделям-без-учета-дизбаланса-2.4\"><span class=\"toc-item-num\">2.4&nbsp;&nbsp;</span>Вывод по моделям без учета дизбаланса</a></span></li></ul></li><li><span><a href=\"#Борьба-с-дисбалансом\" data-toc-modified-id=\"Борьба-с-дисбалансом-3\"><span class=\"toc-item-num\">3&nbsp;&nbsp;</span>Борьба с дисбалансом</a></span><ul class=\"toc-item\"><li><span><a href=\"#Оценка-дисбаланса\" data-toc-modified-id=\"Оценка-дисбаланса-3.1\"><span class=\"toc-item-num\">3.1&nbsp;&nbsp;</span>Оценка дисбаланса</a></span></li><li><span><a href=\"#Добавление-баланса-классов\" data-toc-modified-id=\"Добавление-баланса-классов-3.2\"><span class=\"toc-item-num\">3.2&nbsp;&nbsp;</span>Добавление баланса классов</a></span><ul class=\"toc-item\"><li><span><a href=\"#Решающее-дерево\" data-toc-modified-id=\"Решающее-дерево-3.2.1\"><span class=\"toc-item-num\">3.2.1&nbsp;&nbsp;</span>Решающее дерево</a></span></li><li><span><a href=\"#Случайный-лес\" data-toc-modified-id=\"Случайный-лес-3.2.2\"><span class=\"toc-item-num\">3.2.2&nbsp;&nbsp;</span>Случайный лес</a></span></li><li><span><a href=\"#Логистическая-регрессия\" data-toc-modified-id=\"Логистическая-регрессия-3.2.3\"><span class=\"toc-item-num\">3.2.3&nbsp;&nbsp;</span>Логистическая регрессия</a></span></li></ul></li><li><span><a href=\"#Увеличение-выборки\" data-toc-modified-id=\"Увеличение-выборки-3.3\"><span class=\"toc-item-num\">3.3&nbsp;&nbsp;</span>Увеличение выборки</a></span><ul class=\"toc-item\"><li><span><a href=\"#Модель-решающего-дерева\" data-toc-modified-id=\"Модель-решающего-дерева-3.3.1\"><span class=\"toc-item-num\">3.3.1&nbsp;&nbsp;</span>Модель решающего дерева</a></span></li><li><span><a href=\"#Модель-случайного-леса\" data-toc-modified-id=\"Модель-случайного-леса-3.3.2\"><span class=\"toc-item-num\">3.3.2&nbsp;&nbsp;</span>Модель случайного леса</a></span></li><li><span><a href=\"#Логистическая-регрессия\" data-toc-modified-id=\"Логистическая-регрессия-3.3.3\"><span class=\"toc-item-num\">3.3.3&nbsp;&nbsp;</span>Логистическая регрессия</a></span></li><li><span><a href=\"#Вывод-по-увеличению-выборки\" data-toc-modified-id=\"Вывод-по-увеличению-выборки-3.3.4\"><span class=\"toc-item-num\">3.3.4&nbsp;&nbsp;</span>Вывод по увеличению выборки</a></span></li></ul></li><li><span><a href=\"#Уменьшение-выборки\" data-toc-modified-id=\"Уменьшение-выборки-3.4\"><span class=\"toc-item-num\">3.4&nbsp;&nbsp;</span>Уменьшение выборки</a></span><ul class=\"toc-item\"><li><span><a href=\"#Решающее-дерево\" data-toc-modified-id=\"Решающее-дерево-3.4.1\"><span class=\"toc-item-num\">3.4.1&nbsp;&nbsp;</span>Решающее дерево</a></span></li><li><span><a href=\"#Случайный-лес\" data-toc-modified-id=\"Случайный-лес-3.4.2\"><span class=\"toc-item-num\">3.4.2&nbsp;&nbsp;</span>Случайный лес</a></span></li><li><span><a href=\"#Логистическая-регрессия\" data-toc-modified-id=\"Логистическая-регрессия-3.4.3\"><span class=\"toc-item-num\">3.4.3&nbsp;&nbsp;</span>Логистическая регрессия</a></span></li></ul></li></ul></li><li><span><a href=\"#Тестирование-модели\" data-toc-modified-id=\"Тестирование-модели-4\"><span class=\"toc-item-num\">4&nbsp;&nbsp;</span>Тестирование модели</a></span><ul class=\"toc-item\"><li><span><a href=\"#Решающее-дерево\" data-toc-modified-id=\"Решающее-дерево-4.1\"><span class=\"toc-item-num\">4.1&nbsp;&nbsp;</span>Решающее дерево</a></span></li><li><span><a href=\"#Случайный-лес\" data-toc-modified-id=\"Случайный-лес-4.2\"><span class=\"toc-item-num\">4.2&nbsp;&nbsp;</span>Случайный лес</a></span></li><li><span><a href=\"#Логистическая-регрессия\" data-toc-modified-id=\"Логистическая-регрессия-4.3\"><span class=\"toc-item-num\">4.3&nbsp;&nbsp;</span>Логистическая регрессия</a></span></li></ul></li><li><span><a href=\"#Вывод-по-проекту\" data-toc-modified-id=\"Вывод-по-проекту-5\"><span class=\"toc-item-num\">5&nbsp;&nbsp;</span>Вывод по проекту</a></span></li><li><span><a href=\"#Чек-лист-готовности-проекта\" data-toc-modified-id=\"Чек-лист-готовности-проекта-6\"><span class=\"toc-item-num\">6&nbsp;&nbsp;</span>Чек-лист готовности проекта</a></span></li></ul></div>"
   ]
  },
  {
   "cell_type": "markdown",
   "metadata": {},
   "source": [
    "# Отток клиентов"
   ]
  },
  {
   "cell_type": "markdown",
   "metadata": {},
   "source": [
    "Из «Бета-Банка» стали уходить клиенты. Каждый месяц. Немного, но заметно. Банковские маркетологи посчитали: сохранять текущих клиентов дешевле, чем привлекать новых.\n",
    "\n",
    "Нужно спрогнозировать, уйдёт клиент из банка в ближайшее время или нет. Вам предоставлены исторические данные о поведении клиентов и расторжении договоров с банком. \n",
    "\n",
    "Постройте модель с предельно большим значением *F1*-меры. Чтобы сдать проект успешно, нужно довести метрику до 0.59. Проверьте *F1*-меру на тестовой выборке самостоятельно.\n",
    "\n",
    "Дополнительно измеряйте *AUC-ROC*, сравнивайте её значение с *F1*-мерой.\n",
    "\n",
    "Источник данных: [https://www.kaggle.com/barelydedicated/bank-customer-churn-modeling](https://www.kaggle.com/barelydedicated/bank-customer-churn-modeling)"
   ]
  },
  {
   "cell_type": "markdown",
   "metadata": {},
   "source": [
    "## Подготовка данных"
   ]
  },
  {
   "cell_type": "markdown",
   "metadata": {},
   "source": [
    "### Загрузка библиотек и данных"
   ]
  },
  {
   "cell_type": "code",
   "execution_count": 1,
   "metadata": {
    "scrolled": true
   },
   "outputs": [
    {
     "name": "stdout",
     "output_type": "stream",
     "text": [
      "Requirement already satisfied: phik in /opt/conda/lib/python3.9/site-packages (0.12.3)\n",
      "Requirement already satisfied: numpy>=1.18.0 in /opt/conda/lib/python3.9/site-packages (from phik) (1.21.1)\n",
      "Requirement already satisfied: pandas>=0.25.1 in /opt/conda/lib/python3.9/site-packages (from phik) (1.2.4)\n",
      "Requirement already satisfied: joblib>=0.14.1 in /opt/conda/lib/python3.9/site-packages (from phik) (1.1.0)\n",
      "Requirement already satisfied: matplotlib>=2.2.3 in /opt/conda/lib/python3.9/site-packages (from phik) (3.3.4)\n",
      "Requirement already satisfied: scipy>=1.5.2 in /opt/conda/lib/python3.9/site-packages (from phik) (1.9.1)\n",
      "Requirement already satisfied: python-dateutil>=2.1 in /opt/conda/lib/python3.9/site-packages (from matplotlib>=2.2.3->phik) (2.8.1)\n",
      "Requirement already satisfied: kiwisolver>=1.0.1 in /opt/conda/lib/python3.9/site-packages (from matplotlib>=2.2.3->phik) (1.4.4)\n",
      "Requirement already satisfied: pyparsing!=2.0.4,!=2.1.2,!=2.1.6,>=2.0.3 in /opt/conda/lib/python3.9/site-packages (from matplotlib>=2.2.3->phik) (2.4.7)\n",
      "Requirement already satisfied: cycler>=0.10 in /opt/conda/lib/python3.9/site-packages (from matplotlib>=2.2.3->phik) (0.11.0)\n",
      "Requirement already satisfied: pillow>=6.2.0 in /opt/conda/lib/python3.9/site-packages (from matplotlib>=2.2.3->phik) (8.4.0)\n",
      "Requirement already satisfied: pytz>=2017.3 in /opt/conda/lib/python3.9/site-packages (from pandas>=0.25.1->phik) (2021.1)\n",
      "Requirement already satisfied: six>=1.5 in /opt/conda/lib/python3.9/site-packages (from python-dateutil>=2.1->matplotlib>=2.2.3->phik) (1.16.0)\n",
      "Note: you may need to restart the kernel to use updated packages.\n"
     ]
    }
   ],
   "source": [
    "pip install phik"
   ]
  },
  {
   "cell_type": "code",
   "execution_count": 2,
   "metadata": {},
   "outputs": [],
   "source": [
    "import pandas as pd\n",
    "import numpy as np\n",
    "import seaborn as sns\n",
    "import matplotlib.pyplot as plt\n",
    "import phik\n",
    "from sklearn.model_selection import train_test_split\n",
    "from sklearn.tree import DecisionTreeClassifier\n",
    "from sklearn.linear_model import LogisticRegression\n",
    "from sklearn.ensemble import RandomForestClassifier\n",
    "from sklearn.metrics import f1_score\n",
    "from sklearn.utils import shuffle\n",
    "from sklearn.metrics import roc_curve \n",
    "from sklearn.metrics import roc_auc_score \n",
    "from sklearn.metrics import precision_recall_curve"
   ]
  },
  {
   "cell_type": "markdown",
   "metadata": {},
   "source": [
    "\n",
    "\n",
    "<div class=\"alert alert-block alert-success\">\n",
    "<b>Успех:</b> Импорты на месте\n",
    "</div>\n"
   ]
  },
  {
   "cell_type": "code",
   "execution_count": 3,
   "metadata": {
    "scrolled": false
   },
   "outputs": [
    {
     "data": {
      "text/html": [
       "<div>\n",
       "<style scoped>\n",
       "    .dataframe tbody tr th:only-of-type {\n",
       "        vertical-align: middle;\n",
       "    }\n",
       "\n",
       "    .dataframe tbody tr th {\n",
       "        vertical-align: top;\n",
       "    }\n",
       "\n",
       "    .dataframe thead th {\n",
       "        text-align: right;\n",
       "    }\n",
       "</style>\n",
       "<table border=\"1\" class=\"dataframe\">\n",
       "  <thead>\n",
       "    <tr style=\"text-align: right;\">\n",
       "      <th></th>\n",
       "      <th>RowNumber</th>\n",
       "      <th>CustomerId</th>\n",
       "      <th>Surname</th>\n",
       "      <th>CreditScore</th>\n",
       "      <th>Geography</th>\n",
       "      <th>Gender</th>\n",
       "      <th>Age</th>\n",
       "      <th>Tenure</th>\n",
       "      <th>Balance</th>\n",
       "      <th>NumOfProducts</th>\n",
       "      <th>HasCrCard</th>\n",
       "      <th>IsActiveMember</th>\n",
       "      <th>EstimatedSalary</th>\n",
       "      <th>Exited</th>\n",
       "    </tr>\n",
       "  </thead>\n",
       "  <tbody>\n",
       "    <tr>\n",
       "      <th>0</th>\n",
       "      <td>1</td>\n",
       "      <td>15634602</td>\n",
       "      <td>Hargrave</td>\n",
       "      <td>619</td>\n",
       "      <td>France</td>\n",
       "      <td>Female</td>\n",
       "      <td>42</td>\n",
       "      <td>2.0</td>\n",
       "      <td>0.00</td>\n",
       "      <td>1</td>\n",
       "      <td>1</td>\n",
       "      <td>1</td>\n",
       "      <td>101348.88</td>\n",
       "      <td>1</td>\n",
       "    </tr>\n",
       "    <tr>\n",
       "      <th>1</th>\n",
       "      <td>2</td>\n",
       "      <td>15647311</td>\n",
       "      <td>Hill</td>\n",
       "      <td>608</td>\n",
       "      <td>Spain</td>\n",
       "      <td>Female</td>\n",
       "      <td>41</td>\n",
       "      <td>1.0</td>\n",
       "      <td>83807.86</td>\n",
       "      <td>1</td>\n",
       "      <td>0</td>\n",
       "      <td>1</td>\n",
       "      <td>112542.58</td>\n",
       "      <td>0</td>\n",
       "    </tr>\n",
       "    <tr>\n",
       "      <th>2</th>\n",
       "      <td>3</td>\n",
       "      <td>15619304</td>\n",
       "      <td>Onio</td>\n",
       "      <td>502</td>\n",
       "      <td>France</td>\n",
       "      <td>Female</td>\n",
       "      <td>42</td>\n",
       "      <td>8.0</td>\n",
       "      <td>159660.80</td>\n",
       "      <td>3</td>\n",
       "      <td>1</td>\n",
       "      <td>0</td>\n",
       "      <td>113931.57</td>\n",
       "      <td>1</td>\n",
       "    </tr>\n",
       "    <tr>\n",
       "      <th>3</th>\n",
       "      <td>4</td>\n",
       "      <td>15701354</td>\n",
       "      <td>Boni</td>\n",
       "      <td>699</td>\n",
       "      <td>France</td>\n",
       "      <td>Female</td>\n",
       "      <td>39</td>\n",
       "      <td>1.0</td>\n",
       "      <td>0.00</td>\n",
       "      <td>2</td>\n",
       "      <td>0</td>\n",
       "      <td>0</td>\n",
       "      <td>93826.63</td>\n",
       "      <td>0</td>\n",
       "    </tr>\n",
       "    <tr>\n",
       "      <th>4</th>\n",
       "      <td>5</td>\n",
       "      <td>15737888</td>\n",
       "      <td>Mitchell</td>\n",
       "      <td>850</td>\n",
       "      <td>Spain</td>\n",
       "      <td>Female</td>\n",
       "      <td>43</td>\n",
       "      <td>2.0</td>\n",
       "      <td>125510.82</td>\n",
       "      <td>1</td>\n",
       "      <td>1</td>\n",
       "      <td>1</td>\n",
       "      <td>79084.10</td>\n",
       "      <td>0</td>\n",
       "    </tr>\n",
       "    <tr>\n",
       "      <th>...</th>\n",
       "      <td>...</td>\n",
       "      <td>...</td>\n",
       "      <td>...</td>\n",
       "      <td>...</td>\n",
       "      <td>...</td>\n",
       "      <td>...</td>\n",
       "      <td>...</td>\n",
       "      <td>...</td>\n",
       "      <td>...</td>\n",
       "      <td>...</td>\n",
       "      <td>...</td>\n",
       "      <td>...</td>\n",
       "      <td>...</td>\n",
       "      <td>...</td>\n",
       "    </tr>\n",
       "    <tr>\n",
       "      <th>9995</th>\n",
       "      <td>9996</td>\n",
       "      <td>15606229</td>\n",
       "      <td>Obijiaku</td>\n",
       "      <td>771</td>\n",
       "      <td>France</td>\n",
       "      <td>Male</td>\n",
       "      <td>39</td>\n",
       "      <td>5.0</td>\n",
       "      <td>0.00</td>\n",
       "      <td>2</td>\n",
       "      <td>1</td>\n",
       "      <td>0</td>\n",
       "      <td>96270.64</td>\n",
       "      <td>0</td>\n",
       "    </tr>\n",
       "    <tr>\n",
       "      <th>9996</th>\n",
       "      <td>9997</td>\n",
       "      <td>15569892</td>\n",
       "      <td>Johnstone</td>\n",
       "      <td>516</td>\n",
       "      <td>France</td>\n",
       "      <td>Male</td>\n",
       "      <td>35</td>\n",
       "      <td>10.0</td>\n",
       "      <td>57369.61</td>\n",
       "      <td>1</td>\n",
       "      <td>1</td>\n",
       "      <td>1</td>\n",
       "      <td>101699.77</td>\n",
       "      <td>0</td>\n",
       "    </tr>\n",
       "    <tr>\n",
       "      <th>9997</th>\n",
       "      <td>9998</td>\n",
       "      <td>15584532</td>\n",
       "      <td>Liu</td>\n",
       "      <td>709</td>\n",
       "      <td>France</td>\n",
       "      <td>Female</td>\n",
       "      <td>36</td>\n",
       "      <td>7.0</td>\n",
       "      <td>0.00</td>\n",
       "      <td>1</td>\n",
       "      <td>0</td>\n",
       "      <td>1</td>\n",
       "      <td>42085.58</td>\n",
       "      <td>1</td>\n",
       "    </tr>\n",
       "    <tr>\n",
       "      <th>9998</th>\n",
       "      <td>9999</td>\n",
       "      <td>15682355</td>\n",
       "      <td>Sabbatini</td>\n",
       "      <td>772</td>\n",
       "      <td>Germany</td>\n",
       "      <td>Male</td>\n",
       "      <td>42</td>\n",
       "      <td>3.0</td>\n",
       "      <td>75075.31</td>\n",
       "      <td>2</td>\n",
       "      <td>1</td>\n",
       "      <td>0</td>\n",
       "      <td>92888.52</td>\n",
       "      <td>1</td>\n",
       "    </tr>\n",
       "    <tr>\n",
       "      <th>9999</th>\n",
       "      <td>10000</td>\n",
       "      <td>15628319</td>\n",
       "      <td>Walker</td>\n",
       "      <td>792</td>\n",
       "      <td>France</td>\n",
       "      <td>Female</td>\n",
       "      <td>28</td>\n",
       "      <td>NaN</td>\n",
       "      <td>130142.79</td>\n",
       "      <td>1</td>\n",
       "      <td>1</td>\n",
       "      <td>0</td>\n",
       "      <td>38190.78</td>\n",
       "      <td>0</td>\n",
       "    </tr>\n",
       "  </tbody>\n",
       "</table>\n",
       "<p>10000 rows × 14 columns</p>\n",
       "</div>"
      ],
      "text/plain": [
       "      RowNumber  CustomerId    Surname  CreditScore Geography  Gender  Age  \\\n",
       "0             1    15634602   Hargrave          619    France  Female   42   \n",
       "1             2    15647311       Hill          608     Spain  Female   41   \n",
       "2             3    15619304       Onio          502    France  Female   42   \n",
       "3             4    15701354       Boni          699    France  Female   39   \n",
       "4             5    15737888   Mitchell          850     Spain  Female   43   \n",
       "...         ...         ...        ...          ...       ...     ...  ...   \n",
       "9995       9996    15606229   Obijiaku          771    France    Male   39   \n",
       "9996       9997    15569892  Johnstone          516    France    Male   35   \n",
       "9997       9998    15584532        Liu          709    France  Female   36   \n",
       "9998       9999    15682355  Sabbatini          772   Germany    Male   42   \n",
       "9999      10000    15628319     Walker          792    France  Female   28   \n",
       "\n",
       "      Tenure    Balance  NumOfProducts  HasCrCard  IsActiveMember  \\\n",
       "0        2.0       0.00              1          1               1   \n",
       "1        1.0   83807.86              1          0               1   \n",
       "2        8.0  159660.80              3          1               0   \n",
       "3        1.0       0.00              2          0               0   \n",
       "4        2.0  125510.82              1          1               1   \n",
       "...      ...        ...            ...        ...             ...   \n",
       "9995     5.0       0.00              2          1               0   \n",
       "9996    10.0   57369.61              1          1               1   \n",
       "9997     7.0       0.00              1          0               1   \n",
       "9998     3.0   75075.31              2          1               0   \n",
       "9999     NaN  130142.79              1          1               0   \n",
       "\n",
       "      EstimatedSalary  Exited  \n",
       "0           101348.88       1  \n",
       "1           112542.58       0  \n",
       "2           113931.57       1  \n",
       "3            93826.63       0  \n",
       "4            79084.10       0  \n",
       "...               ...     ...  \n",
       "9995         96270.64       0  \n",
       "9996        101699.77       0  \n",
       "9997         42085.58       1  \n",
       "9998         92888.52       1  \n",
       "9999         38190.78       0  \n",
       "\n",
       "[10000 rows x 14 columns]"
      ]
     },
     "execution_count": 3,
     "metadata": {},
     "output_type": "execute_result"
    }
   ],
   "source": [
    "df = pd.read_csv('/datasets/Churn.csv')\n",
    "df\n"
   ]
  },
  {
   "cell_type": "markdown",
   "metadata": {},
   "source": [
    "Данные содержат 10000 строк и 14 столбцов, среди которых 13 являются признаками, и 1 целевой признак в столбце `Excited`.\n"
   ]
  },
  {
   "cell_type": "markdown",
   "metadata": {},
   "source": [
    "Переименуем столбцы в соответствии со \"змеиным регистром\" для удобства"
   ]
  },
  {
   "cell_type": "code",
   "execution_count": 4,
   "metadata": {},
   "outputs": [
    {
     "data": {
      "text/plain": [
       "Index(['row_number', 'customer_id', 'surname', 'credit_score', 'geography',\n",
       "       'gender', 'age', 'tenure', 'balance', 'num_of_products', 'has_cr_card',\n",
       "       'is_active_member', 'estimated_salary', 'exited'],\n",
       "      dtype='object')"
      ]
     },
     "execution_count": 4,
     "metadata": {},
     "output_type": "execute_result"
    }
   ],
   "source": [
    "df = df.rename(columns={'RowNumber' : 'row_number', \n",
    "                            'CustomerId' : 'customer_id', \n",
    "                            'Surname' : 'surname',\n",
    "                            'CreditScore' : 'credit_score',\n",
    "                            'Geography' : 'geography',\n",
    "                            'Gender' : 'gender',\n",
    "                            'Age' : 'age',\n",
    "                            'Tenure' : 'tenure',\n",
    "                            'Balance' : 'balance',\n",
    "                            'NumOfProducts' : 'num_of_products',\n",
    "                            'HasCrCard' : 'has_cr_card',\n",
    "                            'IsActiveMember' : 'is_active_member',\n",
    "                            'EstimatedSalary' : 'estimated_salary',\n",
    "                            'Exited' : 'exited'}\n",
    "                  )\n",
    "df.columns"
   ]
  },
  {
   "cell_type": "markdown",
   "metadata": {},
   "source": [
    "Данные содержат как количественные признаки:\n",
    "\n",
    "    1) 'credit_score'\n",
    "    2) 'age'\n",
    "    3) 'tenure'\n",
    "    4) 'balance'\n",
    "    5) 'num_of_products'\n",
    "    6) 'estimated_salary'\n",
    "\n",
    "\n",
    "\n",
    "\n",
    "И категориальные признаки:\n",
    "\n",
    "    1) 'row_number'\n",
    "    2) 'customer_id'\n",
    "    3) 'surname'\n",
    "    4) 'geography'\n",
    "    5) 'gender'\n",
    "    6) 'has_cr_card'\n",
    "    7) 'is_active_member'\n",
    "    8) 'exited'"
   ]
  },
  {
   "cell_type": "markdown",
   "metadata": {},
   "source": [
    "Столбец `row_number` в целом не несет никакой информации (по сути это тот же индекс) и для построения моделей не нужен, поэтому удалим его из датафрейма"
   ]
  },
  {
   "cell_type": "code",
   "execution_count": 5,
   "metadata": {},
   "outputs": [],
   "source": [
    "df = df.drop(['row_number'], axis=1)"
   ]
  },
  {
   "cell_type": "markdown",
   "metadata": {},
   "source": [
    "Проверим таблицу на наличие явных дубликатов"
   ]
  },
  {
   "cell_type": "code",
   "execution_count": 6,
   "metadata": {},
   "outputs": [
    {
     "data": {
      "text/plain": [
       "0"
      ]
     },
     "execution_count": 6,
     "metadata": {},
     "output_type": "execute_result"
    }
   ],
   "source": [
    "df.duplicated().sum()"
   ]
  },
  {
   "cell_type": "markdown",
   "metadata": {},
   "source": [
    "Дубликатов нет"
   ]
  },
  {
   "cell_type": "code",
   "execution_count": 7,
   "metadata": {
    "scrolled": true
   },
   "outputs": [
    {
     "data": {
      "text/plain": [
       "(10000, 13)"
      ]
     },
     "execution_count": 7,
     "metadata": {},
     "output_type": "execute_result"
    }
   ],
   "source": [
    "df.shape"
   ]
  },
  {
   "cell_type": "markdown",
   "metadata": {},
   "source": [
    "### Наличие пропусков"
   ]
  },
  {
   "cell_type": "code",
   "execution_count": 8,
   "metadata": {
    "scrolled": true
   },
   "outputs": [
    {
     "name": "stdout",
     "output_type": "stream",
     "text": [
      "<class 'pandas.core.frame.DataFrame'>\n",
      "RangeIndex: 10000 entries, 0 to 9999\n",
      "Data columns (total 13 columns):\n",
      " #   Column            Non-Null Count  Dtype  \n",
      "---  ------            --------------  -----  \n",
      " 0   customer_id       10000 non-null  int64  \n",
      " 1   surname           10000 non-null  object \n",
      " 2   credit_score      10000 non-null  int64  \n",
      " 3   geography         10000 non-null  object \n",
      " 4   gender            10000 non-null  object \n",
      " 5   age               10000 non-null  int64  \n",
      " 6   tenure            9091 non-null   float64\n",
      " 7   balance           10000 non-null  float64\n",
      " 8   num_of_products   10000 non-null  int64  \n",
      " 9   has_cr_card       10000 non-null  int64  \n",
      " 10  is_active_member  10000 non-null  int64  \n",
      " 11  estimated_salary  10000 non-null  float64\n",
      " 12  exited            10000 non-null  int64  \n",
      "dtypes: float64(3), int64(7), object(3)\n",
      "memory usage: 1015.8+ KB\n"
     ]
    }
   ],
   "source": [
    "df.info()"
   ]
  },
  {
   "cell_type": "markdown",
   "metadata": {},
   "source": [
    "В столбце `Tenure` отсутствует 909 записей из 10000. Значения в столбце `Tenure` указывают на то, сколько лет человек является клиентом банка"
   ]
  },
  {
   "cell_type": "markdown",
   "metadata": {},
   "source": [
    "Для того, чтобы не допустить утечки данных, пропуски будем заполнять после разбиения на выборки"
   ]
  },
  {
   "cell_type": "markdown",
   "metadata": {},
   "source": [
    "### Разбиение на выборки"
   ]
  },
  {
   "cell_type": "markdown",
   "metadata": {},
   "source": [
    "Сделаем разбиение на 3 выборки - обучающую, валидационную и тестовую в соотношении 3:1:1\n",
    "\n",
    "Воспользуемся методом `train_test_split` дважды, поскольку он делит выборки на две части, а нам нужно получить три.\n",
    "\n",
    "Делим следующим образом:\n",
    "\n",
    "    1) Сначала создадим две выборки - тренировочную `df_train` и предварительную `df_pre` с размером 0.4 от исходной, которую следующим сплитом разделим пополам на еще на две половины.\n",
    "    2) Затем предварительную выборку `df_pre` разделим на две равных выборки - валидационную `df_valid` и тестовую `df_test`. Параметр `test_size` в этом случае будет равен 0.5"
   ]
  },
  {
   "cell_type": "code",
   "execution_count": 9,
   "metadata": {},
   "outputs": [],
   "source": [
    "df_train, df_pre = train_test_split(df, test_size=0.4, random_state=12345)\n",
    "df_valid, df_test = train_test_split(df_pre, test_size=0.5, random_state=12345)"
   ]
  },
  {
   "cell_type": "markdown",
   "metadata": {},
   "source": [
    "Посмотрим на размерности выборок"
   ]
  },
  {
   "cell_type": "code",
   "execution_count": 10,
   "metadata": {
    "scrolled": false
   },
   "outputs": [
    {
     "name": "stdout",
     "output_type": "stream",
     "text": [
      "(6000, 13)\n",
      "(2000, 13)\n",
      "(2000, 13)\n"
     ]
    }
   ],
   "source": [
    "print(df_train.shape)\n",
    "print(df_valid.shape)\n",
    "print(df_test.shape)"
   ]
  },
  {
   "cell_type": "code",
   "execution_count": 11,
   "metadata": {},
   "outputs": [
    {
     "data": {
      "text/html": [
       "<div>\n",
       "<style scoped>\n",
       "    .dataframe tbody tr th:only-of-type {\n",
       "        vertical-align: middle;\n",
       "    }\n",
       "\n",
       "    .dataframe tbody tr th {\n",
       "        vertical-align: top;\n",
       "    }\n",
       "\n",
       "    .dataframe thead th {\n",
       "        text-align: right;\n",
       "    }\n",
       "</style>\n",
       "<table border=\"1\" class=\"dataframe\">\n",
       "  <thead>\n",
       "    <tr style=\"text-align: right;\">\n",
       "      <th></th>\n",
       "      <th>customer_id</th>\n",
       "      <th>surname</th>\n",
       "      <th>credit_score</th>\n",
       "      <th>geography</th>\n",
       "      <th>gender</th>\n",
       "      <th>age</th>\n",
       "      <th>tenure</th>\n",
       "      <th>balance</th>\n",
       "      <th>num_of_products</th>\n",
       "      <th>has_cr_card</th>\n",
       "      <th>is_active_member</th>\n",
       "      <th>estimated_salary</th>\n",
       "      <th>exited</th>\n",
       "    </tr>\n",
       "  </thead>\n",
       "  <tbody>\n",
       "    <tr>\n",
       "      <th>0</th>\n",
       "      <td>15634602</td>\n",
       "      <td>Hargrave</td>\n",
       "      <td>619</td>\n",
       "      <td>France</td>\n",
       "      <td>Female</td>\n",
       "      <td>42</td>\n",
       "      <td>2.0</td>\n",
       "      <td>0.00</td>\n",
       "      <td>1</td>\n",
       "      <td>1</td>\n",
       "      <td>1</td>\n",
       "      <td>101348.88</td>\n",
       "      <td>1</td>\n",
       "    </tr>\n",
       "    <tr>\n",
       "      <th>1</th>\n",
       "      <td>15647311</td>\n",
       "      <td>Hill</td>\n",
       "      <td>608</td>\n",
       "      <td>Spain</td>\n",
       "      <td>Female</td>\n",
       "      <td>41</td>\n",
       "      <td>1.0</td>\n",
       "      <td>83807.86</td>\n",
       "      <td>1</td>\n",
       "      <td>0</td>\n",
       "      <td>1</td>\n",
       "      <td>112542.58</td>\n",
       "      <td>0</td>\n",
       "    </tr>\n",
       "    <tr>\n",
       "      <th>2</th>\n",
       "      <td>15619304</td>\n",
       "      <td>Onio</td>\n",
       "      <td>502</td>\n",
       "      <td>France</td>\n",
       "      <td>Female</td>\n",
       "      <td>42</td>\n",
       "      <td>8.0</td>\n",
       "      <td>159660.80</td>\n",
       "      <td>3</td>\n",
       "      <td>1</td>\n",
       "      <td>0</td>\n",
       "      <td>113931.57</td>\n",
       "      <td>1</td>\n",
       "    </tr>\n",
       "    <tr>\n",
       "      <th>3</th>\n",
       "      <td>15701354</td>\n",
       "      <td>Boni</td>\n",
       "      <td>699</td>\n",
       "      <td>France</td>\n",
       "      <td>Female</td>\n",
       "      <td>39</td>\n",
       "      <td>1.0</td>\n",
       "      <td>0.00</td>\n",
       "      <td>2</td>\n",
       "      <td>0</td>\n",
       "      <td>0</td>\n",
       "      <td>93826.63</td>\n",
       "      <td>0</td>\n",
       "    </tr>\n",
       "    <tr>\n",
       "      <th>4</th>\n",
       "      <td>15737888</td>\n",
       "      <td>Mitchell</td>\n",
       "      <td>850</td>\n",
       "      <td>Spain</td>\n",
       "      <td>Female</td>\n",
       "      <td>43</td>\n",
       "      <td>2.0</td>\n",
       "      <td>125510.82</td>\n",
       "      <td>1</td>\n",
       "      <td>1</td>\n",
       "      <td>1</td>\n",
       "      <td>79084.10</td>\n",
       "      <td>0</td>\n",
       "    </tr>\n",
       "    <tr>\n",
       "      <th>...</th>\n",
       "      <td>...</td>\n",
       "      <td>...</td>\n",
       "      <td>...</td>\n",
       "      <td>...</td>\n",
       "      <td>...</td>\n",
       "      <td>...</td>\n",
       "      <td>...</td>\n",
       "      <td>...</td>\n",
       "      <td>...</td>\n",
       "      <td>...</td>\n",
       "      <td>...</td>\n",
       "      <td>...</td>\n",
       "      <td>...</td>\n",
       "    </tr>\n",
       "    <tr>\n",
       "      <th>9995</th>\n",
       "      <td>15606229</td>\n",
       "      <td>Obijiaku</td>\n",
       "      <td>771</td>\n",
       "      <td>France</td>\n",
       "      <td>Male</td>\n",
       "      <td>39</td>\n",
       "      <td>5.0</td>\n",
       "      <td>0.00</td>\n",
       "      <td>2</td>\n",
       "      <td>1</td>\n",
       "      <td>0</td>\n",
       "      <td>96270.64</td>\n",
       "      <td>0</td>\n",
       "    </tr>\n",
       "    <tr>\n",
       "      <th>9996</th>\n",
       "      <td>15569892</td>\n",
       "      <td>Johnstone</td>\n",
       "      <td>516</td>\n",
       "      <td>France</td>\n",
       "      <td>Male</td>\n",
       "      <td>35</td>\n",
       "      <td>10.0</td>\n",
       "      <td>57369.61</td>\n",
       "      <td>1</td>\n",
       "      <td>1</td>\n",
       "      <td>1</td>\n",
       "      <td>101699.77</td>\n",
       "      <td>0</td>\n",
       "    </tr>\n",
       "    <tr>\n",
       "      <th>9997</th>\n",
       "      <td>15584532</td>\n",
       "      <td>Liu</td>\n",
       "      <td>709</td>\n",
       "      <td>France</td>\n",
       "      <td>Female</td>\n",
       "      <td>36</td>\n",
       "      <td>7.0</td>\n",
       "      <td>0.00</td>\n",
       "      <td>1</td>\n",
       "      <td>0</td>\n",
       "      <td>1</td>\n",
       "      <td>42085.58</td>\n",
       "      <td>1</td>\n",
       "    </tr>\n",
       "    <tr>\n",
       "      <th>9998</th>\n",
       "      <td>15682355</td>\n",
       "      <td>Sabbatini</td>\n",
       "      <td>772</td>\n",
       "      <td>Germany</td>\n",
       "      <td>Male</td>\n",
       "      <td>42</td>\n",
       "      <td>3.0</td>\n",
       "      <td>75075.31</td>\n",
       "      <td>2</td>\n",
       "      <td>1</td>\n",
       "      <td>0</td>\n",
       "      <td>92888.52</td>\n",
       "      <td>1</td>\n",
       "    </tr>\n",
       "    <tr>\n",
       "      <th>9999</th>\n",
       "      <td>15628319</td>\n",
       "      <td>Walker</td>\n",
       "      <td>792</td>\n",
       "      <td>France</td>\n",
       "      <td>Female</td>\n",
       "      <td>28</td>\n",
       "      <td>NaN</td>\n",
       "      <td>130142.79</td>\n",
       "      <td>1</td>\n",
       "      <td>1</td>\n",
       "      <td>0</td>\n",
       "      <td>38190.78</td>\n",
       "      <td>0</td>\n",
       "    </tr>\n",
       "  </tbody>\n",
       "</table>\n",
       "<p>10000 rows × 13 columns</p>\n",
       "</div>"
      ],
      "text/plain": [
       "      customer_id    surname  credit_score geography  gender  age  tenure  \\\n",
       "0        15634602   Hargrave           619    France  Female   42     2.0   \n",
       "1        15647311       Hill           608     Spain  Female   41     1.0   \n",
       "2        15619304       Onio           502    France  Female   42     8.0   \n",
       "3        15701354       Boni           699    France  Female   39     1.0   \n",
       "4        15737888   Mitchell           850     Spain  Female   43     2.0   \n",
       "...           ...        ...           ...       ...     ...  ...     ...   \n",
       "9995     15606229   Obijiaku           771    France    Male   39     5.0   \n",
       "9996     15569892  Johnstone           516    France    Male   35    10.0   \n",
       "9997     15584532        Liu           709    France  Female   36     7.0   \n",
       "9998     15682355  Sabbatini           772   Germany    Male   42     3.0   \n",
       "9999     15628319     Walker           792    France  Female   28     NaN   \n",
       "\n",
       "        balance  num_of_products  has_cr_card  is_active_member  \\\n",
       "0          0.00                1            1                 1   \n",
       "1      83807.86                1            0                 1   \n",
       "2     159660.80                3            1                 0   \n",
       "3          0.00                2            0                 0   \n",
       "4     125510.82                1            1                 1   \n",
       "...         ...              ...          ...               ...   \n",
       "9995       0.00                2            1                 0   \n",
       "9996   57369.61                1            1                 1   \n",
       "9997       0.00                1            0                 1   \n",
       "9998   75075.31                2            1                 0   \n",
       "9999  130142.79                1            1                 0   \n",
       "\n",
       "      estimated_salary  exited  \n",
       "0            101348.88       1  \n",
       "1            112542.58       0  \n",
       "2            113931.57       1  \n",
       "3             93826.63       0  \n",
       "4             79084.10       0  \n",
       "...                ...     ...  \n",
       "9995          96270.64       0  \n",
       "9996         101699.77       0  \n",
       "9997          42085.58       1  \n",
       "9998          92888.52       1  \n",
       "9999          38190.78       0  \n",
       "\n",
       "[10000 rows x 13 columns]"
      ]
     },
     "execution_count": 11,
     "metadata": {},
     "output_type": "execute_result"
    }
   ],
   "source": [
    "df"
   ]
  },
  {
   "cell_type": "markdown",
   "metadata": {},
   "source": [
    "Выделим признаки и целевой признак для каждой выборки"
   ]
  },
  {
   "cell_type": "code",
   "execution_count": 12,
   "metadata": {},
   "outputs": [],
   "source": [
    "target_train = df_train['exited']\n",
    "features_train = df_train.drop('exited', axis=1)\n",
    "\n",
    "target_valid = df_valid['exited']\n",
    "features_valid = df_valid.drop('exited', axis=1)\n",
    "\n",
    "target_test = df_test['exited']\n",
    "features_test = df_test.drop('exited', axis=1)"
   ]
  },
  {
   "cell_type": "code",
   "execution_count": 13,
   "metadata": {
    "scrolled": true
   },
   "outputs": [
    {
     "name": "stdout",
     "output_type": "stream",
     "text": [
      "(6000, 12)\n",
      "(6000,)\n",
      "(2000, 12)\n",
      "(2000,)\n",
      "(2000, 12)\n",
      "(2000,)\n"
     ]
    }
   ],
   "source": [
    "print(features_train.shape)\n",
    "print(target_train.shape)\n",
    "\n",
    "print(features_valid.shape)\n",
    "print(target_valid.shape)\n",
    "\n",
    "print(features_test.shape)\n",
    "print(target_test.shape)"
   ]
  },
  {
   "cell_type": "markdown",
   "metadata": {},
   "source": [
    "### Масштабирование количественных признаков"
   ]
  },
  {
   "cell_type": "code",
   "execution_count": 14,
   "metadata": {},
   "outputs": [],
   "source": [
    "from sklearn.preprocessing import StandardScaler"
   ]
  },
  {
   "cell_type": "code",
   "execution_count": 15,
   "metadata": {},
   "outputs": [],
   "source": [
    "numeric = ['credit_score', 'age', 'tenure', 'balance', 'num_of_products', 'estimated_salary']"
   ]
  },
  {
   "cell_type": "code",
   "execution_count": 16,
   "metadata": {},
   "outputs": [],
   "source": [
    "scaler = StandardScaler()\n",
    "scaler.fit(features_train[numeric])\n",
    "features_train[numeric] = scaler.transform(features_train[numeric])\n",
    "features_valid[numeric] = scaler.transform(features_valid[numeric])\n",
    "features_test[numeric] = scaler.transform(features_test[numeric])"
   ]
  },
  {
   "cell_type": "markdown",
   "metadata": {},
   "source": [
    "<div class=\"alert alert-block alert-success\">\n",
    "<b>Успех:</b> Отлично, что scaler обучен только на трейне\n",
    "</div>\n"
   ]
  },
  {
   "cell_type": "markdown",
   "metadata": {},
   "source": [
    "### Заполнение пропусков"
   ]
  },
  {
   "cell_type": "markdown",
   "metadata": {},
   "source": [
    "Для заполнения пропусков воспользуемся классом SimpleImputer (не совсем правда понимаю, что в этом смысле означает класс, но в документации написано class sklearn.impute.SimpleImputer). Для избежания утечки данных обучать SimpleImputer будем на тренировочной выборке подобно тому, как использовали масштабирование "
   ]
  },
  {
   "cell_type": "code",
   "execution_count": 17,
   "metadata": {
    "scrolled": true
   },
   "outputs": [
    {
     "name": "stdout",
     "output_type": "stream",
     "text": [
      "<class 'pandas.core.frame.DataFrame'>\n",
      "Int64Index: 6000 entries, 7479 to 4578\n",
      "Data columns (total 12 columns):\n",
      " #   Column            Non-Null Count  Dtype  \n",
      "---  ------            --------------  -----  \n",
      " 0   customer_id       6000 non-null   int64  \n",
      " 1   surname           6000 non-null   object \n",
      " 2   credit_score      6000 non-null   float64\n",
      " 3   geography         6000 non-null   object \n",
      " 4   gender            6000 non-null   object \n",
      " 5   age               6000 non-null   float64\n",
      " 6   tenure            5447 non-null   float64\n",
      " 7   balance           6000 non-null   float64\n",
      " 8   num_of_products   6000 non-null   float64\n",
      " 9   has_cr_card       6000 non-null   int64  \n",
      " 10  is_active_member  6000 non-null   int64  \n",
      " 11  estimated_salary  6000 non-null   float64\n",
      "dtypes: float64(6), int64(3), object(3)\n",
      "memory usage: 609.4+ KB\n"
     ]
    }
   ],
   "source": [
    "features_train.info()"
   ]
  },
  {
   "cell_type": "code",
   "execution_count": 18,
   "metadata": {},
   "outputs": [],
   "source": [
    "from sklearn.impute import SimpleImputer"
   ]
  },
  {
   "cell_type": "code",
   "execution_count": 19,
   "metadata": {},
   "outputs": [],
   "source": [
    "imp_median = SimpleImputer(missing_values=np.nan, strategy='median')\n",
    "imp_median.fit(features_train[numeric])\n",
    "\n",
    "features_train[numeric] = imp_median.transform(features_train[numeric])\n",
    "features_valid[numeric] = imp_median.transform(features_valid[numeric])\n",
    "features_test[numeric] = imp_median.transform(features_test[numeric])\n"
   ]
  },
  {
   "cell_type": "markdown",
   "metadata": {},
   "source": [
    "<div class=\"alert alert-block alert-success\">\n",
    "<b>Успех:</b> С импутером тоже все в порядке\n",
    "</div>\n"
   ]
  },
  {
   "cell_type": "code",
   "execution_count": 20,
   "metadata": {
    "scrolled": false
   },
   "outputs": [
    {
     "name": "stdout",
     "output_type": "stream",
     "text": [
      "<class 'pandas.core.frame.DataFrame'>\n",
      "Int64Index: 6000 entries, 7479 to 4578\n",
      "Data columns (total 12 columns):\n",
      " #   Column            Non-Null Count  Dtype  \n",
      "---  ------            --------------  -----  \n",
      " 0   customer_id       6000 non-null   int64  \n",
      " 1   surname           6000 non-null   object \n",
      " 2   credit_score      6000 non-null   float64\n",
      " 3   geography         6000 non-null   object \n",
      " 4   gender            6000 non-null   object \n",
      " 5   age               6000 non-null   float64\n",
      " 6   tenure            6000 non-null   float64\n",
      " 7   balance           6000 non-null   float64\n",
      " 8   num_of_products   6000 non-null   float64\n",
      " 9   has_cr_card       6000 non-null   int64  \n",
      " 10  is_active_member  6000 non-null   int64  \n",
      " 11  estimated_salary  6000 non-null   float64\n",
      "dtypes: float64(6), int64(3), object(3)\n",
      "memory usage: 609.4+ KB\n"
     ]
    }
   ],
   "source": [
    "features_train.info()"
   ]
  },
  {
   "cell_type": "code",
   "execution_count": 21,
   "metadata": {
    "scrolled": true
   },
   "outputs": [
    {
     "name": "stdout",
     "output_type": "stream",
     "text": [
      "<class 'pandas.core.frame.DataFrame'>\n",
      "Int64Index: 2000 entries, 8532 to 6895\n",
      "Data columns (total 12 columns):\n",
      " #   Column            Non-Null Count  Dtype  \n",
      "---  ------            --------------  -----  \n",
      " 0   customer_id       2000 non-null   int64  \n",
      " 1   surname           2000 non-null   object \n",
      " 2   credit_score      2000 non-null   float64\n",
      " 3   geography         2000 non-null   object \n",
      " 4   gender            2000 non-null   object \n",
      " 5   age               2000 non-null   float64\n",
      " 6   tenure            2000 non-null   float64\n",
      " 7   balance           2000 non-null   float64\n",
      " 8   num_of_products   2000 non-null   float64\n",
      " 9   has_cr_card       2000 non-null   int64  \n",
      " 10  is_active_member  2000 non-null   int64  \n",
      " 11  estimated_salary  2000 non-null   float64\n",
      "dtypes: float64(6), int64(3), object(3)\n",
      "memory usage: 203.1+ KB\n"
     ]
    }
   ],
   "source": [
    "features_valid.info()"
   ]
  },
  {
   "cell_type": "code",
   "execution_count": 22,
   "metadata": {
    "scrolled": true
   },
   "outputs": [
    {
     "name": "stdout",
     "output_type": "stream",
     "text": [
      "<class 'pandas.core.frame.DataFrame'>\n",
      "Int64Index: 2000 entries, 7041 to 3366\n",
      "Data columns (total 12 columns):\n",
      " #   Column            Non-Null Count  Dtype  \n",
      "---  ------            --------------  -----  \n",
      " 0   customer_id       2000 non-null   int64  \n",
      " 1   surname           2000 non-null   object \n",
      " 2   credit_score      2000 non-null   float64\n",
      " 3   geography         2000 non-null   object \n",
      " 4   gender            2000 non-null   object \n",
      " 5   age               2000 non-null   float64\n",
      " 6   tenure            2000 non-null   float64\n",
      " 7   balance           2000 non-null   float64\n",
      " 8   num_of_products   2000 non-null   float64\n",
      " 9   has_cr_card       2000 non-null   int64  \n",
      " 10  is_active_member  2000 non-null   int64  \n",
      " 11  estimated_salary  2000 non-null   float64\n",
      "dtypes: float64(6), int64(3), object(3)\n",
      "memory usage: 203.1+ KB\n"
     ]
    }
   ],
   "source": [
    "features_test.info()"
   ]
  },
  {
   "cell_type": "markdown",
   "metadata": {},
   "source": [
    "Видно, что пропусков во всех выборках больше нет"
   ]
  },
  {
   "cell_type": "markdown",
   "metadata": {},
   "source": [
    "### Кодирование категориальных признаков"
   ]
  },
  {
   "cell_type": "markdown",
   "metadata": {},
   "source": [
    "Во всей таблице данных есть категориальные столбцы, выпишу их еще раз:\n",
    "\n",
    "    1) 'row_number'\n",
    "    2) 'customer_id'\n",
    "    3) 'surname'\n",
    "    4) 'geography'\n",
    "    5) 'gender'\n",
    "    6) 'has_cr_card'\n",
    "    7) 'is_active_member'\n",
    "    8) 'exited'"
   ]
  },
  {
   "cell_type": "markdown",
   "metadata": {},
   "source": [
    "Во-первых, на мой взгляд для обучения финальной модели столбцы 1) 'row_number' 2) 'customer_id' 3) 'surname' не нужны. ('row_number' был уже удален ранее). Удалим эти признаки не только из тренировочной выборки, но и из валидационной и тестовой\n",
    "    "
   ]
  },
  {
   "cell_type": "code",
   "execution_count": 23,
   "metadata": {
    "scrolled": true
   },
   "outputs": [],
   "source": [
    "features_train = features_train.drop(['customer_id', 'surname'], axis=1)\n",
    "\n",
    "features_valid = features_valid.drop(['customer_id', 'surname'], axis=1)\n",
    "\n",
    "features_test = features_test.drop(['customer_id', 'surname'], axis=1)"
   ]
  },
  {
   "cell_type": "markdown",
   "metadata": {},
   "source": [
    "<div class=\"alert alert-block alert-success\">\n",
    "<b>Успех:</b> Удалить неинформативные признаки - верное решение.\n",
    "</div>"
   ]
  },
  {
   "cell_type": "markdown",
   "metadata": {},
   "source": [
    "Во-вторых, есть признаки 'geography' и 'gender', которые нужно закодировать, сделаем это в этом разделе. Для этого воспользуемся методом get_dummies (прямого кодирования) и укажаем параметр `drop_first=True`, чтобы избежать dummy-ловушки"
   ]
  },
  {
   "cell_type": "code",
   "execution_count": 24,
   "metadata": {},
   "outputs": [],
   "source": [
    "features_train = pd.get_dummies(features_train, drop_first=True)"
   ]
  },
  {
   "cell_type": "code",
   "execution_count": 25,
   "metadata": {},
   "outputs": [],
   "source": [
    "features_valid = pd.get_dummies(features_valid, drop_first=True)"
   ]
  },
  {
   "cell_type": "code",
   "execution_count": 26,
   "metadata": {},
   "outputs": [],
   "source": [
    "features_test = pd.get_dummies(features_test, drop_first=True)"
   ]
  },
  {
   "cell_type": "markdown",
   "metadata": {},
   "source": [
    "<div class=\"alert alert-block alert-info\">\n",
    "    \n",
    "\n",
    "<b>Совет:</b>  \n",
    "\n",
    "1) Если решено использованть инструмент `pd.get_dummies()` после разбиения - то нужно обязательно проверять соответствие категорий. Может оказаться, что в тренировочной и валидационной/тестовой выборке разные категории и если  категорий оказалось разное количество - то код упадет. А если категории разные, но их количество равное, то код не упадет, но будет допущена грубая ошибка.\n",
    "  \n",
    "2) От get_dummies лучше уходить в сторону OneHotEncoder от sklearn. \n",
    "    \n",
    "Здесь более подробно описываются все нюансы https://colab.research.google.com/drive/1_gAMXcQKoCShB_l8FNtYEejMnosm9mvt?usp=sharing\n",
    "</div>\n",
    "\n"
   ]
  },
  {
   "cell_type": "markdown",
   "metadata": {},
   "source": [
    "### Корреляция данных"
   ]
  },
  {
   "cell_type": "markdown",
   "metadata": {},
   "source": [
    "Для проверки корреляции сначала объединим преобразованную таблицу `features_train` c `target_train` в `df_train`.\n"
   ]
  },
  {
   "cell_type": "code",
   "execution_count": 27,
   "metadata": {},
   "outputs": [],
   "source": [
    "df_train = features_train"
   ]
  },
  {
   "cell_type": "code",
   "execution_count": 28,
   "metadata": {},
   "outputs": [],
   "source": [
    "df_train['exited'] = target_train"
   ]
  },
  {
   "cell_type": "code",
   "execution_count": 29,
   "metadata": {},
   "outputs": [],
   "source": [
    "features_train = features_train.drop('exited', axis=1)"
   ]
  },
  {
   "cell_type": "code",
   "execution_count": 30,
   "metadata": {
    "scrolled": true
   },
   "outputs": [
    {
     "data": {
      "image/png": "[encoded data removed]",
      "text/plain": [
       "<Figure size 1296x720 with 2 Axes>"
      ]
     },
     "metadata": {
      "needs_background": "light"
     },
     "output_type": "display_data"
    }
   ],
   "source": [
    "plt.figure(figsize=(18, 10));\n",
    "ax = sns.heatmap(df_train.phik_matrix(interval_cols=numeric), annot = True, cmap= 'coolwarm', linecolor='black', linewidth=1);\n",
    "ax.set_xticklabels(ax.get_xticklabels(),rotation = 30);"
   ]
  },
  {
   "cell_type": "markdown",
   "metadata": {},
   "source": [
    "<div class=\"alert alert-block alert-success\">\n",
    "<b>Успех:</b> Фик - отличный для аналитики инструмент!\n",
    "</div>\n"
   ]
  },
  {
   "cell_type": "markdown",
   "metadata": {},
   "source": [
    "У признаков наибольшая корреляция друг с другом наблюдается у \n",
    "\n",
    "    `balance`-`geography_Germany` (0.57)\n",
    "    `geography_Germany` - `geography_Spain` (0.5)\n",
    "    `balance` - `num_of_products` (0.38)\n",
    "    \n",
    "Наибольшая корреляция целевого признака `exited` с признаком наблюдается с признаками:\n",
    "\n",
    "    `age` (0.48)\n",
    "    `num_of_products` (0.57)\n",
    "    "
   ]
  },
  {
   "cell_type": "markdown",
   "metadata": {},
   "source": [
    "Тем не менее удалять признаки не будем на этом этапе из выборки"
   ]
  },
  {
   "cell_type": "markdown",
   "metadata": {},
   "source": [
    "<div class=\"alert alert-block alert-info\">\n",
    "<b>Совет:</b>  Советую обратить внимание на библиотеки sweetviz и pandas_profiling помогут в проведении более тщательного EDA анализа. Исследовательский анализ можно делать и с помощью ручного вызова функций дефолтных библиотек. Данные библиотеки хороши для максимизации комфорта презентации результатов анализа бизнес-пользователям. \n",
    "    \n",
    "Очень просты в использоовании, на вход кладется датафрейм: pandas_profiling.ProfileReport(df) \n",
    "\n",
    "</div>\n"
   ]
  },
  {
   "cell_type": "markdown",
   "metadata": {},
   "source": [
    "## Исследование задачи"
   ]
  },
  {
   "cell_type": "markdown",
   "metadata": {},
   "source": [
    "В этом разделе подберем гиперпараметры для моделей, а также проверим какие значения они показывают при гиперпараметре `class_weight = 'balanced'`"
   ]
  },
  {
   "cell_type": "markdown",
   "metadata": {},
   "source": [
    "### Модель решающего дерева"
   ]
  },
  {
   "cell_type": "markdown",
   "metadata": {},
   "source": [
    "Подберем ориентировочные гиперпараметры без изменения баланса классов. Воспользуемся данными из предыдущего проекта, где было показано, что на точность модели в первую очередь влияют `max_depth` и `max_leaf_nodes`. Их и будем менять"
   ]
  },
  {
   "cell_type": "code",
   "execution_count": 31,
   "metadata": {
    "scrolled": true
   },
   "outputs": [
    {
     "name": "stdout",
     "output_type": "stream",
     "text": [
      "Лучшая длина дерева: 6\n",
      "Лучшая max_leaf_nodes: 23\n",
      "f1_score лучшей модели: 0.5829596412556054\n",
      "auc_score лучшей модели: 0.8286003121238333\n"
     ]
    }
   ],
   "source": [
    "best_model_tree = None\n",
    "best_f1_tree = 0\n",
    "best_auc_roc_tree = 0\n",
    "\n",
    "for depth in range(1, 7):\n",
    "    for mln in range(20, 25):             \n",
    "        model_tree = DecisionTreeClassifier(\n",
    "                                       random_state=12345,\n",
    "                                       max_depth=depth,\n",
    "                                       max_leaf_nodes=mln,\n",
    "                                       #class_weight='balanced'\n",
    "                                       )\n",
    "        model_tree.fit(features_train, target_train)\n",
    "        predictions_valid = model_tree.predict(features_valid)\n",
    "        result_f1 = f1_score(target_valid, predictions_valid)\n",
    "        \n",
    "        probabilities_valid = model_tree.predict_proba(features_valid)\n",
    "        probabilities_one_valid = probabilities_valid[:, 1]\n",
    "        result_auc_roc = roc_auc_score(target_valid, probabilities_one_valid)\n",
    "        \n",
    "        \n",
    "        if result_f1 > best_f1_tree:\n",
    "            best_model_tree = model_tree \n",
    "            best_f1_tree = result_f1\n",
    "            best_auc_roc_tree = result_auc_roc\n",
    "            best_depth = depth \n",
    "            best_mln = mln\n",
    "                                    \n",
    "                                    \n",
    "print('Лучшая длина дерева:', best_depth)\n",
    "print('Лучшая max_leaf_nodes:', best_mln)\n",
    "print('f1_score лучшей модели:', best_f1_tree)\n",
    "print('auc_score лучшей модели:', best_auc_roc_tree)\n"
   ]
  },
  {
   "cell_type": "markdown",
   "metadata": {},
   "source": [
    "При `max_depth = 6` и `max_leaf_nodes = 23` значение `f1_score = 0.582`. "
   ]
  },
  {
   "cell_type": "markdown",
   "metadata": {},
   "source": [
    "### Модель случайного леса"
   ]
  },
  {
   "cell_type": "code",
   "execution_count": 32,
   "metadata": {
    "scrolled": true
   },
   "outputs": [
    {
     "name": "stdout",
     "output_type": "stream",
     "text": [
      "Лучшая длина дерева: 9\n",
      "Лучший n_estimators: 200\n",
      "f1_score лучшей модели: 0.573208722741433\n",
      "auc_score лучшей модели: 0.8533728730514942\n",
      "CPU times: user 6.15 s, sys: 35.2 ms, total: 6.18 s\n",
      "Wall time: 6.19 s\n"
     ]
    }
   ],
   "source": [
    "%%time\n",
    "best_model_forest = None\n",
    "best_f1_forest = 0\n",
    "best_auc_roc_forest = 0\n",
    "\n",
    "for depth in range(8,10):\n",
    "    #for mln in range(5, 10):\n",
    "    for n in range(200,301,100):\n",
    "\n",
    "        model_forest = RandomForestClassifier(\n",
    "                                       random_state=12345,\n",
    "                                       max_depth=depth,\n",
    "                                      # max_leaf_nodes=mln,\n",
    "                                       n_estimators = n,\n",
    "                                       #class_weight='balanced'\n",
    "                                       )\n",
    "        model_forest.fit(features_train, target_train)\n",
    "        predictions_valid = model_forest.predict(features_valid)\n",
    "        result_f1 = f1_score(target_valid, predictions_valid)\n",
    "\n",
    "        probabilities_valid = model_forest.predict_proba(features_valid)\n",
    "        probabilities_one_valid = probabilities_valid[:, 1]\n",
    "        result_auc_roc = roc_auc_score(target_valid, probabilities_one_valid)\n",
    "\n",
    "\n",
    "        if result_f1 > best_f1_forest:\n",
    "            best_model_forest = model_forest \n",
    "            best_f1_forest = result_f1\n",
    "            best_auc_roc_forest = result_auc_roc\n",
    "            best_depth = depth \n",
    "            #best_mln = mln\n",
    "            best_n = n\n",
    "                                    \n",
    "                                    \n",
    "print('Лучшая длина дерева:', best_depth)\n",
    "#print('Лучшая max_leaf_nodes:', best_mln)\n",
    "print('Лучший n_estimators:', best_n)\n",
    "print('f1_score лучшей модели:', best_f1_forest)\n",
    "print('auc_score лучшей модели:', best_auc_roc_forest)"
   ]
  },
  {
   "cell_type": "markdown",
   "metadata": {},
   "source": [
    "Для модели случайного леса с `max_depth = 9` и `n_estimators = 200` получили `f1-score = 0.573`, а `auc_score = 0.853`"
   ]
  },
  {
   "cell_type": "markdown",
   "metadata": {},
   "source": [
    "### Модель логистической регрессии"
   ]
  },
  {
   "cell_type": "code",
   "execution_count": 33,
   "metadata": {},
   "outputs": [
    {
     "name": "stdout",
     "output_type": "stream",
     "text": [
      "C: 0.39\n",
      "penalty: l1\n",
      "solver: liblinear\n",
      "f1_score лучшей модели: 0.33276740237691\n",
      "auc_score лучшей модели: 0.759076391703313\n",
      "CPU times: user 1.08 s, sys: 1.41 s, total: 2.49 s\n",
      "Wall time: 2.43 s\n"
     ]
    }
   ],
   "source": [
    "%%time\n",
    "best_model_logistic = None\n",
    "best_f1_logistic = 0\n",
    "best_auc_roc_logistic = 0\n",
    "\n",
    "solv = ['lbfgs', 'liblinear']\n",
    "\n",
    "cn = np.arange(0.35, 0.41, 0.01)\n",
    "cn = np.round(cn, 2)\n",
    "\n",
    "for sol in solv:\n",
    "    if sol == 'lbfgs':\n",
    "        pen =['l2']\n",
    "    elif sol == 'liblinear':\n",
    "        pen = ['l1', 'l2']\n",
    "        for p in pen:\n",
    "            for c in cn:\n",
    "\n",
    "                model_logistic = LogisticRegression(\n",
    "                                               random_state=12345,\n",
    "                                               solver=sol,\n",
    "                                               penalty=p,\n",
    "                                               max_iter=1000,\n",
    "                                               C=c,\n",
    "                                               #class_weight='balanced'\n",
    "                                               )\n",
    "                model_logistic.fit(features_train, target_train)\n",
    "                predictions_valid = model_logistic.predict(features_valid)\n",
    "                result_f1 = f1_score(target_valid, predictions_valid)\n",
    "\n",
    "                probabilities_valid = model_logistic.predict_proba(features_valid)\n",
    "                probabilities_one_valid = probabilities_valid[:, 1]\n",
    "                result_auc_roc = roc_auc_score(target_valid, probabilities_one_valid)\n",
    "\n",
    "\n",
    "                if result_f1 > best_f1_logistic:\n",
    "                    best_model_logistic = model_logistic \n",
    "                    best_f1_logistic = result_f1\n",
    "                    best_auc_roc_logistic = result_auc_roc\n",
    "                    best_c = c\n",
    "                    best_penalty=p\n",
    "                    best_solver=sol\n",
    "                                    \n",
    "                                    \n",
    "print('C:', best_c)\n",
    "print('penalty:', best_penalty)\n",
    "print('solver:', best_solver)\n",
    "print('f1_score лучшей модели:', best_f1_logistic)\n",
    "print('auc_score лучшей модели:', best_auc_roc_logistic)"
   ]
  },
  {
   "cell_type": "markdown",
   "metadata": {},
   "source": [
    "Для модели логистической c гиперпараметрами `C = 0.39`, `solver = 'liblinear'`, `penalty='l1'` получим `f1_score = 0.332` и `auc_score = 0.75`, что заметно меньше, чем у модели решающего дерева и случайного леса"
   ]
  },
  {
   "cell_type": "markdown",
   "metadata": {},
   "source": [
    "### Вывод по моделям без учета дизбаланса"
   ]
  },
  {
   "cell_type": "markdown",
   "metadata": {},
   "source": [
    "Модели с гиперпараметром `class_weight = 'balanced'` без изменения размера выборок (которое будет в следующем разделе) дают результат f1-score лучше для этого набора данных. \n",
    "\n",
    "Более того, с учетом  `class_weight = 'balanced'` модели решающего дерева и случайного леса уже дают f1-score больше 0.59\n",
    "\n",
    "лучшая рассмотренная модель логистической регрессии не позволила получить f1-score более 0.493. Однако не вполне понятно как с ней работать дальше"
   ]
  },
  {
   "cell_type": "markdown",
   "metadata": {},
   "source": [
    "<div class=\"alert alert-block alert-danger\">\n",
    "    \n",
    "\n",
    "<b>Ошибка:</b> \n",
    "    \n",
    "1) `class_weight='balanced'` - полноценный метод для борьбы с дисбаланасом, поэтому его использование должно быть в разделе ниже - `Борьба с дисбалансом`\n",
    "    \n",
    "2) Прежде чем переходить к борьбе с дисбалансом, нужно изучить соотношение классов целевого признака\n",
    "</div>\n",
    "\n"
   ]
  },
  {
   "cell_type": "markdown",
   "metadata": {},
   "source": [
    "<div class=\"alert alert-block alert-warning\">\n",
    "<b>Изменения:</b> \n",
    "\n",
    "1) Решение с добавлением гиперпараметра `class_weight = 'balanced' вынесено в отдельный пункт 3.2`\n",
    "\n",
    "2) Соотношение классов добавил в пункте 3.1   \n",
    "    \n",
    "</div>\n"
   ]
  },
  {
   "cell_type": "markdown",
   "metadata": {},
   "source": [
    "<div class=\"alert alert-block alert-success\">\n",
    "    \n",
    "<b>Успех[2]:</b> 👍\n",
    "</div>\n"
   ]
  },
  {
   "cell_type": "markdown",
   "metadata": {},
   "source": [
    "## Борьба с дисбалансом"
   ]
  },
  {
   "cell_type": "markdown",
   "metadata": {},
   "source": [
    "### Оценка дисбаланса"
   ]
  },
  {
   "cell_type": "markdown",
   "metadata": {},
   "source": [
    "Посмотрим во сколько раз количество целевых признаков со значением 0 превосходит количество целевых признаков со значением 0"
   ]
  },
  {
   "cell_type": "code",
   "execution_count": 34,
   "metadata": {
    "scrolled": true
   },
   "outputs": [
    {
     "data": {
      "text/plain": [
       "0    4804\n",
       "1    1196\n",
       "Name: exited, dtype: int64"
      ]
     },
     "execution_count": 34,
     "metadata": {},
     "output_type": "execute_result"
    }
   ],
   "source": [
    "target_train.value_counts()"
   ]
  },
  {
   "cell_type": "markdown",
   "metadata": {},
   "source": [
    "Ответ: почти 4.02 раза отрицательных признаков больше, чем положительных"
   ]
  },
  {
   "cell_type": "markdown",
   "metadata": {},
   "source": [
    "Обозначим это число как `disbalance`, чтобы в дальнейшем использовать для увеличения выборки"
   ]
  },
  {
   "cell_type": "code",
   "execution_count": 35,
   "metadata": {},
   "outputs": [
    {
     "data": {
      "text/plain": [
       "4"
      ]
     },
     "execution_count": 35,
     "metadata": {},
     "output_type": "execute_result"
    }
   ],
   "source": [
    "disbalance = target_train.value_counts()[0] / target_train.value_counts()[1]\n",
    "round(disbalance)"
   ]
  },
  {
   "cell_type": "markdown",
   "metadata": {},
   "source": []
  },
  {
   "cell_type": "markdown",
   "metadata": {},
   "source": [
    "### Добавление баланса классов"
   ]
  },
  {
   "cell_type": "markdown",
   "metadata": {},
   "source": [
    "Добавим `class_weight='balanced'`"
   ]
  },
  {
   "cell_type": "markdown",
   "metadata": {},
   "source": [
    "#### Решающее дерево"
   ]
  },
  {
   "cell_type": "code",
   "execution_count": 36,
   "metadata": {},
   "outputs": [
    {
     "name": "stdout",
     "output_type": "stream",
     "text": [
      "Лучшая длина дерева: 5\n",
      "Лучшая max_leaf_nodes: 20\n",
      "f1_score лучшей модели: 0.6010471204188481\n",
      "auc_score лучшей модели: 0.8346378819131498\n"
     ]
    }
   ],
   "source": [
    "# c балансом классов\n",
    "best_model_tree = None\n",
    "best_f1_tree = 0\n",
    "best_auc_roc_tree = 0\n",
    "\n",
    "for depth in range(1, 10):\n",
    "    for mln in range(20, 22):             \n",
    "        model_tree = DecisionTreeClassifier(\n",
    "                                       random_state=12345,\n",
    "                                       max_depth=depth,\n",
    "                                       max_leaf_nodes=mln,\n",
    "                                       class_weight='balanced'\n",
    "                                       )\n",
    "        model_tree.fit(features_train, target_train)\n",
    "        predictions_valid = model_tree.predict(features_valid)\n",
    "        result_f1 = f1_score(target_valid, predictions_valid)\n",
    "        \n",
    "        probabilities_valid = model_tree.predict_proba(features_valid)\n",
    "        probabilities_one_valid = probabilities_valid[:, 1]\n",
    "        result_auc_roc = roc_auc_score(target_valid, probabilities_one_valid)\n",
    "        \n",
    "        \n",
    "        if result_f1 > best_f1_tree:\n",
    "            best_model_tree = model_tree \n",
    "            best_f1_tree = result_f1\n",
    "            best_auc_roc_tree = result_auc_roc\n",
    "            best_depth = depth \n",
    "            best_mln = mln\n",
    "                                    \n",
    "                                    \n",
    "print('Лучшая длина дерева:', best_depth)\n",
    "print('Лучшая max_leaf_nodes:', best_mln)\n",
    "print('f1_score лучшей модели:', best_f1_tree)\n",
    "print('auc_score лучшей модели:', best_auc_roc_tree)"
   ]
  },
  {
   "cell_type": "markdown",
   "metadata": {},
   "source": [
    "Если добавить `class_weight='balanced'`, то `f1_score = 0.601` при `max_depth = 5` и `max_leaf_nodes = 2`"
   ]
  },
  {
   "cell_type": "markdown",
   "metadata": {},
   "source": [
    "#### Случайный лес"
   ]
  },
  {
   "cell_type": "code",
   "execution_count": 37,
   "metadata": {},
   "outputs": [
    {
     "name": "stdout",
     "output_type": "stream",
     "text": [
      "Лучшая длина дерева: 9\n",
      "Лучший n_estimators: 300\n",
      "f1_score лучшей модели: 0.6365740740740742\n",
      "auc_score лучшей модели: 0.8572865187909435\n",
      "CPU times: user 7.26 s, sys: 48.7 ms, total: 7.31 s\n",
      "Wall time: 7.32 s\n"
     ]
    }
   ],
   "source": [
    "%%time\n",
    "# с балансом классов\n",
    "\n",
    "best_model_forest = None\n",
    "best_f1_forest = 0\n",
    "best_auc_roc_forest = 0\n",
    "\n",
    "for depth in range(8,10):\n",
    "    #for mln in range(5, 10):\n",
    "    for n in range(100,301,100):\n",
    "\n",
    "        model_forest = RandomForestClassifier(\n",
    "                                       random_state=12345,\n",
    "                                       max_depth=depth,\n",
    "                                      # max_leaf_nodes=mln,\n",
    "                                       n_estimators = n,\n",
    "                                       class_weight='balanced'\n",
    "                                       )\n",
    "        model_forest.fit(features_train, target_train)\n",
    "        predictions_valid = model_forest.predict(features_valid)\n",
    "        result_f1 = f1_score(target_valid, predictions_valid)\n",
    "\n",
    "        probabilities_valid = model_forest.predict_proba(features_valid)\n",
    "        probabilities_one_valid = probabilities_valid[:, 1]\n",
    "        result_auc_roc = roc_auc_score(target_valid, probabilities_one_valid)\n",
    "\n",
    "\n",
    "        if result_f1 > best_f1_forest:\n",
    "            best_model_forest = model_forest \n",
    "            best_f1_forest = result_f1\n",
    "            best_auc_roc_forest = result_auc_roc\n",
    "            best_depth = depth \n",
    "            #best_mln = mln\n",
    "            best_n = n\n",
    "                                    \n",
    "                                    \n",
    "print('Лучшая длина дерева:', best_depth)\n",
    "#print('Лучшая max_leaf_nodes:', best_mln)\n",
    "print('Лучший n_estimators:', best_n)\n",
    "print('f1_score лучшей модели:', best_f1_forest)\n",
    "print('auc_score лучшей модели:', best_auc_roc_forest)"
   ]
  },
  {
   "cell_type": "markdown",
   "metadata": {},
   "source": [
    "Добавляя гиперпараметр `class_weight = 'balanced'` при `max_depth=9` и `n_estimators=300` получаем `f1-score = 0.636`, `auc_score = 0.857`"
   ]
  },
  {
   "cell_type": "markdown",
   "metadata": {},
   "source": [
    "#### Логистическая регрессия"
   ]
  },
  {
   "cell_type": "code",
   "execution_count": 38,
   "metadata": {
    "scrolled": true
   },
   "outputs": [
    {
     "name": "stdout",
     "output_type": "stream",
     "text": [
      "C: 0.1\n",
      "penalty: l1\n",
      "solver: liblinear\n",
      "f1_score лучшей модели: 0.49355116079105765\n",
      "auc_score лучшей модели: 0.7658587337208669\n",
      "CPU times: user 969 ms, sys: 1.01 s, total: 1.98 s\n",
      "Wall time: 1.96 s\n"
     ]
    }
   ],
   "source": [
    "%%time\n",
    "# с балансом классов\n",
    "\n",
    "best_model_logistic = None\n",
    "best_f1_logistic = 0\n",
    "best_auc_roc_logistic = 0\n",
    "\n",
    "solv = ['lbfgs', 'liblinear']\n",
    "\n",
    "cn = np.arange(0.1, 0.15, 0.01)\n",
    "cn = np.round(cn, 2)\n",
    "\n",
    "for sol in solv:\n",
    "    if sol == 'lbfgs':\n",
    "        pen =['l2']\n",
    "    elif sol == 'liblinear':\n",
    "        pen = ['l1', 'l2']\n",
    "        for p in pen:\n",
    "            for c in cn:\n",
    "\n",
    "                model_logistic = LogisticRegression(\n",
    "                                               random_state=12345,\n",
    "                                               solver=sol,\n",
    "                                               penalty=p,\n",
    "                                               max_iter=1000,\n",
    "                                               C=c,\n",
    "                                               class_weight='balanced'\n",
    "                                               )\n",
    "                model_logistic.fit(features_train, target_train)\n",
    "                predictions_valid = model_logistic.predict(features_valid)\n",
    "                result_f1 = f1_score(target_valid, predictions_valid)\n",
    "\n",
    "                probabilities_valid = model_logistic.predict_proba(features_valid)\n",
    "                probabilities_one_valid = probabilities_valid[:, 1]\n",
    "                result_auc_roc = roc_auc_score(target_valid, probabilities_one_valid)\n",
    "\n",
    "\n",
    "                if result_f1 > best_f1_logistic:\n",
    "                    best_model_logistic = model_logistic \n",
    "                    best_f1_logistic = result_f1\n",
    "                    best_auc_roc_logistic = result_auc_roc\n",
    "                    best_c = c\n",
    "                    best_penalty=p\n",
    "                    best_solver=sol\n",
    "                                    \n",
    "                                    \n",
    "print('C:', best_c)\n",
    "print('penalty:', best_penalty)\n",
    "print('solver:', best_solver)\n",
    "print('f1_score лучшей модели:', best_f1_logistic)\n",
    "print('auc_score лучшей модели:', best_auc_roc_logistic)"
   ]
  },
  {
   "cell_type": "markdown",
   "metadata": {},
   "source": [
    "Добавление `class_weight = 'balanced'` при `С=0.1` и `solver = 'liblinear'`, `penalty='l1'` получаем `f1-score = 0.514`, `auc_score = 0.769`, что заметно выше, чем без этого гиперпараметра, но все равно ниже, чем у решающего дерева и случайного леса"
   ]
  },
  {
   "cell_type": "markdown",
   "metadata": {},
   "source": [
    "### Увеличение выборки"
   ]
  },
  {
   "cell_type": "markdown",
   "metadata": {},
   "source": [
    "Посмотрим для начала на количество признаков и целевых признаков с ответами \"1\" и \"0\""
   ]
  },
  {
   "cell_type": "code",
   "execution_count": 39,
   "metadata": {
    "scrolled": true
   },
   "outputs": [
    {
     "name": "stdout",
     "output_type": "stream",
     "text": [
      "(4804, 11)\n",
      "(1196, 11)\n",
      "(4804,)\n",
      "(1196,)\n"
     ]
    }
   ],
   "source": [
    "features_zeros = features_train[target_train == 0]\n",
    "features_ones = features_train[target_train == 1]\n",
    "target_zeros = target_train[target_train == 0]\n",
    "target_ones = target_train[target_train == 1]\n",
    "\n",
    "print(features_zeros.shape)\n",
    "print(features_ones.shape)\n",
    "print(target_zeros.shape)\n",
    "print(target_ones.shape)"
   ]
  },
  {
   "cell_type": "markdown",
   "metadata": {},
   "source": [
    "Объектов положительного класса приблизительно в 4 раза меньше, чем объектов отрицательного класса. \n",
    "\n",
    "Попробуем найти число, во сколько раз нужно изменить количество объектов положительного класса, чтобы повысить f1_score"
   ]
  },
  {
   "cell_type": "markdown",
   "metadata": {},
   "source": [
    "Для начала напишем фунция для масштабирования (увеличения) количества положительных признаков. После посмотрим как на это реагируют модели при найденных гиперпараметрах"
   ]
  },
  {
   "cell_type": "code",
   "execution_count": 40,
   "metadata": {},
   "outputs": [],
   "source": [
    "def upsample(features, target, repeat):\n",
    "    features_zeros = features[target == 0]\n",
    "    features_ones = features[target == 1]\n",
    "    target_zeros = target[target == 0]\n",
    "    target_ones = target[target == 1]\n",
    "\n",
    "    features_upsampled = pd.concat([features_zeros] + [features_ones] * repeat)\n",
    "    target_upsampled = pd.concat([target_zeros] + [target_ones] * repeat)\n",
    "    \n",
    "    features_upsampled, target_upsampled = shuffle(\n",
    "        features_upsampled, target_upsampled, random_state=12345)\n",
    "    \n",
    "    return features_upsampled, target_upsampled"
   ]
  },
  {
   "cell_type": "markdown",
   "metadata": {},
   "source": [
    "#### Модель решающего дерева"
   ]
  },
  {
   "cell_type": "markdown",
   "metadata": {},
   "source": [
    "Гиперпараметры для модели будем использовать те, что нашли выше для соответствующих моделей"
   ]
  },
  {
   "cell_type": "code",
   "execution_count": 41,
   "metadata": {
    "scrolled": true
   },
   "outputs": [
    {
     "name": "stdout",
     "output_type": "stream",
     "text": [
      "Лучший repeat: 2\n",
      "f1_score лучшей модели: 0.6056527590847913\n",
      "auc_score лучшей модели: 0.8303151785336229\n"
     ]
    }
   ],
   "source": [
    "best_model_tree = None\n",
    "best_f1_tree = 0\n",
    "best_auc_roc_tree = 0\n",
    "\n",
    "\n",
    "for repeat in np.arange(1, 15):\n",
    "    features_upsampled, target_upsampled = upsample(features_train, target_train, repeat)           \n",
    "    model_tree = DecisionTreeClassifier(\n",
    "                                   random_state=12345,\n",
    "                                   max_depth=6,\n",
    "                                   max_leaf_nodes=23,\n",
    "                                   #class_weight='balanced'\n",
    "                                   )\n",
    "    model_tree.fit(features_upsampled, target_upsampled)\n",
    "    predictions_valid = model_tree.predict(features_valid)\n",
    "    result_f1 = f1_score(target_valid, predictions_valid)\n",
    "\n",
    "    probabilities_valid = model_tree.predict_proba(features_valid)\n",
    "    probabilities_one_valid = probabilities_valid[:, 1]\n",
    "    result_auc_roc = roc_auc_score(target_valid, probabilities_one_valid)\n",
    "\n",
    "    if result_f1 > best_f1_tree:\n",
    "        best_model_tree = model_tree \n",
    "        best_f1_tree = result_f1\n",
    "        best_auc_roc_tree = result_auc_roc\n",
    "        best_repeat = repeat\n",
    "                                    \n",
    "                                    \n",
    "print('Лучший repeat:', best_repeat)\n",
    "\n",
    "print('f1_score лучшей модели:', best_f1_tree)\n",
    "print('auc_score лучшей модели:', best_auc_roc_tree)"
   ]
  },
  {
   "cell_type": "markdown",
   "metadata": {},
   "source": [
    "<div class=\"alert alert-block alert-danger\"> \n",
    "\n",
    "<b>Ошибка:</b>  Не нужно подбирать `repeat` - наша цель просто избавиться от дисбаланса, то есть использовать такой `repeat`, который устраняет дисбаланс. Проверить можно через `target_upsampled.value_counts()`\n",
    "</div>"
   ]
  },
  {
   "cell_type": "markdown",
   "metadata": {},
   "source": [
    "Видно, что наилучший результат получается, если количество объектов положительного класса увеличить в два раза. В таком случае f1_score = 0.606. Дальнейшее увеличение объектов положительного класса в 3 и более раз приводит к непрерывному снижению f1_score"
   ]
  },
  {
   "cell_type": "markdown",
   "metadata": {},
   "source": [
    "<div class=\"alert alert-block alert-warning\">\n",
    "<b>Изменения:</b> Были внесены следующие изменения. Код ниже измененный. Аналогично добавлю это в пунктах 3.3.2 и 3.3.3. Расчет соотношения классов показан в п.3.1.\n",
    "</div>"
   ]
  },
  {
   "cell_type": "markdown",
   "metadata": {},
   "source": [
    "\n",
    "<div class=\"alert alert-block alert-success\">\n",
    "    \n",
    "<b>Успех[2]:</b> Выбран правильный `repeat`\n",
    "</div>"
   ]
  },
  {
   "cell_type": "markdown",
   "metadata": {},
   "source": [
    "Теперь без определения значения `repeat`. Зададим значение `repeat` равное отношению классов. Его нашли в п. 3.1. и обозначили как `disbalance`. Поскольку функция работает только с целыми значениями, то округлим его методом round"
   ]
  },
  {
   "cell_type": "code",
   "execution_count": 42,
   "metadata": {},
   "outputs": [
    {
     "name": "stdout",
     "output_type": "stream",
     "text": [
      "f1_score модели: 0.5722222222222223\n",
      "auc_score модели: 0.8312429303346863\n"
     ]
    }
   ],
   "source": [
    "features_upsampled, target_upsampled = upsample(features_train, target_train, round(disbalance))    \n",
    "model_tree = DecisionTreeClassifier(\n",
    "                               random_state=12345,\n",
    "                               max_depth=6,\n",
    "                               max_leaf_nodes=23,\n",
    "                               #class_weight='balanced'\n",
    "                               )\n",
    "model_tree.fit(features_upsampled, target_upsampled)\n",
    "predictions_valid = model_tree.predict(features_valid)\n",
    "result_f1 = f1_score(target_valid, predictions_valid)\n",
    "\n",
    "probabilities_valid = model_tree.predict_proba(features_valid)\n",
    "probabilities_one_valid = probabilities_valid[:, 1]\n",
    "result_auc_roc = roc_auc_score(target_valid, probabilities_one_valid)\n",
    "\n",
    "\n",
    "print('f1_score модели:', result_f1)\n",
    "print('auc_score модели:', result_auc_roc)"
   ]
  },
  {
   "cell_type": "markdown",
   "metadata": {},
   "source": [
    "При увеличении количества положительных признаков в `disbalance = 4` раз:\n",
    "\n",
    "f1_score модели: 0.5722222222222223\n",
    "\n",
    "auc_score модели: 0.8312429303346863"
   ]
  },
  {
   "cell_type": "markdown",
   "metadata": {},
   "source": [
    "#### Модель случайного леса"
   ]
  },
  {
   "cell_type": "code",
   "execution_count": 43,
   "metadata": {
    "scrolled": true
   },
   "outputs": [
    {
     "name": "stdout",
     "output_type": "stream",
     "text": [
      "Лучший repeat: 3\n",
      "f1_score лучшей модели: 0.6276346604215456\n",
      "auc_score лучшей модели: 0.8563610353316919\n"
     ]
    }
   ],
   "source": [
    "best_model_forest = None\n",
    "best_f1_forest = 0\n",
    "best_auc_roc_forest = 0\n",
    "\n",
    "for repeat in np.arange(1, 15):\n",
    "    features_upsampled, target_upsampled = upsample(features_train, target_train, repeat)           \n",
    "    model_forest = RandomForestClassifier(\n",
    "                                   random_state=12345,\n",
    "                                   max_depth=9,\n",
    "                                   max_leaf_nodes=200,\n",
    "                                   #class_weight='balanced'\n",
    "                                   )\n",
    "    model_forest.fit(features_upsampled, target_upsampled)\n",
    "    predictions_valid = model_forest.predict(features_valid)\n",
    "    result_f1 = f1_score(target_valid, predictions_valid)\n",
    "\n",
    "    probabilities_valid = model_forest.predict_proba(features_valid)\n",
    "    probabilities_one_valid = probabilities_valid[:, 1]\n",
    "    result_auc_roc = roc_auc_score(target_valid, probabilities_one_valid)\n",
    "\n",
    "    if result_f1 > best_f1_forest:\n",
    "        best_model_forest = model_forest \n",
    "        best_f1_forest = result_f1\n",
    "        best_auc_roc_forest = result_auc_roc\n",
    "        best_repeat = repeat\n",
    "                                    \n",
    "                                    \n",
    "print('Лучший repeat:', best_repeat)\n",
    "\n",
    "print('f1_score лучшей модели:', best_f1_forest)\n",
    "print('auc_score лучшей модели:', best_auc_roc_forest)"
   ]
  },
  {
   "cell_type": "markdown",
   "metadata": {},
   "source": [
    "Лучший результат, равный `f1_score = 0.628` был получен для модели случайного леса при увеличении количества положительных признаков в 3 раза. "
   ]
  },
  {
   "cell_type": "markdown",
   "metadata": {},
   "source": [
    "<div class=\"alert alert-block alert-warning\">\n",
    "<b>Изменения:</b> ниже рассчет модели при repeat = round(disbalance) (который равен 4)\n",
    "</div>"
   ]
  },
  {
   "cell_type": "code",
   "execution_count": 44,
   "metadata": {},
   "outputs": [
    {
     "name": "stdout",
     "output_type": "stream",
     "text": [
      "f1_score модели: 0.6166842661034847\n",
      "auc_score модели: 0.8549743223706894\n"
     ]
    }
   ],
   "source": [
    "features_upsampled, target_upsampled = upsample(features_train, target_train, round(disbalance))           \n",
    "model_forest = RandomForestClassifier(\n",
    "                               random_state=12345,\n",
    "                               max_depth=9,\n",
    "                               max_leaf_nodes=200,\n",
    "                               #class_weight='balanced'\n",
    "                               )\n",
    "model_forest.fit(features_upsampled, target_upsampled)\n",
    "predictions_valid = model_forest.predict(features_valid)\n",
    "result_f1 = f1_score(target_valid, predictions_valid)\n",
    "\n",
    "probabilities_valid = model_forest.predict_proba(features_valid)\n",
    "probabilities_one_valid = probabilities_valid[:, 1]\n",
    "result_auc_roc = roc_auc_score(target_valid, probabilities_one_valid)\n",
    "                                    \n",
    "                                    \n",
    "print('f1_score модели:', result_f1)\n",
    "print('auc_score модели:', result_auc_roc)"
   ]
  },
  {
   "cell_type": "markdown",
   "metadata": {},
   "source": [
    "При увеличении количества положительных признаков в `disbalance = 4` раз:\n",
    "\n",
    "f1_score модели: 0.6166842661034847\n",
    "\n",
    "auc_score модели: 0.8549743223706894"
   ]
  },
  {
   "cell_type": "markdown",
   "metadata": {},
   "source": [
    "#### Логистическая регрессия"
   ]
  },
  {
   "cell_type": "code",
   "execution_count": 45,
   "metadata": {
    "scrolled": true
   },
   "outputs": [
    {
     "name": "stdout",
     "output_type": "stream",
     "text": [
      "Лучший repeat: 3\n",
      "f1_score лучшей модели: 0.4984984984984985\n",
      "auc_score лучшей модели: 0.7631019423054821\n"
     ]
    }
   ],
   "source": [
    "best_model_logistic = None\n",
    "best_f1_logistic = 0\n",
    "best_auc_roc_logistic = 0\n",
    "\n",
    "for repeat in np.arange(1, 15):\n",
    "    features_upsampled, target_upsampled = upsample(features_train, target_train, repeat)           \n",
    "    model_logistic = LogisticRegression(\n",
    "                                   random_state=12345,\n",
    "                                   solver='liblinear',\n",
    "                                   penalty='l1',\n",
    "                                   C=0.39,\n",
    "                                   #class_weight='balanced'\n",
    "                                   )\n",
    "    model_logistic.fit(features_upsampled, target_upsampled)\n",
    "    predictions_valid = model_logistic.predict(features_valid)\n",
    "    result_f1 = f1_score(target_valid, predictions_valid)\n",
    "\n",
    "    probabilities_valid = model_logistic.predict_proba(features_valid)\n",
    "    probabilities_one_valid = probabilities_valid[:, 1]\n",
    "    result_auc_roc = roc_auc_score(target_valid, probabilities_one_valid)\n",
    "\n",
    "    if result_f1 > best_f1_logistic:\n",
    "        best_model_logistic = model_logistic\n",
    "        best_f1_logistic = result_f1\n",
    "        best_auc_roc_logistic = result_auc_roc\n",
    "        best_repeat = repeat\n",
    "                                    \n",
    "                                    \n",
    "print('Лучший repeat:', best_repeat)\n",
    "\n",
    "print('f1_score лучшей модели:', best_f1_logistic)\n",
    "print('auc_score лучшей модели:', best_auc_roc_logistic)"
   ]
  },
  {
   "cell_type": "markdown",
   "metadata": {},
   "source": [
    "Лучший результат (`f1-score = 0.499`) для логистической регрессии получается в случае, если количество положительных признаков увеличивают в 3 раза"
   ]
  },
  {
   "cell_type": "markdown",
   "metadata": {},
   "source": [
    "<div class=\"alert alert-block alert-warning\">\n",
    "<b>Изменения (код ниже в этом пункте):</b> Подставим repeat = round(disbalance) = 4. В конце добавил пункт 3.3.4 с выводом\n",
    "</div>\n",
    "\n"
   ]
  },
  {
   "cell_type": "code",
   "execution_count": 46,
   "metadata": {
    "scrolled": true
   },
   "outputs": [
    {
     "name": "stdout",
     "output_type": "stream",
     "text": [
      "f1_score лучшей модели: 0.49056603773584906\n",
      "auc_score лучшей модели: 0.7639865956121196\n"
     ]
    }
   ],
   "source": [
    "features_upsampled, target_upsampled = upsample(features_train, target_train, round(disbalance))           \n",
    "model_logistic = LogisticRegression(\n",
    "                               random_state=12345,\n",
    "                               solver='liblinear',\n",
    "                               penalty='l1',\n",
    "                               C=0.39,\n",
    "                               #class_weight='balanced'\n",
    "                               )\n",
    "model_logistic.fit(features_upsampled, target_upsampled)\n",
    "predictions_valid = model_logistic.predict(features_valid)\n",
    "result_f1 = f1_score(target_valid, predictions_valid)\n",
    "\n",
    "probabilities_valid = model_logistic.predict_proba(features_valid)\n",
    "probabilities_one_valid = probabilities_valid[:, 1]\n",
    "result_auc_roc = roc_auc_score(target_valid, probabilities_one_valid)\n",
    "\n",
    "                                    \n",
    "                                    \n",
    "\n",
    "print('f1_score лучшей модели:', result_f1)\n",
    "print('auc_score лучшей модели:', result_auc_roc)"
   ]
  },
  {
   "cell_type": "markdown",
   "metadata": {},
   "source": [
    "При увеличении количества положительных признаков в `disbalance = 4` раз:\n",
    "\n",
    "f1_score: 0.49056603773584906\n",
    "\n",
    "auc_score: 0.7639865956121196"
   ]
  },
  {
   "cell_type": "markdown",
   "metadata": {},
   "source": [
    "#### Вывод по увеличению выборки"
   ]
  },
  {
   "cell_type": "markdown",
   "metadata": {},
   "source": [
    "Лучший результат по f1_score для всех моделей получается в случае, если умножать выборку в количество раз, отличное от `round(target_train.value_counts()[0]/target_train.value_counts()[1])`, которое равно 4\n",
    "\n",
    "Лучший `f1_score` для дерева был получен при `repeat = 2`.  \n",
    "Для леса и логистической регрессии при `repeat = 3`"
   ]
  },
  {
   "cell_type": "markdown",
   "metadata": {},
   "source": [
    "### Уменьшение выборки"
   ]
  },
  {
   "cell_type": "markdown",
   "metadata": {},
   "source": [
    "Попробуем наоборот уменьшить количество объектов отрицательного класса. Аналогично запишем функцию для уменьшения количества признаков отрицательного класса"
   ]
  },
  {
   "cell_type": "code",
   "execution_count": 47,
   "metadata": {},
   "outputs": [],
   "source": [
    "def downsample(features, target, fraction):\n",
    "    features_zeros = features[target == 0]\n",
    "    features_ones = features[target == 1]\n",
    "    target_zeros = target[target == 0]\n",
    "    target_ones = target[target == 1]\n",
    "\n",
    "    features_downsampled = pd.concat(\n",
    "        [features_zeros.sample(frac=fraction, random_state=12345)] + [features_ones])\n",
    "    target_downsampled = pd.concat(\n",
    "        [target_zeros.sample(frac=fraction, random_state=12345)] + [target_ones])\n",
    "    \n",
    "    features_downsampled, target_downsampled = shuffle(\n",
    "        features_downsampled, target_downsampled, random_state=12345)\n",
    "    \n",
    "    return features_downsampled, target_downsampled"
   ]
  },
  {
   "cell_type": "markdown",
   "metadata": {},
   "source": [
    "#### Решающее дерево"
   ]
  },
  {
   "cell_type": "code",
   "execution_count": 48,
   "metadata": {
    "scrolled": true
   },
   "outputs": [
    {
     "name": "stdout",
     "output_type": "stream",
     "text": [
      "f1_score лучшей модели: 0.6054054054054056\n",
      "auc_score лучшей модели: 0.8246065183070306\n",
      "Лучший frac: 0.42\n",
      "CPU times: user 2.08 s, sys: 9.76 ms, total: 2.09 s\n",
      "Wall time: 2.09 s\n"
     ]
    }
   ],
   "source": [
    "%%time\n",
    "best_model_tree = None\n",
    "best_f1_tree = 0\n",
    "best_auc_roc_tree = 0\n",
    "\n",
    "best_result = 0\n",
    "r = []\n",
    "f1 = []\n",
    "\n",
    "for frac in np.arange(0.1, 1.01, 0.01):\n",
    "    features_downsampled, target_downsampled = downsample(features_train, target_train, np.round(frac, 2))\n",
    "    \n",
    "    model_tree = DecisionTreeClassifier(\n",
    "                                   random_state=12345,\n",
    "                                   max_depth=6,\n",
    "                                   max_leaf_nodes=23,\n",
    "                                   #class_weight='balanced'\n",
    "                                   )\n",
    "    \n",
    "    model_tree.fit(features_downsampled, target_downsampled)\n",
    "    predictions_valid = model_tree.predict(features_valid)\n",
    "    result_f1 = f1_score(target_valid, predictions_valid)\n",
    "    \n",
    "    probabilities_valid = model_tree.predict_proba(features_valid)\n",
    "    probabilities_one_valid = probabilities_valid[:, 1]\n",
    "    result_auc_roc = roc_auc_score(target_valid, probabilities_one_valid)\n",
    "\n",
    "    \n",
    "    if result_f1 > best_f1_tree:\n",
    "        best_f1_tree = result_f1\n",
    "        best_model_tree = model_tree\n",
    "        best_auc_roc_tree = result_auc_roc\n",
    "        best_frac = np.round(frac, 2)\n",
    "        \n",
    "print('f1_score лучшей модели:', best_f1_tree)\n",
    "print('auc_score лучшей модели:', best_auc_roc_tree)\n",
    "print('Лучший frac:', best_frac)"
   ]
  },
  {
   "cell_type": "markdown",
   "metadata": {},
   "source": [
    "\n",
    "<div class=\"alert alert-block alert-danger\">\n",
    "\n",
    "<b>Ошибка:</b> Тоже самое с `fraction`\n",
    "</div>"
   ]
  },
  {
   "cell_type": "markdown",
   "metadata": {},
   "source": [
    "При тех же гиперпараметрах для решающего дерева `f1_score 0.605` при умножении количества отрицательных признаков на 0.42. (то есть уменьшение в 2.38 раза), при этом `auc-score = 0.824`"
   ]
  },
  {
   "cell_type": "markdown",
   "metadata": {},
   "source": [
    "<div class=\"alert alert-block alert-warning\">\n",
    "<b>Изменения (код ниже в этом пункте):</b> Подставим `frac = 1/disbalance) = 0.25` для уменьшения отрицательной выборки\n",
    "</div>"
   ]
  },
  {
   "cell_type": "code",
   "execution_count": 49,
   "metadata": {},
   "outputs": [
    {
     "name": "stdout",
     "output_type": "stream",
     "text": [
      "f1_score лучшей модели: 0.5829338446788112\n",
      "auc_score лучшей модели: 0.830781700832935\n",
      "CPU times: user 23 ms, sys: 357 µs, total: 23.3 ms\n",
      "Wall time: 21.4 ms\n"
     ]
    }
   ],
   "source": [
    "%%time\n",
    "\n",
    "features_downsampled, target_downsampled = downsample(features_train, target_train, (1/disbalance))\n",
    "\n",
    "model_tree = DecisionTreeClassifier(\n",
    "                               random_state=12345,\n",
    "                               max_depth=6,\n",
    "                               max_leaf_nodes=23,\n",
    "                               #class_weight='balanced'\n",
    "                               )\n",
    "\n",
    "model_tree.fit(features_downsampled, target_downsampled)\n",
    "predictions_valid = model_tree.predict(features_valid)\n",
    "result_f1 = f1_score(target_valid, predictions_valid)\n",
    "\n",
    "probabilities_valid = model_tree.predict_proba(features_valid)\n",
    "probabilities_one_valid = probabilities_valid[:, 1]\n",
    "result_auc_roc = roc_auc_score(target_valid, probabilities_one_valid)\n",
    "\n",
    "        \n",
    "print('f1_score лучшей модели:', result_f1)\n",
    "print('auc_score лучшей модели:',result_auc_roc)\n"
   ]
  },
  {
   "cell_type": "markdown",
   "metadata": {},
   "source": [
    "<div class=\"alert alert-block alert-success\">\n",
    "    \n",
    "<b>Успех[2]:</b> Выбран правильный `fraction`\n",
    "</div>\n",
    "\n"
   ]
  },
  {
   "cell_type": "markdown",
   "metadata": {},
   "source": [
    "При frac = 1/disbalance ~ 0.25\n",
    "\n",
    "f1_score : 0.5829338446788112\n",
    "\n",
    "auc_score: 0.830781700832935"
   ]
  },
  {
   "cell_type": "markdown",
   "metadata": {},
   "source": [
    "#### Случайный лес"
   ]
  },
  {
   "cell_type": "code",
   "execution_count": 50,
   "metadata": {},
   "outputs": [
    {
     "name": "stdout",
     "output_type": "stream",
     "text": [
      "f1_score лучшей модели: 0.6361556064073227\n",
      "auc_score лучшей модели: 0.8497314283294721\n",
      "Лучший frac: 0.38\n",
      "CPU times: user 9.06 s, sys: 61.4 ms, total: 9.12 s\n",
      "Wall time: 9.12 s\n"
     ]
    }
   ],
   "source": [
    "%%time\n",
    "best_model_forest = None\n",
    "best_f1_forest = 0\n",
    "best_auc_roc_forest = 0\n",
    "\n",
    "best_result = 0\n",
    "r = []\n",
    "f1 = []\n",
    "\n",
    "for frac in np.arange(0.3, 0.4, 0.01):\n",
    "    features_downsampled, target_downsampled = downsample(features_train, target_train, np.round(frac, 2))\n",
    "    \n",
    "    model_forest = RandomForestClassifier(\n",
    "                                   random_state=12345,\n",
    "                                   max_depth=9,\n",
    "                                   n_estimators=200,\n",
    "                                   #class_weight='balanced'\n",
    "                                   )\n",
    "    \n",
    "    model_forest.fit(features_downsampled, target_downsampled)\n",
    "    predictions_valid = model_forest.predict(features_valid)\n",
    "    result_f1 = f1_score(target_valid, predictions_valid)\n",
    "    \n",
    "    probabilities_valid = model_forest.predict_proba(features_valid)\n",
    "    probabilities_one_valid = probabilities_valid[:, 1]\n",
    "    result_auc_roc = roc_auc_score(target_valid, probabilities_one_valid)\n",
    "\n",
    "    \n",
    "    if result_f1 > best_f1_forest:\n",
    "        best_f1_forest = result_f1\n",
    "        best_model_forest = model_forest\n",
    "        best_auc_roc_forest = result_auc_roc\n",
    "        best_frac = np.round(frac, 2)\n",
    "        \n",
    "print('f1_score лучшей модели:', best_f1_forest)\n",
    "print('auc_score лучшей модели:', best_auc_roc_forest)\n",
    "print('Лучший frac:', best_frac)"
   ]
  },
  {
   "cell_type": "markdown",
   "metadata": {},
   "source": [
    "Модель решающего леса с найденными ранее гиперпараметрами позволила получить результат 0.636 при уменьшении количества отрицательных признаков в 1/0.38 = 2.63 раза. \n",
    "\n",
    "Для такой модели получили следующие значения:\n",
    "`f1-score=0.636`;\n",
    "`auc-score = 0.85`"
   ]
  },
  {
   "cell_type": "markdown",
   "metadata": {},
   "source": [
    "<div class=\"alert alert-block alert-warning\">\n",
    "<b>Изменения (код ниже в этом пункте):</b> Подставим `frac = 1/disbalance) = 0.25` для уменьшения отрицательной выборки и обучения модели случайного леса\n",
    "</div>"
   ]
  },
  {
   "cell_type": "code",
   "execution_count": 51,
   "metadata": {
    "scrolled": true
   },
   "outputs": [
    {
     "name": "stdout",
     "output_type": "stream",
     "text": [
      "f1_score лучшей модели: 0.6293706293706294\n",
      "auc_score лучшей модели: 0.8501019241587475\n",
      "CPU times: user 884 ms, sys: 4.51 ms, total: 889 ms\n",
      "Wall time: 898 ms\n"
     ]
    }
   ],
   "source": [
    "%%time\n",
    "\n",
    "features_downsampled, target_downsampled = downsample(features_train, target_train, np.round(frac, 2))\n",
    "\n",
    "model_forest = RandomForestClassifier(\n",
    "                               random_state=12345,\n",
    "                               max_depth=9,\n",
    "                               n_estimators=200,\n",
    "                               #class_weight='balanced'\n",
    "                               )\n",
    "\n",
    "model_forest.fit(features_downsampled, target_downsampled)\n",
    "predictions_valid = model_forest.predict(features_valid)\n",
    "result_f1 = f1_score(target_valid, predictions_valid)\n",
    "\n",
    "probabilities_valid = model_forest.predict_proba(features_valid)\n",
    "probabilities_one_valid = probabilities_valid[:, 1]\n",
    "result_auc_roc = roc_auc_score(target_valid, probabilities_one_valid)\n",
    "\n",
    "\n",
    "        \n",
    "print('f1_score лучшей модели:', result_f1 )\n",
    "print('auc_score лучшей модели:', result_auc_roc)\n"
   ]
  },
  {
   "cell_type": "markdown",
   "metadata": {},
   "source": [
    "При подставлении frac = 1/disbalance ~ 0.25\n",
    "\n",
    "f1_score: 0.6293706293706294\n",
    "\n",
    "auc_score: 0.8501019241587475"
   ]
  },
  {
   "cell_type": "markdown",
   "metadata": {},
   "source": [
    "#### Логистическая регрессия"
   ]
  },
  {
   "cell_type": "code",
   "execution_count": 52,
   "metadata": {
    "scrolled": false
   },
   "outputs": [
    {
     "name": "stdout",
     "output_type": "stream",
     "text": [
      "f1_score лучшей модели: 0.505945945945946\n",
      "auc_score лучшей модели: 0.7639306431807596\n",
      "Лучший frac: 0.39\n",
      "CPU times: user 8.43 s, sys: 10.1 s, total: 18.5 s\n",
      "Wall time: 19 s\n"
     ]
    }
   ],
   "source": [
    "%%time\n",
    "best_model_logistic = None\n",
    "best_f1_logistic = 0\n",
    "best_auc_roc_logistic = 0\n",
    "\n",
    "best_result = 0\n",
    "r = []\n",
    "f1 = []\n",
    "\n",
    "for frac in np.arange(0.01, 1.01, 0.01):\n",
    "    features_downsampled, target_downsampled = downsample(features_train, target_train, np.round(frac, 2))\n",
    "    \n",
    "    model_logistic = LogisticRegression(\n",
    "                                   random_state=12345,\n",
    "                                   solver='liblinear',\n",
    "                                   penalty='l1',\n",
    "                                   C=0.1,\n",
    "                                   #class_weight='balanced'\n",
    "                                   )\n",
    "    \n",
    "    model_logistic.fit(features_downsampled, target_downsampled)\n",
    "    predictions_valid = model_logistic.predict(features_valid)\n",
    "    result_f1 = f1_score(target_valid, predictions_valid)\n",
    "    \n",
    "    probabilities_valid = model_logistic.predict_proba(features_valid)\n",
    "    probabilities_one_valid = probabilities_valid[:, 1]\n",
    "    result_auc_roc = roc_auc_score(target_valid, probabilities_one_valid)\n",
    "\n",
    "    \n",
    "    if result_f1 > best_f1_logistic:\n",
    "        best_f1_logistic = result_f1\n",
    "        best_model_logistic = model_logistic\n",
    "        best_auc_roc_logistic = result_auc_roc\n",
    "        best_frac = np.round(frac, 2)\n",
    "        \n",
    "print('f1_score лучшей модели:', best_f1_logistic)\n",
    "print('auc_score лучшей модели:', best_auc_roc_logistic)\n",
    "print('Лучший frac:', best_frac)"
   ]
  },
  {
   "cell_type": "markdown",
   "metadata": {},
   "source": [
    "Модель логистчиеской регрессии по-прежнему дает наименьшее значение f1-score, равное 0.505. auc-score при этом 0.764"
   ]
  },
  {
   "cell_type": "markdown",
   "metadata": {},
   "source": [
    "<div class=\"alert alert-block alert-warning\">\n",
    "<b>Изменения (код ниже в этом пункте):</b> Подставим `frac = 1/disbalance) = 0.25` для уменьшения отрицательной выборки и обучения модели логистической регрессии\n",
    "</div>"
   ]
  },
  {
   "cell_type": "code",
   "execution_count": 53,
   "metadata": {
    "scrolled": true
   },
   "outputs": [
    {
     "name": "stdout",
     "output_type": "stream",
     "text": [
      "f1_score: 0.4995648389904265\n",
      "auc_score: 0.7672908135181074\n",
      "CPU times: user 51.2 ms, sys: 36 ms, total: 87.2 ms\n",
      "Wall time: 118 ms\n"
     ]
    }
   ],
   "source": [
    "%%time\n",
    "\n",
    "features_downsampled, target_downsampled = downsample(features_train, target_train, (1/disbalance))\n",
    "\n",
    "model_logistic = LogisticRegression(\n",
    "                               random_state=12345,\n",
    "                               solver='liblinear',\n",
    "                               penalty='l1',\n",
    "                               C=0.1,\n",
    "                               #class_weight='balanced'\n",
    "                               )\n",
    "\n",
    "model_logistic.fit(features_downsampled, target_downsampled)\n",
    "predictions_valid = model_logistic.predict(features_valid)\n",
    "result_f1 = f1_score(target_valid, predictions_valid)\n",
    "\n",
    "probabilities_valid = model_logistic.predict_proba(features_valid)\n",
    "probabilities_one_valid = probabilities_valid[:, 1]\n",
    "result_auc_roc = roc_auc_score(target_valid, probabilities_one_valid)\n",
    "\n",
    "        \n",
    "print('f1_score:', result_f1)\n",
    "print('auc_score:', result_auc_roc)\n"
   ]
  },
  {
   "cell_type": "markdown",
   "metadata": {},
   "source": [
    "При подставлении frac = 1/disbalance ~ 0.25\n",
    "\n",
    "f1_score: 0.4995648389904265\n",
    "\n",
    "auc_score: 0.7672908135181074"
   ]
  },
  {
   "cell_type": "markdown",
   "metadata": {},
   "source": [
    "**Вывод по борьбе с дисбалансом:** Для данного набора данных уменьшение выборки дало результат чуть лучше, чем при увеличении выборки. По всей вероятности это связано с тем, что при увеличении выборки количество признаков положительного класса росло в n раз, где n - натуральное число, а при уменьшении выборки мы уменьшить количество признаков отрицательного типа в k раз, где k - дробь\n",
    "\n",
    "При этом для моделей решающего дерева и случайного леса на валидационной выборке f1-score был более 0.6, в то время как для модели логистической регрессии f1-score не превышал 0.509"
   ]
  },
  {
   "cell_type": "markdown",
   "metadata": {},
   "source": [
    "<div class=\"alert alert-block alert-warning\">\n",
    "<b>Изменения (Дополненный вывод):</b> При подставлении`frac = 1/disbalance) = 0.25` f1_score получается меньше, чем при переборе значения frac - значения, в какое количество раз мы уменьшаем бОльшую по количеству выборку\n",
    "</div>"
   ]
  },
  {
   "cell_type": "markdown",
   "metadata": {},
   "source": [
    "<div class=\"alert alert-block alert-success\">\n",
    "<b>Успех:</b> А так  хорошая работа с моделями машинного обучения.  Радует  достаточное количество расмотренных методов для борьбы с дисбалансом.\n",
    "\n",
    "</div>"
   ]
  },
  {
   "cell_type": "markdown",
   "metadata": {},
   "source": [
    "## Тестирование модели"
   ]
  },
  {
   "cell_type": "markdown",
   "metadata": {},
   "source": [
    "### Решающее дерево"
   ]
  },
  {
   "cell_type": "markdown",
   "metadata": {},
   "source": [
    "Теперь воспользуемся моделями, полученными в пункте 3.2"
   ]
  },
  {
   "cell_type": "code",
   "execution_count": 54,
   "metadata": {},
   "outputs": [
    {
     "name": "stdout",
     "output_type": "stream",
     "text": [
      "f1-score 0.5900948366701791\n",
      "auc-roc-score 0.8212446651106103\n"
     ]
    }
   ],
   "source": [
    "predictions_test = best_model_tree.predict(features_test)\n",
    "result_f1 = f1_score(target_test, predictions_test)\n",
    "\n",
    "probabilities_test = best_model_tree.predict_proba(features_test)\n",
    "probabilities_one_test = probabilities_test[:, 1]\n",
    "result_auc_roc = roc_auc_score(target_test, probabilities_one_test)\n",
    "\n",
    "print('f1-score', result_f1)\n",
    "print('auc-roc-score', result_auc_roc)"
   ]
  },
  {
   "cell_type": "code",
   "execution_count": 55,
   "metadata": {},
   "outputs": [
    {
     "data": {
      "image/png": "[encoded data removed]",
      "text/plain": [
       "<Figure size 720x360 with 1 Axes>"
      ]
     },
     "metadata": {
      "needs_background": "light"
     },
     "output_type": "display_data"
    },
    {
     "name": "stdout",
     "output_type": "stream",
     "text": [
      "0.8212446651106103\n"
     ]
    }
   ],
   "source": [
    "fpr, tpr, thresholds = roc_curve(target_test, probabilities_one_test)\n",
    "\n",
    "plt.figure(figsize=(10,5))\n",
    "plt.plot(fpr, tpr)\n",
    "\n",
    "plt.plot([0, 1], [0, 1], linestyle='--')\n",
    "\n",
    "plt.xlim([0.0, 1.0])\n",
    "plt.ylim([0.0, 1.0])\n",
    "plt.xlabel('False Positive Rate')\n",
    "plt.ylabel('True Positive Rate')\n",
    "plt.title('ROC-кривая')\n",
    "plt.show() \n",
    "\n",
    "\n",
    "auc_roc = roc_auc_score(target_test, probabilities_one_test)\n",
    "print(auc_roc)"
   ]
  },
  {
   "cell_type": "markdown",
   "metadata": {},
   "source": [
    "### Случайный лес"
   ]
  },
  {
   "cell_type": "code",
   "execution_count": 56,
   "metadata": {},
   "outputs": [
    {
     "name": "stdout",
     "output_type": "stream",
     "text": [
      "f1-score 0.6047565118912798\n",
      "auc-roc-score 0.8521776542526958\n"
     ]
    }
   ],
   "source": [
    "predictions_test = best_model_forest.predict(features_test)\n",
    "result_f1 = f1_score(target_test, predictions_test)\n",
    "\n",
    "probabilities_test = best_model_forest.predict_proba(features_test)\n",
    "probabilities_one_test = probabilities_test[:, 1]\n",
    "result_auc_roc = roc_auc_score(target_test, probabilities_one_test)\n",
    "\n",
    "print('f1-score', result_f1)\n",
    "print('auc-roc-score', result_auc_roc)"
   ]
  },
  {
   "cell_type": "markdown",
   "metadata": {},
   "source": [
    "Модель случайного леса на тестовой выборке показала f1-score = 0.604 и auc_roc_score = 0.852"
   ]
  },
  {
   "cell_type": "code",
   "execution_count": 57,
   "metadata": {
    "scrolled": true
   },
   "outputs": [
    {
     "data": {
      "image/png": "[encoded data removed]",
      "text/plain": [
       "<Figure size 720x360 with 1 Axes>"
      ]
     },
     "metadata": {
      "needs_background": "light"
     },
     "output_type": "display_data"
    },
    {
     "name": "stdout",
     "output_type": "stream",
     "text": [
      "0.8521776542526958\n"
     ]
    }
   ],
   "source": [
    "fpr, tpr, thresholds = roc_curve(target_test, probabilities_one_test) # < напишите код здесь >\n",
    "\n",
    "plt.figure(figsize=(10,5))\n",
    "plt.plot(fpr, tpr)\n",
    "\n",
    "plt.plot([0, 1], [0, 1], linestyle='--')\n",
    "\n",
    "plt.xlim([0.0, 1.0])\n",
    "plt.ylim([0.0, 1.0])\n",
    "plt.xlabel('False Positive Rate')\n",
    "plt.ylabel('True Positive Rate')\n",
    "plt.title('ROC-кривая')\n",
    "plt.show() \n",
    "\n",
    "\n",
    "auc_roc = roc_auc_score(target_test, probabilities_one_test)\n",
    "print(auc_roc)"
   ]
  },
  {
   "cell_type": "markdown",
   "metadata": {},
   "source": [
    "### Логистическая регрессия"
   ]
  },
  {
   "cell_type": "code",
   "execution_count": 58,
   "metadata": {},
   "outputs": [
    {
     "name": "stdout",
     "output_type": "stream",
     "text": [
      "f1-score 0.46170678336980303\n",
      "auc-roc-score 0.743808380217398\n"
     ]
    }
   ],
   "source": [
    "predictions_test = best_model_logistic.predict(features_test)\n",
    "result_f1 = f1_score(target_test, predictions_test)\n",
    "\n",
    "probabilities_test = best_model_logistic.predict_proba(features_test)\n",
    "probabilities_one_test = probabilities_test[:, 1]\n",
    "result_auc_roc = roc_auc_score(target_test, probabilities_one_test)\n",
    "\n",
    "print('f1-score', result_f1)\n",
    "print('auc-roc-score', result_auc_roc)"
   ]
  },
  {
   "cell_type": "markdown",
   "metadata": {},
   "source": [
    "Модель логистической регрессии дала худший результат с f1 = 0.46"
   ]
  },
  {
   "cell_type": "code",
   "execution_count": 59,
   "metadata": {
    "scrolled": true
   },
   "outputs": [
    {
     "data": {
      "image/png": "[encoded data removed]",
      "text/plain": [
       "<Figure size 720x360 with 1 Axes>"
      ]
     },
     "metadata": {
      "needs_background": "light"
     },
     "output_type": "display_data"
    },
    {
     "name": "stdout",
     "output_type": "stream",
     "text": [
      "0.743808380217398\n"
     ]
    }
   ],
   "source": [
    "fpr, tpr, thresholds = roc_curve(target_test, probabilities_one_test)\n",
    "\n",
    "plt.figure(figsize=(10,5))\n",
    "plt.plot(fpr, tpr)\n",
    "\n",
    "plt.plot([0, 1], [0, 1], linestyle='--')\n",
    "\n",
    "plt.xlim([0.0, 1.0])\n",
    "plt.ylim([0.0, 1.0])\n",
    "plt.xlabel('False Positive Rate')\n",
    "plt.ylabel('True Positive Rate')\n",
    "plt.title('ROC-кривая')\n",
    "plt.show() \n",
    "\n",
    "\n",
    "auc_roc = roc_auc_score(target_test, probabilities_one_test)\n",
    "print(auc_roc)"
   ]
  },
  {
   "cell_type": "code",
   "execution_count": 60,
   "metadata": {
    "scrolled": true
   },
   "outputs": [
    {
     "data": {
      "image/png": "[encoded data removed]",
      "text/plain": [
       "<Figure size 432x432 with 1 Axes>"
      ]
     },
     "metadata": {
      "needs_background": "light"
     },
     "output_type": "display_data"
    }
   ],
   "source": [
    "precision, recall, thresholds = precision_recall_curve(target_test, probabilities_test[:, 1])\n",
    "\n",
    "plt.figure(figsize=(6, 6))\n",
    "plt.step(recall, precision, where='post')\n",
    "plt.xlabel('Recall')\n",
    "plt.ylabel('Precision')\n",
    "plt.ylim([0.0, 1.05])\n",
    "plt.xlim([0.0, 1.0])\n",
    "plt.title('Кривая Precision-Recall')\n",
    "plt.show() "
   ]
  },
  {
   "cell_type": "markdown",
   "metadata": {},
   "source": [
    "<div class=\"alert alert-block alert-success\">\n",
    "<b>Успех:</b> С тестирование все в порядке.\n",
    "\n",
    "</div>\n",
    "\n",
    "<div class=\"alert alert-block alert-info\">\n",
    "<b>Совет:</b> \n",
    " Но знай, что тестирование положено проводить для одной наилучшей модели. На предыдущем шаге мы должны были настроить модели и выбрать одну наилучшую, опираясь на метрики данные заказчиком (это может быть качество, время обучения, скорость предсказания и т.п.)\n",
    "\n",
    "</div>"
   ]
  },
  {
   "cell_type": "markdown",
   "metadata": {},
   "source": [
    "## Вывод по проекту"
   ]
  },
  {
   "cell_type": "markdown",
   "metadata": {},
   "source": [
    "В работе были исследованы `f1-score` и `auc_roc_score` для трех моделей - решающего дерева, случайного дерева и логистической регрессии при:\n",
    "\n",
    "    а) изменении гиперпаметров моделей (найдены наилучшие в некотором диапазоне гиперпараметров), \n",
    "    б) увеличении выборки\n",
    "    в) уменьшении выборки\n",
    "\n",
    "Лучшую точность на тестовой выборке показала подобранная модель случайного леса, где количество отрицательных признаков (со значением в столбце `exited`) составляло 38% от исходного количества отрицательных признаков. При этом гиперпараметры модели были следующими - `n_estimators = 200` и `max_depth = 9`.\n",
    "\n",
    "Следовательно для решения задачи, суть которой заключается в прогнозировании ухода клиента из банка, лучше всего использовать именно модель случайного леса, описанную выше. \n",
    "\n",
    "Что касается модели логистической регрессии, то для текущих данных получить значение `f1-score` более 0.51 не удалось. Скорее всего это может быть связано с тем, что не все признаки достаточно коррелируют с целевым признаком. Тем не менее, удаление из обучающей выборки таких признаков как `estimated_salary`, `tenure`, `has_cr_card` не привело к повышению значения f1-score для валидационной выборке более, чем 0.51\n"
   ]
  },
  {
   "cell_type": "markdown",
   "metadata": {},
   "source": [
    "<div class=\"alert alert-block alert-warning\">\n",
    "<b>Изменения (Дополненный вывод):</b> значения f1_score получаются выше при подборе множителя, который уменьшает (frac), либо увеличивает (repeat) выборку, чем в том случае, если мы просто делаем одинаковое количество отрицательных признаков равным количеству положительных признаков\n",
    "</div>"
   ]
  },
  {
   "cell_type": "markdown",
   "metadata": {},
   "source": [
    "<div class=\"alert alert-block alert-success\">\n",
    "    \n",
    "<b>Ответ[2]:</b> А если бы у нас при значении repeat=32, была наилучшая метрика, это было бы правильным использовать это значение? Нужно не забывать, что на одной выборке метрика может получится хорошей, но впереди модель увидить много новых данных. И нам нужно подготовить максимально стабильную с хорошей обобщающей способностью модель\n",
    "</div>\n"
   ]
  },
  {
   "cell_type": "markdown",
   "metadata": {},
   "source": [
    "<div class=\"alert alert-block alert-info\">\n",
    "<b>Совет:</b> Для понимания, а какие в итоге факторы важны при моделировании, можно выводить их важность, использую feature_importances_, ну и график заодно. Это будет смотреться очнь здорово: результативная метрика и график важности факторов)))<br> Очень ВАЖНАЯ для аналитики штука. Ведь нам не просто модель с метрикой нужна, а ещё и причины понять высокой/низкой метрики. Т.е. понять с какой силой сами факторы влияют на целевую.\n",
    "</div>\n"
   ]
  },
  {
   "cell_type": "markdown",
   "metadata": {},
   "source": [
    "<div class=\"alert alert-block alert-warning\">\n",
    "<b> Комментарий студента:</b> \n",
    "    \n",
    "Во-первых, спасибо большое за ревью и комментарии, учту их в будущих проектах. \n",
    "    \n",
    "Во-вторых, есть вопрос. Я не совсем понимаю как интерпретировать auc_roc_score и какая его цель конкретно в этом проекте, если есть f1_score\n",
    "</div>"
   ]
  },
  {
   "cell_type": "markdown",
   "metadata": {},
   "source": [
    "<div class=\"alert alert-block alert-success\">\n",
    "    \n",
    "<b>Ответ[2]:</b> \n",
    "    \n",
    "1) Отличная статья на эту тему - думаю тебе понравится https://alexanderdyakonov .wordpress.com/2017/07/28/auc-roc-площадь-под-кривой-ошибок/\n",
    "    \n",
    "2) Также добавлю, что f1 и roc_auc это отличные метрики, но нужно держать в голове, что это лишь бобщённые характеристики. А в реальной практике бизнесу часто важно знать детали самой ошибки - из каких ошибок/успехов она складывается. И в этом случае очень кстати будут меры полноты и точности. Рассмотри возможность их использования для своих проектов. Только через них можно выйти на финансовые возможности модели. Ведь перед запуском её в бой, будет сравнение стоимости создания и поддержки модели со стомостью \"оставить как есть\". Но это на будущее.\n"
   ]
  },
  {
   "cell_type": "markdown",
   "metadata": {},
   "source": [
    "## Чек-лист готовности проекта"
   ]
  },
  {
   "cell_type": "markdown",
   "metadata": {},
   "source": [
    "Поставьте 'x' в выполненных пунктах. Далее нажмите Shift+Enter."
   ]
  },
  {
   "cell_type": "markdown",
   "metadata": {},
   "source": [
    "- [x]  Jupyter Notebook открыт\n",
    "- [x]  Весь код выполняется без ошибок\n",
    "- [x]  Ячейки с кодом расположены в порядке исполнения\n",
    "- [x]  Выполнен шаг 1: данные подготовлены\n",
    "- [x]  Выполнен шаг 2: задача исследована\n",
    "    - [x]  Исследован баланс классов\n",
    "    - [x]  Изучены модели без учёта дисбаланса\n",
    "    - [x]  Написаны выводы по результатам исследования\n",
    "- [x]  Выполнен шаг 3: учтён дисбаланс\n",
    "    - [x]  Применено несколько способов борьбы с дисбалансом\n",
    "    - [x]  Написаны выводы по результатам исследования\n",
    "- [x]  Выполнен шаг 4: проведено тестирование\n",
    "- [x]  Удалось достичь *F1*-меры не менее 0.59\n",
    "- [x]  Исследована метрика *AUC-ROC*"
   ]
  },
  {
   "cell_type": "code",
   "execution_count": null,
   "metadata": {},
   "outputs": [],
   "source": []
  }
 ],
 "metadata": {
  "ExecuteTimeLog": [
   {
    "duration": 454,
    "start_time": "2023-10-15T11:12:41.481Z"
   },
   {
    "duration": 115,
    "start_time": "2023-10-15T11:14:14.061Z"
   },
   {
    "duration": 53,
    "start_time": "2023-10-15T11:14:24.486Z"
   },
   {
    "duration": 60,
    "start_time": "2023-10-15T11:14:30.598Z"
   },
   {
    "duration": 4,
    "start_time": "2023-10-15T11:14:36.798Z"
   },
   {
    "duration": 13,
    "start_time": "2023-10-15T11:14:45.326Z"
   },
   {
    "duration": 34,
    "start_time": "2023-10-15T11:16:45.826Z"
   },
   {
    "duration": 14,
    "start_time": "2023-10-15T11:16:50.815Z"
   },
   {
    "duration": 3,
    "start_time": "2023-10-15T11:24:29.165Z"
   },
   {
    "duration": 431,
    "start_time": "2023-10-15T11:24:32.866Z"
   },
   {
    "duration": 73,
    "start_time": "2023-10-15T11:24:33.300Z"
   },
   {
    "duration": 4,
    "start_time": "2023-10-15T11:24:33.375Z"
   },
   {
    "duration": 75,
    "start_time": "2023-10-15T11:24:33.381Z"
   },
   {
    "duration": 2285,
    "start_time": "2023-10-15T11:24:33.458Z"
   },
   {
    "duration": 9,
    "start_time": "2023-10-15T11:24:45.237Z"
   },
   {
    "duration": 1030,
    "start_time": "2023-10-15T11:24:49.797Z"
   },
   {
    "duration": 1308,
    "start_time": "2023-10-15T11:24:55.088Z"
   },
   {
    "duration": 67,
    "start_time": "2023-10-15T11:24:56.400Z"
   },
   {
    "duration": 5,
    "start_time": "2023-10-15T11:24:56.468Z"
   },
   {
    "duration": 48,
    "start_time": "2023-10-15T11:24:56.475Z"
   },
   {
    "duration": 1961,
    "start_time": "2023-10-15T11:24:56.525Z"
   },
   {
    "duration": 10,
    "start_time": "2023-10-15T11:25:04.934Z"
   },
   {
    "duration": 2,
    "start_time": "2023-10-15T11:25:08.741Z"
   },
   {
    "duration": 3665,
    "start_time": "2023-10-15T11:25:19.605Z"
   },
   {
    "duration": 81,
    "start_time": "2023-10-15T11:25:32.830Z"
   },
   {
    "duration": 2495,
    "start_time": "2023-10-15T11:25:37.884Z"
   },
   {
    "duration": 39,
    "start_time": "2023-10-15T11:25:41.631Z"
   },
   {
    "duration": 20,
    "start_time": "2023-10-15T11:26:00.150Z"
   },
   {
    "duration": 1312,
    "start_time": "2023-10-15T11:26:21.215Z"
   },
   {
    "duration": 99,
    "start_time": "2023-10-15T11:26:22.530Z"
   },
   {
    "duration": 19,
    "start_time": "2023-10-15T11:26:22.631Z"
   },
   {
    "duration": 25,
    "start_time": "2023-10-15T11:26:22.651Z"
   },
   {
    "duration": 2693,
    "start_time": "2023-10-15T11:26:22.679Z"
   },
   {
    "duration": 36,
    "start_time": "2023-10-15T11:26:25.375Z"
   },
   {
    "duration": 12722,
    "start_time": "2023-10-15T11:26:25.413Z"
   },
   {
    "duration": 14,
    "start_time": "2023-10-15T11:26:56.185Z"
   },
   {
    "duration": 12374,
    "start_time": "2023-10-15T11:27:01.270Z"
   },
   {
    "duration": 11,
    "start_time": "2023-10-15T11:33:29.731Z"
   },
   {
    "duration": 12,
    "start_time": "2023-10-15T11:33:36.521Z"
   },
   {
    "duration": 7,
    "start_time": "2023-10-15T11:33:42.254Z"
   },
   {
    "duration": 1317,
    "start_time": "2023-10-15T11:33:52.992Z"
   },
   {
    "duration": 65,
    "start_time": "2023-10-15T11:33:54.311Z"
   },
   {
    "duration": 7,
    "start_time": "2023-10-15T11:33:54.382Z"
   },
   {
    "duration": 11,
    "start_time": "2023-10-15T11:33:54.390Z"
   },
   {
    "duration": 21,
    "start_time": "2023-10-15T11:33:54.402Z"
   },
   {
    "duration": 2438,
    "start_time": "2023-10-15T11:33:54.425Z"
   },
   {
    "duration": 48,
    "start_time": "2023-10-15T11:33:56.866Z"
   },
   {
    "duration": 11919,
    "start_time": "2023-10-15T11:33:56.917Z"
   },
   {
    "duration": 11866,
    "start_time": "2023-10-15T11:34:08.839Z"
   },
   {
    "duration": 2443,
    "start_time": "2023-10-15T11:36:44.570Z"
   },
   {
    "duration": 65,
    "start_time": "2023-10-15T11:36:47.015Z"
   },
   {
    "duration": 7,
    "start_time": "2023-10-15T11:36:47.082Z"
   },
   {
    "duration": 24,
    "start_time": "2023-10-15T11:36:47.090Z"
   },
   {
    "duration": 16,
    "start_time": "2023-10-15T11:36:47.116Z"
   },
   {
    "duration": 2611,
    "start_time": "2023-10-15T11:36:47.134Z"
   },
   {
    "duration": 33,
    "start_time": "2023-10-15T11:36:49.747Z"
   },
   {
    "duration": 12083,
    "start_time": "2023-10-15T11:36:49.782Z"
   },
   {
    "duration": 12347,
    "start_time": "2023-10-15T11:37:01.867Z"
   },
   {
    "duration": 13655,
    "start_time": "2023-10-15T11:37:39.518Z"
   },
   {
    "duration": 248,
    "start_time": "2023-10-15T11:38:07.626Z"
   },
   {
    "duration": 11,
    "start_time": "2023-10-15T11:38:14.261Z"
   },
   {
    "duration": 1333,
    "start_time": "2023-10-15T11:38:36.368Z"
   },
   {
    "duration": 67,
    "start_time": "2023-10-15T11:38:37.704Z"
   },
   {
    "duration": 8,
    "start_time": "2023-10-15T11:38:37.773Z"
   },
   {
    "duration": 93,
    "start_time": "2023-10-15T11:38:37.782Z"
   },
   {
    "duration": 25,
    "start_time": "2023-10-15T11:38:37.878Z"
   },
   {
    "duration": 2814,
    "start_time": "2023-10-15T11:38:37.905Z"
   },
   {
    "duration": 37,
    "start_time": "2023-10-15T11:38:40.722Z"
   },
   {
    "duration": 12065,
    "start_time": "2023-10-15T11:38:40.761Z"
   },
   {
    "duration": 13786,
    "start_time": "2023-10-15T11:38:52.828Z"
   },
   {
    "duration": 14041,
    "start_time": "2023-10-15T11:39:13.271Z"
   },
   {
    "duration": 85,
    "start_time": "2023-10-15T11:39:42.543Z"
   },
   {
    "duration": 12747,
    "start_time": "2023-10-15T11:39:45.337Z"
   },
   {
    "duration": 14172,
    "start_time": "2023-10-15T11:40:27.433Z"
   },
   {
    "duration": 14822,
    "start_time": "2023-10-15T11:41:00.703Z"
   },
   {
    "duration": 14621,
    "start_time": "2023-10-15T11:41:45.130Z"
   },
   {
    "duration": 15316,
    "start_time": "2023-10-15T11:42:25.324Z"
   },
   {
    "duration": 15064,
    "start_time": "2023-10-15T11:42:53.272Z"
   },
   {
    "duration": 4,
    "start_time": "2023-10-15T11:45:12.505Z"
   },
   {
    "duration": 19,
    "start_time": "2023-10-15T11:45:30.826Z"
   },
   {
    "duration": 21,
    "start_time": "2023-10-15T11:45:34.707Z"
   },
   {
    "duration": 367,
    "start_time": "2023-10-15T11:45:50.059Z"
   },
   {
    "duration": 652,
    "start_time": "2023-10-15T11:46:28.052Z"
   },
   {
    "duration": 503,
    "start_time": "2023-10-15T11:46:55.573Z"
   },
   {
    "duration": 553,
    "start_time": "2023-10-15T11:46:59.107Z"
   },
   {
    "duration": 1274,
    "start_time": "2023-10-15T11:47:28.040Z"
   },
   {
    "duration": 66,
    "start_time": "2023-10-15T11:47:29.316Z"
   },
   {
    "duration": 9,
    "start_time": "2023-10-15T11:47:29.384Z"
   },
   {
    "duration": 18,
    "start_time": "2023-10-15T11:47:29.395Z"
   },
   {
    "duration": 47,
    "start_time": "2023-10-15T11:47:29.415Z"
   },
   {
    "duration": 48,
    "start_time": "2023-10-15T11:47:29.465Z"
   },
   {
    "duration": 2462,
    "start_time": "2023-10-15T11:47:29.516Z"
   },
   {
    "duration": 49,
    "start_time": "2023-10-15T11:47:31.980Z"
   },
   {
    "duration": 13152,
    "start_time": "2023-10-15T11:47:32.032Z"
   },
   {
    "duration": 2471,
    "start_time": "2023-10-15T11:47:59.266Z"
   },
   {
    "duration": 1297,
    "start_time": "2023-10-15T11:48:01.739Z"
   },
   {
    "duration": 74,
    "start_time": "2023-10-15T11:48:03.038Z"
   },
   {
    "duration": 9,
    "start_time": "2023-10-15T11:48:03.114Z"
   },
   {
    "duration": 22,
    "start_time": "2023-10-15T11:48:03.126Z"
   },
   {
    "duration": 16,
    "start_time": "2023-10-15T11:48:03.150Z"
   },
   {
    "duration": 25,
    "start_time": "2023-10-15T11:48:03.168Z"
   },
   {
    "duration": 12351,
    "start_time": "2023-10-15T11:48:03.195Z"
   },
   {
    "duration": 13766,
    "start_time": "2023-10-15T11:48:15.548Z"
   },
   {
    "duration": 2515,
    "start_time": "2023-10-15T11:52:04.045Z"
   },
   {
    "duration": 1342,
    "start_time": "2023-10-15T11:52:06.562Z"
   },
   {
    "duration": 67,
    "start_time": "2023-10-15T11:52:07.906Z"
   },
   {
    "duration": 8,
    "start_time": "2023-10-15T11:52:07.974Z"
   },
   {
    "duration": 31,
    "start_time": "2023-10-15T11:52:07.984Z"
   },
   {
    "duration": 13,
    "start_time": "2023-10-15T11:52:08.017Z"
   },
   {
    "duration": 16,
    "start_time": "2023-10-15T11:52:08.032Z"
   },
   {
    "duration": 12868,
    "start_time": "2023-10-15T11:52:08.050Z"
   },
   {
    "duration": 14706,
    "start_time": "2023-10-15T11:52:20.920Z"
   },
   {
    "duration": 2545,
    "start_time": "2023-10-15T11:57:00.934Z"
   },
   {
    "duration": 1622,
    "start_time": "2023-10-15T11:57:03.482Z"
   },
   {
    "duration": 65,
    "start_time": "2023-10-15T11:57:05.106Z"
   },
   {
    "duration": 7,
    "start_time": "2023-10-15T11:57:05.172Z"
   },
   {
    "duration": 33,
    "start_time": "2023-10-15T11:57:05.182Z"
   },
   {
    "duration": 28,
    "start_time": "2023-10-15T11:57:05.216Z"
   },
   {
    "duration": 26,
    "start_time": "2023-10-15T11:57:05.246Z"
   },
   {
    "duration": 12261,
    "start_time": "2023-10-15T11:57:05.274Z"
   },
   {
    "duration": 13634,
    "start_time": "2023-10-15T11:57:17.537Z"
   },
   {
    "duration": 15,
    "start_time": "2023-10-15T11:58:18.057Z"
   },
   {
    "duration": 11,
    "start_time": "2023-10-15T11:58:22.073Z"
   },
   {
    "duration": 120,
    "start_time": "2023-10-15T12:00:57.089Z"
   },
   {
    "duration": 21,
    "start_time": "2023-10-15T12:01:18.426Z"
   },
   {
    "duration": 4,
    "start_time": "2023-10-15T12:01:25.843Z"
   },
   {
    "duration": 5,
    "start_time": "2023-10-15T12:01:30.222Z"
   },
   {
    "duration": 4,
    "start_time": "2023-10-15T12:01:31.357Z"
   },
   {
    "duration": 2550,
    "start_time": "2023-10-15T12:01:35.129Z"
   },
   {
    "duration": 1600,
    "start_time": "2023-10-15T12:01:37.682Z"
   },
   {
    "duration": 63,
    "start_time": "2023-10-15T12:01:39.284Z"
   },
   {
    "duration": 7,
    "start_time": "2023-10-15T12:01:39.349Z"
   },
   {
    "duration": 51,
    "start_time": "2023-10-15T12:01:39.358Z"
   },
   {
    "duration": 57,
    "start_time": "2023-10-15T12:01:39.411Z"
   },
   {
    "duration": 32,
    "start_time": "2023-10-15T12:01:39.470Z"
   },
   {
    "duration": 21,
    "start_time": "2023-10-15T12:01:39.505Z"
   },
   {
    "duration": 24,
    "start_time": "2023-10-15T12:01:39.528Z"
   },
   {
    "duration": 11377,
    "start_time": "2023-10-15T12:01:39.554Z"
   },
   {
    "duration": 12748,
    "start_time": "2023-10-15T12:01:50.933Z"
   },
   {
    "duration": 2403,
    "start_time": "2023-10-15T12:02:29.864Z"
   },
   {
    "duration": 1723,
    "start_time": "2023-10-15T12:02:32.269Z"
   },
   {
    "duration": 65,
    "start_time": "2023-10-15T12:02:33.994Z"
   },
   {
    "duration": 8,
    "start_time": "2023-10-15T12:02:34.062Z"
   },
   {
    "duration": 21,
    "start_time": "2023-10-15T12:02:34.073Z"
   },
   {
    "duration": 56,
    "start_time": "2023-10-15T12:02:34.095Z"
   },
   {
    "duration": 35,
    "start_time": "2023-10-15T12:02:34.154Z"
   },
   {
    "duration": 46,
    "start_time": "2023-10-15T12:02:34.198Z"
   },
   {
    "duration": 55,
    "start_time": "2023-10-15T12:02:34.246Z"
   },
   {
    "duration": 11705,
    "start_time": "2023-10-15T12:02:34.303Z"
   },
   {
    "duration": 12872,
    "start_time": "2023-10-15T12:02:46.010Z"
   },
   {
    "duration": 271,
    "start_time": "2023-10-15T12:07:18.275Z"
   },
   {
    "duration": 174,
    "start_time": "2023-10-15T12:07:27.149Z"
   },
   {
    "duration": 21,
    "start_time": "2023-10-15T13:15:57.617Z"
   },
   {
    "duration": 6,
    "start_time": "2023-10-15T13:18:00.333Z"
   },
   {
    "duration": 9,
    "start_time": "2023-10-15T13:18:13.408Z"
   },
   {
    "duration": 28,
    "start_time": "2023-10-15T13:18:33.498Z"
   },
   {
    "duration": 4,
    "start_time": "2023-10-15T13:18:44.829Z"
   },
   {
    "duration": 20,
    "start_time": "2023-10-15T13:37:27.650Z"
   },
   {
    "duration": 14,
    "start_time": "2023-10-15T13:37:30.801Z"
   },
   {
    "duration": 3,
    "start_time": "2023-10-15T13:40:53.642Z"
   },
   {
    "duration": 3,
    "start_time": "2023-10-15T13:41:19.892Z"
   },
   {
    "duration": 2,
    "start_time": "2023-10-15T13:41:21.419Z"
   },
   {
    "duration": 21,
    "start_time": "2023-10-15T13:42:55.843Z"
   },
   {
    "duration": 6,
    "start_time": "2023-10-15T13:44:48.675Z"
   },
   {
    "duration": 9,
    "start_time": "2023-10-15T13:45:24.714Z"
   },
   {
    "duration": 5,
    "start_time": "2023-10-15T13:46:14.179Z"
   },
   {
    "duration": 7,
    "start_time": "2023-10-15T13:46:28.703Z"
   },
   {
    "duration": 22,
    "start_time": "2023-10-15T13:47:02.006Z"
   },
   {
    "duration": 7,
    "start_time": "2023-10-15T13:48:53.287Z"
   },
   {
    "duration": 5,
    "start_time": "2023-10-15T13:48:53.707Z"
   },
   {
    "duration": 2,
    "start_time": "2023-10-15T13:48:55.101Z"
   },
   {
    "duration": 3,
    "start_time": "2023-10-15T13:48:55.471Z"
   },
   {
    "duration": 28,
    "start_time": "2023-10-15T13:49:11.909Z"
   },
   {
    "duration": 23,
    "start_time": "2023-10-15T13:49:19.490Z"
   },
   {
    "duration": 30,
    "start_time": "2023-10-15T13:49:25.589Z"
   },
   {
    "duration": 21,
    "start_time": "2023-10-15T14:06:27.007Z"
   },
   {
    "duration": 108,
    "start_time": "2023-10-15T14:08:15.054Z"
   },
   {
    "duration": 23,
    "start_time": "2023-10-15T14:10:31.823Z"
   },
   {
    "duration": 14,
    "start_time": "2023-10-15T14:10:35.176Z"
   },
   {
    "duration": 15,
    "start_time": "2023-10-15T14:10:51.551Z"
   },
   {
    "duration": 13,
    "start_time": "2023-10-15T14:11:17.464Z"
   },
   {
    "duration": 6,
    "start_time": "2023-10-15T14:11:20.014Z"
   },
   {
    "duration": 32,
    "start_time": "2023-10-15T14:11:34.561Z"
   },
   {
    "duration": 16,
    "start_time": "2023-10-15T14:11:40.538Z"
   },
   {
    "duration": 30,
    "start_time": "2023-10-15T14:11:54.659Z"
   },
   {
    "duration": 20,
    "start_time": "2023-10-15T14:13:46.175Z"
   },
   {
    "duration": 15,
    "start_time": "2023-10-15T14:16:20.859Z"
   },
   {
    "duration": 15,
    "start_time": "2023-10-15T14:17:01.352Z"
   },
   {
    "duration": 138,
    "start_time": "2023-10-15T14:17:29.616Z"
   },
   {
    "duration": 11,
    "start_time": "2023-10-15T14:17:34.306Z"
   },
   {
    "duration": 12,
    "start_time": "2023-10-15T14:17:43.018Z"
   },
   {
    "duration": 11,
    "start_time": "2023-10-15T14:17:52.295Z"
   },
   {
    "duration": 25,
    "start_time": "2023-10-15T14:17:56.384Z"
   },
   {
    "duration": 19,
    "start_time": "2023-10-15T14:18:02.225Z"
   },
   {
    "duration": 15,
    "start_time": "2023-10-15T14:18:32.747Z"
   },
   {
    "duration": 6,
    "start_time": "2023-10-15T14:18:56.856Z"
   },
   {
    "duration": 7,
    "start_time": "2023-10-15T14:19:18.312Z"
   },
   {
    "duration": 16,
    "start_time": "2023-10-15T14:19:30.162Z"
   },
   {
    "duration": 21,
    "start_time": "2023-10-15T14:21:43.919Z"
   },
   {
    "duration": 16,
    "start_time": "2023-10-15T14:22:21.258Z"
   },
   {
    "duration": 23,
    "start_time": "2023-10-15T14:22:29.106Z"
   },
   {
    "duration": 18,
    "start_time": "2023-10-15T14:22:41.578Z"
   },
   {
    "duration": 6,
    "start_time": "2023-10-15T14:23:00.762Z"
   },
   {
    "duration": 20,
    "start_time": "2023-10-15T14:23:16.003Z"
   },
   {
    "duration": 2,
    "start_time": "2023-10-15T14:23:21.226Z"
   },
   {
    "duration": 26,
    "start_time": "2023-10-15T14:23:21.586Z"
   },
   {
    "duration": 13,
    "start_time": "2023-10-15T14:23:22.602Z"
   },
   {
    "duration": 22,
    "start_time": "2023-10-15T14:23:23.549Z"
   },
   {
    "duration": 17,
    "start_time": "2023-10-15T14:23:37.915Z"
   },
   {
    "duration": 2309,
    "start_time": "2023-10-15T14:23:45.979Z"
   },
   {
    "duration": 1460,
    "start_time": "2023-10-15T14:23:48.290Z"
   },
   {
    "duration": 63,
    "start_time": "2023-10-15T14:23:49.751Z"
   },
   {
    "duration": 7,
    "start_time": "2023-10-15T14:23:49.816Z"
   },
   {
    "duration": 4,
    "start_time": "2023-10-15T14:23:49.825Z"
   },
   {
    "duration": 16,
    "start_time": "2023-10-15T14:23:49.831Z"
   },
   {
    "duration": 8,
    "start_time": "2023-10-15T14:23:49.848Z"
   },
   {
    "duration": 18,
    "start_time": "2023-10-15T14:23:49.858Z"
   },
   {
    "duration": 12515,
    "start_time": "2023-10-15T14:23:49.878Z"
   },
   {
    "duration": 12989,
    "start_time": "2023-10-15T14:24:02.394Z"
   },
   {
    "duration": 20,
    "start_time": "2023-10-15T14:24:15.385Z"
   },
   {
    "duration": 14,
    "start_time": "2023-10-15T14:24:15.406Z"
   },
   {
    "duration": 53,
    "start_time": "2023-10-15T14:24:15.422Z"
   },
   {
    "duration": 23,
    "start_time": "2023-10-15T14:24:15.478Z"
   },
   {
    "duration": 20,
    "start_time": "2023-10-15T14:24:15.503Z"
   },
   {
    "duration": 18,
    "start_time": "2023-10-15T14:24:15.524Z"
   },
   {
    "duration": 15,
    "start_time": "2023-10-15T14:24:15.544Z"
   },
   {
    "duration": 34,
    "start_time": "2023-10-15T14:24:15.560Z"
   },
   {
    "duration": 12,
    "start_time": "2023-10-15T14:24:15.596Z"
   },
   {
    "duration": 29,
    "start_time": "2023-10-15T14:24:15.610Z"
   },
   {
    "duration": 40,
    "start_time": "2023-10-15T14:24:15.641Z"
   },
   {
    "duration": 2383,
    "start_time": "2023-10-15T14:24:24.261Z"
   },
   {
    "duration": 1481,
    "start_time": "2023-10-15T14:24:26.646Z"
   },
   {
    "duration": 65,
    "start_time": "2023-10-15T14:24:28.131Z"
   },
   {
    "duration": 8,
    "start_time": "2023-10-15T14:24:28.198Z"
   },
   {
    "duration": 44,
    "start_time": "2023-10-15T14:24:28.207Z"
   },
   {
    "duration": 39,
    "start_time": "2023-10-15T14:24:28.253Z"
   },
   {
    "duration": 88,
    "start_time": "2023-10-15T14:24:28.294Z"
   },
   {
    "duration": 69,
    "start_time": "2023-10-15T14:24:28.384Z"
   },
   {
    "duration": 172,
    "start_time": "2023-10-15T14:24:28.455Z"
   },
   {
    "duration": 107,
    "start_time": "2023-10-15T14:24:28.629Z"
   },
   {
    "duration": 28,
    "start_time": "2023-10-15T14:24:28.739Z"
   },
   {
    "duration": 27,
    "start_time": "2023-10-15T14:24:28.769Z"
   },
   {
    "duration": 41,
    "start_time": "2023-10-15T14:24:28.799Z"
   },
   {
    "duration": 23,
    "start_time": "2023-10-15T14:24:28.842Z"
   },
   {
    "duration": 14,
    "start_time": "2023-10-15T14:24:28.867Z"
   },
   {
    "duration": 19,
    "start_time": "2023-10-15T14:24:28.883Z"
   },
   {
    "duration": 8,
    "start_time": "2023-10-15T14:24:28.904Z"
   },
   {
    "duration": 30,
    "start_time": "2023-10-15T14:24:28.914Z"
   },
   {
    "duration": 11,
    "start_time": "2023-10-15T14:24:28.946Z"
   },
   {
    "duration": 17,
    "start_time": "2023-10-15T14:24:28.959Z"
   },
   {
    "duration": 54,
    "start_time": "2023-10-15T14:24:28.978Z"
   },
   {
    "duration": 14,
    "start_time": "2023-10-15T14:25:50.315Z"
   },
   {
    "duration": 14,
    "start_time": "2023-10-15T14:25:57.710Z"
   },
   {
    "duration": 13,
    "start_time": "2023-10-15T14:26:11.318Z"
   },
   {
    "duration": 15,
    "start_time": "2023-10-15T14:26:36.735Z"
   },
   {
    "duration": 7,
    "start_time": "2023-10-15T14:26:44.948Z"
   },
   {
    "duration": 6,
    "start_time": "2023-10-15T14:29:28.333Z"
   },
   {
    "duration": 8,
    "start_time": "2023-10-15T14:29:39.413Z"
   },
   {
    "duration": 7,
    "start_time": "2023-10-15T14:31:10.373Z"
   },
   {
    "duration": 1743,
    "start_time": "2023-10-15T14:31:14.511Z"
   },
   {
    "duration": 6,
    "start_time": "2023-10-15T14:31:44.861Z"
   },
   {
    "duration": 10,
    "start_time": "2023-10-15T14:32:23.654Z"
   },
   {
    "duration": 7,
    "start_time": "2023-10-15T14:32:27.455Z"
   },
   {
    "duration": 15,
    "start_time": "2023-10-15T14:33:42.654Z"
   },
   {
    "duration": 7,
    "start_time": "2023-10-15T14:33:51.222Z"
   },
   {
    "duration": 100,
    "start_time": "2023-10-15T14:43:28.739Z"
   },
   {
    "duration": 8,
    "start_time": "2023-10-15T14:44:12.683Z"
   },
   {
    "duration": 6,
    "start_time": "2023-10-15T14:44:21.507Z"
   },
   {
    "duration": 9,
    "start_time": "2023-10-15T14:44:44.091Z"
   },
   {
    "duration": 11,
    "start_time": "2023-10-15T14:44:48.122Z"
   },
   {
    "duration": 28,
    "start_time": "2023-10-15T14:50:09.886Z"
   },
   {
    "duration": 27,
    "start_time": "2023-10-15T14:50:20.222Z"
   },
   {
    "duration": 2540,
    "start_time": "2023-10-15T14:50:29.919Z"
   },
   {
    "duration": 1462,
    "start_time": "2023-10-15T14:50:32.462Z"
   },
   {
    "duration": 65,
    "start_time": "2023-10-15T14:50:33.926Z"
   },
   {
    "duration": 7,
    "start_time": "2023-10-15T14:50:33.993Z"
   },
   {
    "duration": 39,
    "start_time": "2023-10-15T14:50:34.002Z"
   },
   {
    "duration": 27,
    "start_time": "2023-10-15T14:50:34.043Z"
   },
   {
    "duration": 4,
    "start_time": "2023-10-15T14:50:34.072Z"
   },
   {
    "duration": 28,
    "start_time": "2023-10-15T14:50:34.077Z"
   },
   {
    "duration": 16,
    "start_time": "2023-10-15T14:50:34.106Z"
   },
   {
    "duration": 12,
    "start_time": "2023-10-15T14:50:34.125Z"
   },
   {
    "duration": 20,
    "start_time": "2023-10-15T14:50:34.139Z"
   },
   {
    "duration": 27,
    "start_time": "2023-10-15T14:50:34.160Z"
   },
   {
    "duration": 97,
    "start_time": "2023-10-15T14:50:34.189Z"
   },
   {
    "duration": 33,
    "start_time": "2023-10-15T14:50:34.288Z"
   },
   {
    "duration": 36,
    "start_time": "2023-10-15T14:50:34.323Z"
   },
   {
    "duration": 16,
    "start_time": "2023-10-15T14:50:34.361Z"
   },
   {
    "duration": 71,
    "start_time": "2023-10-15T14:50:34.379Z"
   },
   {
    "duration": 63,
    "start_time": "2023-10-15T14:50:34.452Z"
   },
   {
    "duration": 15,
    "start_time": "2023-10-15T14:50:34.517Z"
   },
   {
    "duration": 62,
    "start_time": "2023-10-15T14:50:34.534Z"
   },
   {
    "duration": 10,
    "start_time": "2023-10-15T14:50:34.597Z"
   },
   {
    "duration": 34,
    "start_time": "2023-10-15T14:50:34.609Z"
   },
   {
    "duration": 18,
    "start_time": "2023-10-15T14:50:34.645Z"
   },
   {
    "duration": 108,
    "start_time": "2023-10-15T14:50:34.665Z"
   },
   {
    "duration": 0,
    "start_time": "2023-10-15T14:50:34.775Z"
   },
   {
    "duration": 9,
    "start_time": "2023-10-15T14:53:20.464Z"
   },
   {
    "duration": 15,
    "start_time": "2023-10-15T14:53:45.769Z"
   },
   {
    "duration": 18,
    "start_time": "2023-10-15T14:54:22.975Z"
   },
   {
    "duration": 3909,
    "start_time": "2023-10-19T12:06:58.575Z"
   },
   {
    "duration": 1711,
    "start_time": "2023-10-19T12:07:02.486Z"
   },
   {
    "duration": 116,
    "start_time": "2023-10-19T12:07:04.199Z"
   },
   {
    "duration": 7,
    "start_time": "2023-10-19T12:07:04.316Z"
   },
   {
    "duration": 42,
    "start_time": "2023-10-19T12:07:04.326Z"
   },
   {
    "duration": 62,
    "start_time": "2023-10-19T12:07:04.370Z"
   },
   {
    "duration": 26,
    "start_time": "2023-10-19T12:07:04.433Z"
   },
   {
    "duration": 51,
    "start_time": "2023-10-19T12:07:04.461Z"
   },
   {
    "duration": 31,
    "start_time": "2023-10-19T12:07:04.513Z"
   },
   {
    "duration": 27,
    "start_time": "2023-10-19T12:07:04.546Z"
   },
   {
    "duration": 29,
    "start_time": "2023-10-19T12:07:04.575Z"
   },
   {
    "duration": 39,
    "start_time": "2023-10-19T12:07:04.606Z"
   },
   {
    "duration": 82,
    "start_time": "2023-10-19T12:07:04.647Z"
   },
   {
    "duration": 62,
    "start_time": "2023-10-19T12:07:04.732Z"
   },
   {
    "duration": 31,
    "start_time": "2023-10-19T12:07:04.796Z"
   },
   {
    "duration": 30,
    "start_time": "2023-10-19T12:07:04.829Z"
   },
   {
    "duration": 52,
    "start_time": "2023-10-19T12:07:04.860Z"
   },
   {
    "duration": 54,
    "start_time": "2023-10-19T12:07:04.914Z"
   },
   {
    "duration": 66,
    "start_time": "2023-10-19T12:07:04.970Z"
   },
   {
    "duration": 97,
    "start_time": "2023-10-19T12:07:05.038Z"
   },
   {
    "duration": 6,
    "start_time": "2023-10-19T12:07:05.137Z"
   },
   {
    "duration": 14,
    "start_time": "2023-10-19T12:11:19.093Z"
   },
   {
    "duration": 127,
    "start_time": "2023-10-19T12:11:50.582Z"
   },
   {
    "duration": 14,
    "start_time": "2023-10-19T12:11:57.262Z"
   },
   {
    "duration": 2703,
    "start_time": "2023-10-19T12:12:04.926Z"
   },
   {
    "duration": 1687,
    "start_time": "2023-10-19T12:12:07.632Z"
   },
   {
    "duration": 77,
    "start_time": "2023-10-19T12:12:09.321Z"
   },
   {
    "duration": 7,
    "start_time": "2023-10-19T12:12:09.399Z"
   },
   {
    "duration": 31,
    "start_time": "2023-10-19T12:12:09.409Z"
   },
   {
    "duration": 47,
    "start_time": "2023-10-19T12:12:09.441Z"
   },
   {
    "duration": 20,
    "start_time": "2023-10-19T12:12:09.490Z"
   },
   {
    "duration": 27,
    "start_time": "2023-10-19T12:12:09.512Z"
   },
   {
    "duration": 3,
    "start_time": "2023-10-19T12:12:09.540Z"
   },
   {
    "duration": 18,
    "start_time": "2023-10-19T12:12:09.545Z"
   },
   {
    "duration": 12,
    "start_time": "2023-10-19T12:12:09.567Z"
   },
   {
    "duration": 5,
    "start_time": "2023-10-19T12:12:09.580Z"
   },
   {
    "duration": 37,
    "start_time": "2023-10-19T12:12:09.587Z"
   },
   {
    "duration": 34,
    "start_time": "2023-10-19T12:12:09.627Z"
   },
   {
    "duration": 26,
    "start_time": "2023-10-19T12:12:09.664Z"
   },
   {
    "duration": 24,
    "start_time": "2023-10-19T12:12:09.692Z"
   },
   {
    "duration": 30,
    "start_time": "2023-10-19T12:12:09.718Z"
   },
   {
    "duration": 42,
    "start_time": "2023-10-19T12:12:09.751Z"
   },
   {
    "duration": 12,
    "start_time": "2023-10-19T12:12:09.795Z"
   },
   {
    "duration": 53,
    "start_time": "2023-10-19T12:12:09.809Z"
   },
   {
    "duration": 15,
    "start_time": "2023-10-19T12:12:09.863Z"
   },
   {
    "duration": 150,
    "start_time": "2023-10-19T12:13:11.029Z"
   },
   {
    "duration": 11,
    "start_time": "2023-10-19T12:13:18.735Z"
   },
   {
    "duration": 2740,
    "start_time": "2023-10-19T12:13:23.481Z"
   },
   {
    "duration": 1596,
    "start_time": "2023-10-19T12:13:26.223Z"
   },
   {
    "duration": 77,
    "start_time": "2023-10-19T12:13:27.823Z"
   },
   {
    "duration": 7,
    "start_time": "2023-10-19T12:13:27.902Z"
   },
   {
    "duration": 12,
    "start_time": "2023-10-19T12:13:27.911Z"
   },
   {
    "duration": 17,
    "start_time": "2023-10-19T12:13:27.924Z"
   },
   {
    "duration": 6,
    "start_time": "2023-10-19T12:13:27.948Z"
   },
   {
    "duration": 28,
    "start_time": "2023-10-19T12:13:27.957Z"
   },
   {
    "duration": 8,
    "start_time": "2023-10-19T12:13:27.987Z"
   },
   {
    "duration": 8,
    "start_time": "2023-10-19T12:13:27.997Z"
   },
   {
    "duration": 22,
    "start_time": "2023-10-19T12:13:28.007Z"
   },
   {
    "duration": 4,
    "start_time": "2023-10-19T12:13:28.031Z"
   },
   {
    "duration": 42,
    "start_time": "2023-10-19T12:13:28.038Z"
   },
   {
    "duration": 26,
    "start_time": "2023-10-19T12:13:28.082Z"
   },
   {
    "duration": 17,
    "start_time": "2023-10-19T12:13:28.110Z"
   },
   {
    "duration": 14,
    "start_time": "2023-10-19T12:13:28.129Z"
   },
   {
    "duration": 20,
    "start_time": "2023-10-19T12:13:28.145Z"
   },
   {
    "duration": 38,
    "start_time": "2023-10-19T12:13:28.168Z"
   },
   {
    "duration": 12,
    "start_time": "2023-10-19T12:13:28.208Z"
   },
   {
    "duration": 47,
    "start_time": "2023-10-19T12:13:28.222Z"
   },
   {
    "duration": 14,
    "start_time": "2023-10-19T12:13:28.270Z"
   },
   {
    "duration": 2717,
    "start_time": "2023-10-19T12:14:09.501Z"
   },
   {
    "duration": 1622,
    "start_time": "2023-10-19T12:14:12.221Z"
   },
   {
    "duration": 66,
    "start_time": "2023-10-19T12:14:13.845Z"
   },
   {
    "duration": 6,
    "start_time": "2023-10-19T12:14:13.913Z"
   },
   {
    "duration": 34,
    "start_time": "2023-10-19T12:14:13.921Z"
   },
   {
    "duration": 19,
    "start_time": "2023-10-19T12:14:13.957Z"
   },
   {
    "duration": 9,
    "start_time": "2023-10-19T12:14:13.978Z"
   },
   {
    "duration": 30,
    "start_time": "2023-10-19T12:14:13.989Z"
   },
   {
    "duration": 2,
    "start_time": "2023-10-19T12:14:14.021Z"
   },
   {
    "duration": 13,
    "start_time": "2023-10-19T12:14:14.025Z"
   },
   {
    "duration": 24,
    "start_time": "2023-10-19T12:14:14.040Z"
   },
   {
    "duration": 16,
    "start_time": "2023-10-19T12:14:14.066Z"
   },
   {
    "duration": 46,
    "start_time": "2023-10-19T12:14:14.084Z"
   },
   {
    "duration": 15,
    "start_time": "2023-10-19T12:14:14.134Z"
   },
   {
    "duration": 10,
    "start_time": "2023-10-19T12:14:14.150Z"
   },
   {
    "duration": 16,
    "start_time": "2023-10-19T12:14:14.161Z"
   },
   {
    "duration": 12,
    "start_time": "2023-10-19T12:14:14.178Z"
   },
   {
    "duration": 40,
    "start_time": "2023-10-19T12:14:14.191Z"
   },
   {
    "duration": 12,
    "start_time": "2023-10-19T12:14:14.232Z"
   },
   {
    "duration": 40,
    "start_time": "2023-10-19T12:14:14.246Z"
   },
   {
    "duration": 12,
    "start_time": "2023-10-19T12:14:14.288Z"
   },
   {
    "duration": 2848,
    "start_time": "2023-10-19T12:16:20.035Z"
   },
   {
    "duration": 1577,
    "start_time": "2023-10-19T12:16:22.887Z"
   },
   {
    "duration": 69,
    "start_time": "2023-10-19T12:16:24.467Z"
   },
   {
    "duration": 7,
    "start_time": "2023-10-19T12:16:24.538Z"
   },
   {
    "duration": 17,
    "start_time": "2023-10-19T12:16:24.547Z"
   },
   {
    "duration": 27,
    "start_time": "2023-10-19T12:16:24.566Z"
   },
   {
    "duration": 24,
    "start_time": "2023-10-19T12:16:24.595Z"
   },
   {
    "duration": 24,
    "start_time": "2023-10-19T12:16:24.621Z"
   },
   {
    "duration": 20,
    "start_time": "2023-10-19T12:16:24.647Z"
   },
   {
    "duration": 12,
    "start_time": "2023-10-19T12:16:24.672Z"
   },
   {
    "duration": 32,
    "start_time": "2023-10-19T12:16:24.686Z"
   },
   {
    "duration": 33,
    "start_time": "2023-10-19T12:16:24.720Z"
   },
   {
    "duration": 46,
    "start_time": "2023-10-19T12:16:24.757Z"
   },
   {
    "duration": 27,
    "start_time": "2023-10-19T12:16:24.805Z"
   },
   {
    "duration": 15,
    "start_time": "2023-10-19T12:16:24.834Z"
   },
   {
    "duration": 34,
    "start_time": "2023-10-19T12:16:24.851Z"
   },
   {
    "duration": 20,
    "start_time": "2023-10-19T12:16:24.887Z"
   },
   {
    "duration": 53,
    "start_time": "2023-10-19T12:16:24.909Z"
   },
   {
    "duration": 35,
    "start_time": "2023-10-19T12:16:24.964Z"
   },
   {
    "duration": 55,
    "start_time": "2023-10-19T12:16:25.001Z"
   },
   {
    "duration": 13,
    "start_time": "2023-10-19T12:16:25.058Z"
   },
   {
    "duration": 15,
    "start_time": "2023-10-19T12:16:39.575Z"
   },
   {
    "duration": 14,
    "start_time": "2023-10-19T12:16:43.944Z"
   },
   {
    "duration": 146,
    "start_time": "2023-10-19T12:26:06.687Z"
   },
   {
    "duration": 16,
    "start_time": "2023-10-19T12:26:17.340Z"
   },
   {
    "duration": 12,
    "start_time": "2023-10-19T12:26:23.731Z"
   },
   {
    "duration": 13,
    "start_time": "2023-10-19T12:26:31.036Z"
   },
   {
    "duration": 20,
    "start_time": "2023-10-19T12:27:33.501Z"
   },
   {
    "duration": 14,
    "start_time": "2023-10-19T12:27:34.469Z"
   },
   {
    "duration": 17,
    "start_time": "2023-10-19T12:29:36.591Z"
   },
   {
    "duration": 14,
    "start_time": "2023-10-19T12:29:37.613Z"
   },
   {
    "duration": 2780,
    "start_time": "2023-10-19T12:29:44.922Z"
   },
   {
    "duration": 1625,
    "start_time": "2023-10-19T12:29:47.708Z"
   },
   {
    "duration": 82,
    "start_time": "2023-10-19T12:29:49.334Z"
   },
   {
    "duration": 49,
    "start_time": "2023-10-19T12:29:49.418Z"
   },
   {
    "duration": 37,
    "start_time": "2023-10-19T12:29:49.470Z"
   },
   {
    "duration": 26,
    "start_time": "2023-10-19T12:29:49.509Z"
   },
   {
    "duration": 23,
    "start_time": "2023-10-19T12:29:49.537Z"
   },
   {
    "duration": 42,
    "start_time": "2023-10-19T12:29:49.562Z"
   },
   {
    "duration": 19,
    "start_time": "2023-10-19T12:29:49.606Z"
   },
   {
    "duration": 30,
    "start_time": "2023-10-19T12:29:49.627Z"
   },
   {
    "duration": 18,
    "start_time": "2023-10-19T12:29:49.659Z"
   },
   {
    "duration": 10,
    "start_time": "2023-10-19T12:29:49.680Z"
   },
   {
    "duration": 37,
    "start_time": "2023-10-19T12:29:49.693Z"
   },
   {
    "duration": 13,
    "start_time": "2023-10-19T12:29:49.734Z"
   },
   {
    "duration": 19,
    "start_time": "2023-10-19T12:29:49.749Z"
   },
   {
    "duration": 26,
    "start_time": "2023-10-19T12:29:49.771Z"
   },
   {
    "duration": 21,
    "start_time": "2023-10-19T12:29:49.800Z"
   },
   {
    "duration": 60,
    "start_time": "2023-10-19T12:29:49.823Z"
   },
   {
    "duration": 25,
    "start_time": "2023-10-19T12:29:49.885Z"
   },
   {
    "duration": 55,
    "start_time": "2023-10-19T12:29:49.912Z"
   },
   {
    "duration": 15,
    "start_time": "2023-10-19T12:29:49.969Z"
   },
   {
    "duration": 25,
    "start_time": "2023-10-19T12:29:49.986Z"
   },
   {
    "duration": 21,
    "start_time": "2023-10-19T12:30:02.942Z"
   },
   {
    "duration": 12,
    "start_time": "2023-10-19T12:30:06.174Z"
   },
   {
    "duration": 6,
    "start_time": "2023-10-19T12:32:31.416Z"
   },
   {
    "duration": 196,
    "start_time": "2023-10-19T12:32:36.601Z"
   },
   {
    "duration": 2835,
    "start_time": "2023-10-19T12:32:43.081Z"
   },
   {
    "duration": 1627,
    "start_time": "2023-10-19T12:32:45.918Z"
   },
   {
    "duration": 67,
    "start_time": "2023-10-19T12:32:47.547Z"
   },
   {
    "duration": 7,
    "start_time": "2023-10-19T12:32:47.616Z"
   },
   {
    "duration": 41,
    "start_time": "2023-10-19T12:32:47.625Z"
   },
   {
    "duration": 40,
    "start_time": "2023-10-19T12:32:47.667Z"
   },
   {
    "duration": 11,
    "start_time": "2023-10-19T12:32:47.709Z"
   },
   {
    "duration": 35,
    "start_time": "2023-10-19T12:32:47.722Z"
   },
   {
    "duration": 4,
    "start_time": "2023-10-19T12:32:47.758Z"
   },
   {
    "duration": 13,
    "start_time": "2023-10-19T12:32:47.764Z"
   },
   {
    "duration": 26,
    "start_time": "2023-10-19T12:32:47.778Z"
   },
   {
    "duration": 4,
    "start_time": "2023-10-19T12:32:47.806Z"
   },
   {
    "duration": 23,
    "start_time": "2023-10-19T12:32:47.812Z"
   },
   {
    "duration": 11,
    "start_time": "2023-10-19T12:32:47.838Z"
   },
   {
    "duration": 11,
    "start_time": "2023-10-19T12:32:47.851Z"
   },
   {
    "duration": 12,
    "start_time": "2023-10-19T12:32:47.864Z"
   },
   {
    "duration": 6,
    "start_time": "2023-10-19T12:32:47.878Z"
   },
   {
    "duration": 28,
    "start_time": "2023-10-19T12:32:47.886Z"
   },
   {
    "duration": 187,
    "start_time": "2023-10-19T12:32:47.916Z"
   },
   {
    "duration": 15,
    "start_time": "2023-10-19T12:32:48.105Z"
   },
   {
    "duration": 61,
    "start_time": "2023-10-19T12:32:48.122Z"
   },
   {
    "duration": 22,
    "start_time": "2023-10-19T12:32:48.186Z"
   },
   {
    "duration": 14,
    "start_time": "2023-10-19T12:32:48.210Z"
   },
   {
    "duration": 1735,
    "start_time": "2023-10-19T12:33:25.255Z"
   },
   {
    "duration": 296,
    "start_time": "2023-10-19T12:33:38.280Z"
   },
   {
    "duration": 15,
    "start_time": "2023-10-19T12:34:08.322Z"
   },
   {
    "duration": 11,
    "start_time": "2023-10-19T12:34:15.011Z"
   },
   {
    "duration": 2809,
    "start_time": "2023-10-19T12:35:28.112Z"
   },
   {
    "duration": 1702,
    "start_time": "2023-10-19T12:35:30.924Z"
   },
   {
    "duration": 87,
    "start_time": "2023-10-19T12:35:32.628Z"
   },
   {
    "duration": 8,
    "start_time": "2023-10-19T12:35:32.717Z"
   },
   {
    "duration": 44,
    "start_time": "2023-10-19T12:35:32.727Z"
   },
   {
    "duration": 24,
    "start_time": "2023-10-19T12:35:32.774Z"
   },
   {
    "duration": 49,
    "start_time": "2023-10-19T12:35:32.799Z"
   },
   {
    "duration": 52,
    "start_time": "2023-10-19T12:35:32.850Z"
   },
   {
    "duration": 42,
    "start_time": "2023-10-19T12:35:32.904Z"
   },
   {
    "duration": 175,
    "start_time": "2023-10-19T12:35:32.949Z"
   },
   {
    "duration": 156,
    "start_time": "2023-10-19T12:35:33.126Z"
   },
   {
    "duration": 29,
    "start_time": "2023-10-19T12:35:33.285Z"
   },
   {
    "duration": 60,
    "start_time": "2023-10-19T12:35:33.316Z"
   },
   {
    "duration": 38,
    "start_time": "2023-10-19T12:35:33.380Z"
   },
   {
    "duration": 23,
    "start_time": "2023-10-19T12:35:33.419Z"
   },
   {
    "duration": 20,
    "start_time": "2023-10-19T12:35:33.445Z"
   },
   {
    "duration": 20,
    "start_time": "2023-10-19T12:35:33.467Z"
   },
   {
    "duration": 36,
    "start_time": "2023-10-19T12:35:33.489Z"
   },
   {
    "duration": 20,
    "start_time": "2023-10-19T12:35:33.527Z"
   },
   {
    "duration": 66,
    "start_time": "2023-10-19T12:35:33.551Z"
   },
   {
    "duration": 66,
    "start_time": "2023-10-19T12:35:33.620Z"
   },
   {
    "duration": 15,
    "start_time": "2023-10-19T12:35:33.688Z"
   },
   {
    "duration": 14,
    "start_time": "2023-10-19T12:35:33.705Z"
   },
   {
    "duration": 3,
    "start_time": "2023-10-19T12:35:33.720Z"
   },
   {
    "duration": 9,
    "start_time": "2023-10-19T12:42:37.759Z"
   },
   {
    "duration": 15,
    "start_time": "2023-10-19T12:42:48.124Z"
   },
   {
    "duration": 9,
    "start_time": "2023-10-19T12:43:10.831Z"
   },
   {
    "duration": 9,
    "start_time": "2023-10-19T12:43:11.201Z"
   },
   {
    "duration": 2583,
    "start_time": "2023-10-19T12:43:14.942Z"
   },
   {
    "duration": 1584,
    "start_time": "2023-10-19T12:43:17.528Z"
   },
   {
    "duration": 66,
    "start_time": "2023-10-19T12:43:19.114Z"
   },
   {
    "duration": 6,
    "start_time": "2023-10-19T12:43:19.182Z"
   },
   {
    "duration": 34,
    "start_time": "2023-10-19T12:43:19.190Z"
   },
   {
    "duration": 45,
    "start_time": "2023-10-19T12:43:19.225Z"
   },
   {
    "duration": 4,
    "start_time": "2023-10-19T12:43:19.272Z"
   },
   {
    "duration": 40,
    "start_time": "2023-10-19T12:43:19.278Z"
   },
   {
    "duration": 38,
    "start_time": "2023-10-19T12:43:19.320Z"
   },
   {
    "duration": 15,
    "start_time": "2023-10-19T12:43:19.361Z"
   },
   {
    "duration": 13,
    "start_time": "2023-10-19T12:43:19.377Z"
   },
   {
    "duration": 12,
    "start_time": "2023-10-19T12:43:19.392Z"
   },
   {
    "duration": 61,
    "start_time": "2023-10-19T12:43:19.406Z"
   },
   {
    "duration": 10,
    "start_time": "2023-10-19T12:43:19.470Z"
   },
   {
    "duration": 10,
    "start_time": "2023-10-19T12:43:19.482Z"
   },
   {
    "duration": 17,
    "start_time": "2023-10-19T12:43:19.493Z"
   },
   {
    "duration": 8,
    "start_time": "2023-10-19T12:43:19.511Z"
   },
   {
    "duration": 39,
    "start_time": "2023-10-19T12:43:19.521Z"
   },
   {
    "duration": 15,
    "start_time": "2023-10-19T12:43:19.561Z"
   },
   {
    "duration": 38,
    "start_time": "2023-10-19T12:43:19.578Z"
   },
   {
    "duration": 44,
    "start_time": "2023-10-19T12:43:19.618Z"
   },
   {
    "duration": 13,
    "start_time": "2023-10-19T12:43:19.663Z"
   },
   {
    "duration": 23,
    "start_time": "2023-10-19T12:43:19.677Z"
   },
   {
    "duration": 12,
    "start_time": "2023-10-19T12:43:19.701Z"
   },
   {
    "duration": 2656,
    "start_time": "2023-10-19T13:00:32.219Z"
   },
   {
    "duration": 1619,
    "start_time": "2023-10-19T13:00:34.878Z"
   },
   {
    "duration": 71,
    "start_time": "2023-10-19T13:00:36.498Z"
   },
   {
    "duration": 7,
    "start_time": "2023-10-19T13:00:36.571Z"
   },
   {
    "duration": 18,
    "start_time": "2023-10-19T13:00:36.580Z"
   },
   {
    "duration": 37,
    "start_time": "2023-10-19T13:00:36.600Z"
   },
   {
    "duration": 9,
    "start_time": "2023-10-19T13:00:36.639Z"
   },
   {
    "duration": 64,
    "start_time": "2023-10-19T13:00:36.649Z"
   },
   {
    "duration": 26,
    "start_time": "2023-10-19T13:00:36.715Z"
   },
   {
    "duration": 14,
    "start_time": "2023-10-19T13:00:36.744Z"
   },
   {
    "duration": 40,
    "start_time": "2023-10-19T13:00:36.760Z"
   },
   {
    "duration": 28,
    "start_time": "2023-10-19T13:00:36.802Z"
   },
   {
    "duration": 31,
    "start_time": "2023-10-19T13:00:36.831Z"
   },
   {
    "duration": 28,
    "start_time": "2023-10-19T13:00:36.865Z"
   },
   {
    "duration": 22,
    "start_time": "2023-10-19T13:00:36.895Z"
   },
   {
    "duration": 26,
    "start_time": "2023-10-19T13:00:36.920Z"
   },
   {
    "duration": 36,
    "start_time": "2023-10-19T13:00:36.948Z"
   },
   {
    "duration": 74,
    "start_time": "2023-10-19T13:00:36.986Z"
   },
   {
    "duration": 21,
    "start_time": "2023-10-19T13:00:37.062Z"
   },
   {
    "duration": 47,
    "start_time": "2023-10-19T13:00:37.085Z"
   },
   {
    "duration": 30,
    "start_time": "2023-10-19T13:00:37.134Z"
   },
   {
    "duration": 30,
    "start_time": "2023-10-19T13:00:37.166Z"
   },
   {
    "duration": 14,
    "start_time": "2023-10-19T13:00:37.198Z"
   },
   {
    "duration": 29,
    "start_time": "2023-10-19T13:00:37.214Z"
   },
   {
    "duration": 2498,
    "start_time": "2023-10-19T13:15:21.624Z"
   },
   {
    "duration": 1666,
    "start_time": "2023-10-19T13:15:24.124Z"
   },
   {
    "duration": 89,
    "start_time": "2023-10-19T13:15:25.791Z"
   },
   {
    "duration": 10,
    "start_time": "2023-10-19T13:15:25.882Z"
   },
   {
    "duration": 19,
    "start_time": "2023-10-19T13:15:25.895Z"
   },
   {
    "duration": 34,
    "start_time": "2023-10-19T13:15:25.916Z"
   },
   {
    "duration": 17,
    "start_time": "2023-10-19T13:15:25.952Z"
   },
   {
    "duration": 27,
    "start_time": "2023-10-19T13:15:25.971Z"
   },
   {
    "duration": 3,
    "start_time": "2023-10-19T13:15:26.001Z"
   },
   {
    "duration": 14,
    "start_time": "2023-10-19T13:15:26.006Z"
   },
   {
    "duration": 14,
    "start_time": "2023-10-19T13:15:26.022Z"
   },
   {
    "duration": 17,
    "start_time": "2023-10-19T13:15:26.039Z"
   },
   {
    "duration": 60,
    "start_time": "2023-10-19T13:15:26.058Z"
   },
   {
    "duration": 31,
    "start_time": "2023-10-19T13:15:26.122Z"
   },
   {
    "duration": 46,
    "start_time": "2023-10-19T13:15:26.155Z"
   },
   {
    "duration": 20,
    "start_time": "2023-10-19T13:15:26.203Z"
   },
   {
    "duration": 19,
    "start_time": "2023-10-19T13:15:26.228Z"
   },
   {
    "duration": 54,
    "start_time": "2023-10-19T13:15:26.250Z"
   },
   {
    "duration": 19,
    "start_time": "2023-10-19T13:15:26.306Z"
   },
   {
    "duration": 58,
    "start_time": "2023-10-19T13:15:26.328Z"
   },
   {
    "duration": 31,
    "start_time": "2023-10-19T13:15:26.389Z"
   },
   {
    "duration": 13,
    "start_time": "2023-10-19T13:15:46.013Z"
   },
   {
    "duration": 12,
    "start_time": "2023-10-19T13:16:08.406Z"
   },
   {
    "duration": 12,
    "start_time": "2023-10-19T13:16:21.909Z"
   },
   {
    "duration": 2500,
    "start_time": "2023-10-19T13:19:16.089Z"
   },
   {
    "duration": 1533,
    "start_time": "2023-10-19T13:19:18.592Z"
   },
   {
    "duration": 68,
    "start_time": "2023-10-19T13:19:20.126Z"
   },
   {
    "duration": 8,
    "start_time": "2023-10-19T13:19:20.195Z"
   },
   {
    "duration": 58,
    "start_time": "2023-10-19T13:19:20.205Z"
   },
   {
    "duration": 35,
    "start_time": "2023-10-19T13:19:20.264Z"
   },
   {
    "duration": 32,
    "start_time": "2023-10-19T13:19:20.301Z"
   },
   {
    "duration": 29,
    "start_time": "2023-10-19T13:19:20.336Z"
   },
   {
    "duration": 4,
    "start_time": "2023-10-19T13:19:20.368Z"
   },
   {
    "duration": 17,
    "start_time": "2023-10-19T13:19:20.373Z"
   },
   {
    "duration": 17,
    "start_time": "2023-10-19T13:19:20.392Z"
   },
   {
    "duration": 24,
    "start_time": "2023-10-19T13:19:20.411Z"
   },
   {
    "duration": 41,
    "start_time": "2023-10-19T13:19:20.437Z"
   },
   {
    "duration": 38,
    "start_time": "2023-10-19T13:19:20.482Z"
   },
   {
    "duration": 26,
    "start_time": "2023-10-19T13:19:20.522Z"
   },
   {
    "duration": 24,
    "start_time": "2023-10-19T13:19:20.550Z"
   },
   {
    "duration": 29,
    "start_time": "2023-10-19T13:19:20.576Z"
   },
   {
    "duration": 58,
    "start_time": "2023-10-19T13:19:20.608Z"
   },
   {
    "duration": 26,
    "start_time": "2023-10-19T13:19:20.669Z"
   },
   {
    "duration": 55,
    "start_time": "2023-10-19T13:19:20.698Z"
   },
   {
    "duration": 31,
    "start_time": "2023-10-19T13:19:20.755Z"
   },
   {
    "duration": 14,
    "start_time": "2023-10-19T13:19:20.787Z"
   },
   {
    "duration": 27,
    "start_time": "2023-10-19T13:19:20.803Z"
   },
   {
    "duration": 29,
    "start_time": "2023-10-19T13:19:20.832Z"
   },
   {
    "duration": 12,
    "start_time": "2023-10-19T13:29:45.754Z"
   },
   {
    "duration": 2392,
    "start_time": "2023-10-19T13:29:51.723Z"
   },
   {
    "duration": 1500,
    "start_time": "2023-10-19T13:29:54.117Z"
   },
   {
    "duration": 67,
    "start_time": "2023-10-19T13:29:55.619Z"
   },
   {
    "duration": 7,
    "start_time": "2023-10-19T13:29:55.688Z"
   },
   {
    "duration": 18,
    "start_time": "2023-10-19T13:29:55.697Z"
   },
   {
    "duration": 28,
    "start_time": "2023-10-19T13:29:55.717Z"
   },
   {
    "duration": 4,
    "start_time": "2023-10-19T13:29:55.747Z"
   },
   {
    "duration": 38,
    "start_time": "2023-10-19T13:29:55.752Z"
   },
   {
    "duration": 23,
    "start_time": "2023-10-19T13:29:55.792Z"
   },
   {
    "duration": 33,
    "start_time": "2023-10-19T13:29:55.817Z"
   },
   {
    "duration": 60,
    "start_time": "2023-10-19T13:29:55.852Z"
   },
   {
    "duration": 8,
    "start_time": "2023-10-19T13:29:55.914Z"
   },
   {
    "duration": 31,
    "start_time": "2023-10-19T13:29:55.924Z"
   },
   {
    "duration": 42,
    "start_time": "2023-10-19T13:29:55.959Z"
   },
   {
    "duration": 16,
    "start_time": "2023-10-19T13:29:56.003Z"
   },
   {
    "duration": 12,
    "start_time": "2023-10-19T13:29:56.021Z"
   },
   {
    "duration": 18,
    "start_time": "2023-10-19T13:29:56.034Z"
   },
   {
    "duration": 71,
    "start_time": "2023-10-19T13:29:56.054Z"
   },
   {
    "duration": 34,
    "start_time": "2023-10-19T13:29:56.127Z"
   },
   {
    "duration": 45,
    "start_time": "2023-10-19T13:29:56.163Z"
   },
   {
    "duration": 52,
    "start_time": "2023-10-19T13:29:56.210Z"
   },
   {
    "duration": 16,
    "start_time": "2023-10-19T13:29:56.263Z"
   },
   {
    "duration": 34,
    "start_time": "2023-10-19T13:29:56.280Z"
   },
   {
    "duration": 13,
    "start_time": "2023-10-19T13:29:56.316Z"
   },
   {
    "duration": 2435,
    "start_time": "2023-10-19T13:34:29.966Z"
   },
   {
    "duration": 1506,
    "start_time": "2023-10-19T13:34:32.403Z"
   },
   {
    "duration": 66,
    "start_time": "2023-10-19T13:34:33.911Z"
   },
   {
    "duration": 7,
    "start_time": "2023-10-19T13:34:33.978Z"
   },
   {
    "duration": 6,
    "start_time": "2023-10-19T13:34:33.988Z"
   },
   {
    "duration": 14,
    "start_time": "2023-10-19T13:34:33.996Z"
   },
   {
    "duration": 5,
    "start_time": "2023-10-19T13:34:34.011Z"
   },
   {
    "duration": 40,
    "start_time": "2023-10-19T13:34:34.018Z"
   },
   {
    "duration": 18,
    "start_time": "2023-10-19T13:34:34.060Z"
   },
   {
    "duration": 85,
    "start_time": "2023-10-19T13:34:34.080Z"
   },
   {
    "duration": 45,
    "start_time": "2023-10-19T13:34:34.167Z"
   },
   {
    "duration": 39,
    "start_time": "2023-10-19T13:34:34.214Z"
   },
   {
    "duration": 35,
    "start_time": "2023-10-19T13:34:34.255Z"
   },
   {
    "duration": 26,
    "start_time": "2023-10-19T13:34:34.293Z"
   },
   {
    "duration": 17,
    "start_time": "2023-10-19T13:34:34.321Z"
   },
   {
    "duration": 26,
    "start_time": "2023-10-19T13:34:34.340Z"
   },
   {
    "duration": 35,
    "start_time": "2023-10-19T13:34:34.367Z"
   },
   {
    "duration": 38,
    "start_time": "2023-10-19T13:34:34.405Z"
   },
   {
    "duration": 24,
    "start_time": "2023-10-19T13:34:34.444Z"
   },
   {
    "duration": 43,
    "start_time": "2023-10-19T13:34:34.470Z"
   },
   {
    "duration": 132,
    "start_time": "2023-10-19T13:34:34.515Z"
   },
   {
    "duration": 0,
    "start_time": "2023-10-19T13:34:34.649Z"
   },
   {
    "duration": 0,
    "start_time": "2023-10-19T13:34:34.650Z"
   },
   {
    "duration": 0,
    "start_time": "2023-10-19T13:34:34.652Z"
   },
   {
    "duration": 2505,
    "start_time": "2023-10-19T13:34:46.558Z"
   },
   {
    "duration": 1550,
    "start_time": "2023-10-19T13:34:49.066Z"
   },
   {
    "duration": 66,
    "start_time": "2023-10-19T13:34:50.618Z"
   },
   {
    "duration": 8,
    "start_time": "2023-10-19T13:34:50.686Z"
   },
   {
    "duration": 16,
    "start_time": "2023-10-19T13:34:50.697Z"
   },
   {
    "duration": 37,
    "start_time": "2023-10-19T13:34:50.715Z"
   },
   {
    "duration": 33,
    "start_time": "2023-10-19T13:34:50.754Z"
   },
   {
    "duration": 49,
    "start_time": "2023-10-19T13:34:50.790Z"
   },
   {
    "duration": 22,
    "start_time": "2023-10-19T13:34:50.841Z"
   },
   {
    "duration": 37,
    "start_time": "2023-10-19T13:34:50.865Z"
   },
   {
    "duration": 49,
    "start_time": "2023-10-19T13:34:50.904Z"
   },
   {
    "duration": 30,
    "start_time": "2023-10-19T13:34:50.955Z"
   },
   {
    "duration": 51,
    "start_time": "2023-10-19T13:34:50.987Z"
   },
   {
    "duration": 14,
    "start_time": "2023-10-19T13:34:51.042Z"
   },
   {
    "duration": 19,
    "start_time": "2023-10-19T13:34:51.058Z"
   },
   {
    "duration": 29,
    "start_time": "2023-10-19T13:34:51.079Z"
   },
   {
    "duration": 58,
    "start_time": "2023-10-19T13:34:51.110Z"
   },
   {
    "duration": 66,
    "start_time": "2023-10-19T13:34:51.170Z"
   },
   {
    "duration": 27,
    "start_time": "2023-10-19T13:34:51.238Z"
   },
   {
    "duration": 61,
    "start_time": "2023-10-19T13:34:51.267Z"
   },
   {
    "duration": 47,
    "start_time": "2023-10-19T13:34:51.330Z"
   },
   {
    "duration": 22,
    "start_time": "2023-10-19T13:34:51.379Z"
   },
   {
    "duration": 39,
    "start_time": "2023-10-19T13:34:51.403Z"
   },
   {
    "duration": 48,
    "start_time": "2023-10-19T13:34:51.444Z"
   },
   {
    "duration": 6,
    "start_time": "2023-10-19T13:41:11.710Z"
   },
   {
    "duration": 5,
    "start_time": "2023-10-19T13:41:28.910Z"
   },
   {
    "duration": 5,
    "start_time": "2023-10-19T13:41:31.581Z"
   },
   {
    "duration": 25,
    "start_time": "2023-10-19T13:49:17.016Z"
   },
   {
    "duration": 13,
    "start_time": "2023-10-19T13:49:21.680Z"
   },
   {
    "duration": 21,
    "start_time": "2023-10-19T13:49:24.816Z"
   },
   {
    "duration": 137,
    "start_time": "2023-10-19T13:50:19.665Z"
   },
   {
    "duration": 4,
    "start_time": "2023-10-19T13:50:27.833Z"
   },
   {
    "duration": 20,
    "start_time": "2023-10-19T13:50:37.859Z"
   },
   {
    "duration": 20,
    "start_time": "2023-10-19T13:50:49.745Z"
   },
   {
    "duration": 2711,
    "start_time": "2023-10-19T13:50:53.757Z"
   },
   {
    "duration": 1547,
    "start_time": "2023-10-19T13:50:56.470Z"
   },
   {
    "duration": 72,
    "start_time": "2023-10-19T13:50:58.019Z"
   },
   {
    "duration": 9,
    "start_time": "2023-10-19T13:50:58.094Z"
   },
   {
    "duration": 18,
    "start_time": "2023-10-19T13:50:58.105Z"
   },
   {
    "duration": 27,
    "start_time": "2023-10-19T13:50:58.125Z"
   },
   {
    "duration": 6,
    "start_time": "2023-10-19T13:50:58.154Z"
   },
   {
    "duration": 29,
    "start_time": "2023-10-19T13:50:58.162Z"
   },
   {
    "duration": 3,
    "start_time": "2023-10-19T13:50:58.192Z"
   },
   {
    "duration": 21,
    "start_time": "2023-10-19T13:50:58.198Z"
   },
   {
    "duration": 9,
    "start_time": "2023-10-19T13:50:58.221Z"
   },
   {
    "duration": 26,
    "start_time": "2023-10-19T13:50:58.231Z"
   },
   {
    "duration": 48,
    "start_time": "2023-10-19T13:50:58.260Z"
   },
   {
    "duration": 23,
    "start_time": "2023-10-19T13:50:58.310Z"
   },
   {
    "duration": 49,
    "start_time": "2023-10-19T13:50:58.334Z"
   },
   {
    "duration": 23,
    "start_time": "2023-10-19T13:50:58.385Z"
   },
   {
    "duration": 6,
    "start_time": "2023-10-19T13:50:58.410Z"
   },
   {
    "duration": 29,
    "start_time": "2023-10-19T13:50:58.417Z"
   },
   {
    "duration": 16,
    "start_time": "2023-10-19T13:50:58.453Z"
   },
   {
    "duration": 53,
    "start_time": "2023-10-19T13:50:58.471Z"
   },
   {
    "duration": 37,
    "start_time": "2023-10-19T13:50:58.526Z"
   },
   {
    "duration": 12,
    "start_time": "2023-10-19T13:50:58.564Z"
   },
   {
    "duration": 17,
    "start_time": "2023-10-19T13:50:58.577Z"
   },
   {
    "duration": 23,
    "start_time": "2023-10-19T13:50:58.595Z"
   },
   {
    "duration": 22,
    "start_time": "2023-10-19T13:50:58.620Z"
   },
   {
    "duration": 19,
    "start_time": "2023-10-19T13:51:02.969Z"
   },
   {
    "duration": 154,
    "start_time": "2023-10-19T13:51:10.232Z"
   },
   {
    "duration": 2838,
    "start_time": "2023-10-19T13:51:14.672Z"
   },
   {
    "duration": 1630,
    "start_time": "2023-10-19T13:51:17.513Z"
   },
   {
    "duration": 78,
    "start_time": "2023-10-19T13:51:19.145Z"
   },
   {
    "duration": 9,
    "start_time": "2023-10-19T13:51:19.225Z"
   },
   {
    "duration": 37,
    "start_time": "2023-10-19T13:51:19.236Z"
   },
   {
    "duration": 59,
    "start_time": "2023-10-19T13:51:19.274Z"
   },
   {
    "duration": 38,
    "start_time": "2023-10-19T13:51:19.334Z"
   },
   {
    "duration": 26,
    "start_time": "2023-10-19T13:51:19.373Z"
   },
   {
    "duration": 17,
    "start_time": "2023-10-19T13:51:19.401Z"
   },
   {
    "duration": 17,
    "start_time": "2023-10-19T13:51:19.420Z"
   },
   {
    "duration": 30,
    "start_time": "2023-10-19T13:51:19.439Z"
   },
   {
    "duration": 10,
    "start_time": "2023-10-19T13:51:19.471Z"
   },
   {
    "duration": 33,
    "start_time": "2023-10-19T13:51:19.482Z"
   },
   {
    "duration": 11,
    "start_time": "2023-10-19T13:51:19.517Z"
   },
   {
    "duration": 12,
    "start_time": "2023-10-19T13:51:19.530Z"
   },
   {
    "duration": 30,
    "start_time": "2023-10-19T13:51:19.544Z"
   },
   {
    "duration": 52,
    "start_time": "2023-10-19T13:51:19.576Z"
   },
   {
    "duration": 63,
    "start_time": "2023-10-19T13:51:19.630Z"
   },
   {
    "duration": 15,
    "start_time": "2023-10-19T13:51:19.695Z"
   },
   {
    "duration": 57,
    "start_time": "2023-10-19T13:51:19.711Z"
   },
   {
    "duration": 34,
    "start_time": "2023-10-19T13:51:19.770Z"
   },
   {
    "duration": 12,
    "start_time": "2023-10-19T13:51:19.806Z"
   },
   {
    "duration": 34,
    "start_time": "2023-10-19T13:51:19.820Z"
   },
   {
    "duration": 20,
    "start_time": "2023-10-19T13:51:19.861Z"
   },
   {
    "duration": 14,
    "start_time": "2023-10-19T13:51:19.883Z"
   },
   {
    "duration": 46,
    "start_time": "2023-10-19T13:51:19.899Z"
   },
   {
    "duration": 2580,
    "start_time": "2023-10-19T13:51:58.234Z"
   },
   {
    "duration": 1510,
    "start_time": "2023-10-19T13:52:00.817Z"
   },
   {
    "duration": 68,
    "start_time": "2023-10-19T13:52:02.332Z"
   },
   {
    "duration": 109,
    "start_time": "2023-10-19T13:52:02.402Z"
   },
   {
    "duration": 41,
    "start_time": "2023-10-19T13:52:02.513Z"
   },
   {
    "duration": 45,
    "start_time": "2023-10-19T13:52:02.556Z"
   },
   {
    "duration": 84,
    "start_time": "2023-10-19T13:52:02.603Z"
   },
   {
    "duration": 82,
    "start_time": "2023-10-19T13:52:02.689Z"
   },
   {
    "duration": 11,
    "start_time": "2023-10-19T13:52:02.774Z"
   },
   {
    "duration": 19,
    "start_time": "2023-10-19T13:52:02.787Z"
   },
   {
    "duration": 65,
    "start_time": "2023-10-19T13:52:02.808Z"
   },
   {
    "duration": 36,
    "start_time": "2023-10-19T13:52:02.875Z"
   },
   {
    "duration": 43,
    "start_time": "2023-10-19T13:52:02.913Z"
   },
   {
    "duration": 23,
    "start_time": "2023-10-19T13:52:02.958Z"
   },
   {
    "duration": 15,
    "start_time": "2023-10-19T13:52:02.983Z"
   },
   {
    "duration": 30,
    "start_time": "2023-10-19T13:52:03.000Z"
   },
   {
    "duration": 26,
    "start_time": "2023-10-19T13:52:03.032Z"
   },
   {
    "duration": 54,
    "start_time": "2023-10-19T13:52:03.060Z"
   },
   {
    "duration": 84,
    "start_time": "2023-10-19T13:52:03.116Z"
   },
   {
    "duration": 43,
    "start_time": "2023-10-19T13:52:03.201Z"
   },
   {
    "duration": 37,
    "start_time": "2023-10-19T13:52:03.246Z"
   },
   {
    "duration": 14,
    "start_time": "2023-10-19T13:52:03.285Z"
   },
   {
    "duration": 22,
    "start_time": "2023-10-19T13:52:03.301Z"
   },
   {
    "duration": 39,
    "start_time": "2023-10-19T13:52:03.325Z"
   },
   {
    "duration": 42,
    "start_time": "2023-10-19T13:52:03.367Z"
   },
   {
    "duration": 54,
    "start_time": "2023-10-19T13:52:03.411Z"
   },
   {
    "duration": 20,
    "start_time": "2023-10-19T13:52:09.706Z"
   },
   {
    "duration": 27,
    "start_time": "2023-10-19T13:52:18.187Z"
   },
   {
    "duration": 129,
    "start_time": "2023-10-19T13:52:48.138Z"
   },
   {
    "duration": 6,
    "start_time": "2023-10-19T13:52:50.772Z"
   },
   {
    "duration": 4,
    "start_time": "2023-10-19T13:52:54.540Z"
   },
   {
    "duration": 10,
    "start_time": "2023-10-19T13:53:04.531Z"
   },
   {
    "duration": 2597,
    "start_time": "2023-10-19T13:53:57.692Z"
   },
   {
    "duration": 1561,
    "start_time": "2023-10-19T13:54:00.291Z"
   },
   {
    "duration": 74,
    "start_time": "2023-10-19T13:54:01.855Z"
   },
   {
    "duration": 969,
    "start_time": "2023-10-19T13:54:01.932Z"
   },
   {
    "duration": 386,
    "start_time": "2023-10-19T13:54:02.903Z"
   },
   {
    "duration": 47,
    "start_time": "2023-10-19T13:54:03.291Z"
   },
   {
    "duration": 5,
    "start_time": "2023-10-19T13:54:03.340Z"
   },
   {
    "duration": 143,
    "start_time": "2023-10-19T13:54:03.347Z"
   },
   {
    "duration": 44,
    "start_time": "2023-10-19T13:54:03.492Z"
   },
   {
    "duration": 23,
    "start_time": "2023-10-19T13:54:03.538Z"
   },
   {
    "duration": 29,
    "start_time": "2023-10-19T13:54:03.563Z"
   },
   {
    "duration": 45,
    "start_time": "2023-10-19T13:54:03.594Z"
   },
   {
    "duration": 45,
    "start_time": "2023-10-19T13:54:03.643Z"
   },
   {
    "duration": 14,
    "start_time": "2023-10-19T13:54:03.690Z"
   },
   {
    "duration": 29,
    "start_time": "2023-10-19T13:54:03.706Z"
   },
   {
    "duration": 41,
    "start_time": "2023-10-19T13:54:03.737Z"
   },
   {
    "duration": 28,
    "start_time": "2023-10-19T13:54:03.780Z"
   },
   {
    "duration": 49,
    "start_time": "2023-10-19T13:54:03.810Z"
   },
   {
    "duration": 15,
    "start_time": "2023-10-19T13:54:03.861Z"
   },
   {
    "duration": 49,
    "start_time": "2023-10-19T13:54:03.878Z"
   },
   {
    "duration": 35,
    "start_time": "2023-10-19T13:54:03.929Z"
   },
   {
    "duration": 21,
    "start_time": "2023-10-19T13:54:03.966Z"
   },
   {
    "duration": 81,
    "start_time": "2023-10-19T13:54:03.989Z"
   },
   {
    "duration": 56,
    "start_time": "2023-10-19T13:54:04.072Z"
   },
   {
    "duration": 43,
    "start_time": "2023-10-19T13:54:04.130Z"
   },
   {
    "duration": 10,
    "start_time": "2023-10-19T13:54:32.291Z"
   },
   {
    "duration": 19,
    "start_time": "2023-10-19T13:54:37.580Z"
   },
   {
    "duration": 2546,
    "start_time": "2023-10-19T13:55:08.582Z"
   },
   {
    "duration": 1470,
    "start_time": "2023-10-19T13:55:11.130Z"
   },
   {
    "duration": 67,
    "start_time": "2023-10-19T13:55:12.602Z"
   },
   {
    "duration": 7,
    "start_time": "2023-10-19T13:55:12.670Z"
   },
   {
    "duration": 18,
    "start_time": "2023-10-19T13:55:12.679Z"
   },
   {
    "duration": 23,
    "start_time": "2023-10-19T13:55:12.699Z"
   },
   {
    "duration": 4,
    "start_time": "2023-10-19T13:55:12.723Z"
   },
   {
    "duration": 17,
    "start_time": "2023-10-19T13:55:12.728Z"
   },
   {
    "duration": 3,
    "start_time": "2023-10-19T13:55:12.747Z"
   },
   {
    "duration": 10,
    "start_time": "2023-10-19T13:55:12.751Z"
   },
   {
    "duration": 19,
    "start_time": "2023-10-19T13:55:12.763Z"
   },
   {
    "duration": 22,
    "start_time": "2023-10-19T13:55:12.784Z"
   },
   {
    "duration": 23,
    "start_time": "2023-10-19T13:55:12.808Z"
   },
   {
    "duration": 8,
    "start_time": "2023-10-19T13:55:12.834Z"
   },
   {
    "duration": 7,
    "start_time": "2023-10-19T13:55:12.843Z"
   },
   {
    "duration": 17,
    "start_time": "2023-10-19T13:55:12.852Z"
   },
   {
    "duration": 25,
    "start_time": "2023-10-19T13:55:12.871Z"
   },
   {
    "duration": 34,
    "start_time": "2023-10-19T13:55:12.898Z"
   },
   {
    "duration": 37,
    "start_time": "2023-10-19T13:55:12.934Z"
   },
   {
    "duration": 35,
    "start_time": "2023-10-19T13:55:12.973Z"
   },
   {
    "duration": 37,
    "start_time": "2023-10-19T13:55:13.010Z"
   },
   {
    "duration": 14,
    "start_time": "2023-10-19T13:55:13.048Z"
   },
   {
    "duration": 16,
    "start_time": "2023-10-19T13:55:13.064Z"
   },
   {
    "duration": 23,
    "start_time": "2023-10-19T13:55:13.082Z"
   },
   {
    "duration": 6,
    "start_time": "2023-10-19T13:55:13.107Z"
   },
   {
    "duration": 34,
    "start_time": "2023-10-19T13:55:13.115Z"
   },
   {
    "duration": 17,
    "start_time": "2023-10-19T13:55:13.150Z"
   },
   {
    "duration": 18,
    "start_time": "2023-10-19T13:55:13.169Z"
   },
   {
    "duration": 2584,
    "start_time": "2023-10-19T13:57:06.211Z"
   },
   {
    "duration": 1558,
    "start_time": "2023-10-19T13:57:08.797Z"
   },
   {
    "duration": 71,
    "start_time": "2023-10-19T13:57:10.364Z"
   },
   {
    "duration": 8,
    "start_time": "2023-10-19T13:57:10.436Z"
   },
   {
    "duration": 40,
    "start_time": "2023-10-19T13:57:10.448Z"
   },
   {
    "duration": 31,
    "start_time": "2023-10-19T13:57:10.490Z"
   },
   {
    "duration": 4,
    "start_time": "2023-10-19T13:57:10.523Z"
   },
   {
    "duration": 27,
    "start_time": "2023-10-19T13:57:10.529Z"
   },
   {
    "duration": 3,
    "start_time": "2023-10-19T13:57:10.558Z"
   },
   {
    "duration": 37,
    "start_time": "2023-10-19T13:57:10.565Z"
   },
   {
    "duration": 39,
    "start_time": "2023-10-19T13:57:10.603Z"
   },
   {
    "duration": 25,
    "start_time": "2023-10-19T13:57:10.645Z"
   },
   {
    "duration": 49,
    "start_time": "2023-10-19T13:57:10.673Z"
   },
   {
    "duration": 47,
    "start_time": "2023-10-19T13:57:10.726Z"
   },
   {
    "duration": 16,
    "start_time": "2023-10-19T13:57:10.775Z"
   },
   {
    "duration": 5,
    "start_time": "2023-10-19T13:57:10.793Z"
   },
   {
    "duration": 31,
    "start_time": "2023-10-19T13:57:10.799Z"
   },
   {
    "duration": 59,
    "start_time": "2023-10-19T13:57:10.832Z"
   },
   {
    "duration": 14,
    "start_time": "2023-10-19T13:57:10.893Z"
   },
   {
    "duration": 42,
    "start_time": "2023-10-19T13:57:10.909Z"
   },
   {
    "duration": 33,
    "start_time": "2023-10-19T13:57:10.959Z"
   },
   {
    "duration": 44,
    "start_time": "2023-10-19T13:57:10.994Z"
   },
   {
    "duration": 27,
    "start_time": "2023-10-19T13:57:11.040Z"
   },
   {
    "duration": 49,
    "start_time": "2023-10-19T13:57:11.069Z"
   },
   {
    "duration": 45,
    "start_time": "2023-10-19T13:57:11.120Z"
   },
   {
    "duration": 20,
    "start_time": "2023-10-19T13:57:11.167Z"
   },
   {
    "duration": 19,
    "start_time": "2023-10-19T13:57:11.188Z"
   },
   {
    "duration": 9,
    "start_time": "2023-10-19T13:58:26.184Z"
   },
   {
    "duration": 9,
    "start_time": "2023-10-19T13:58:48.175Z"
   },
   {
    "duration": 2453,
    "start_time": "2023-10-19T13:58:52.181Z"
   },
   {
    "duration": 1518,
    "start_time": "2023-10-19T13:58:54.637Z"
   },
   {
    "duration": 65,
    "start_time": "2023-10-19T13:58:56.157Z"
   },
   {
    "duration": 7,
    "start_time": "2023-10-19T13:58:56.223Z"
   },
   {
    "duration": 18,
    "start_time": "2023-10-19T13:58:56.232Z"
   },
   {
    "duration": 22,
    "start_time": "2023-10-19T13:58:56.252Z"
   },
   {
    "duration": 7,
    "start_time": "2023-10-19T13:58:56.275Z"
   },
   {
    "duration": 23,
    "start_time": "2023-10-19T13:58:56.284Z"
   },
   {
    "duration": 11,
    "start_time": "2023-10-19T13:58:56.309Z"
   },
   {
    "duration": 9,
    "start_time": "2023-10-19T13:58:56.322Z"
   },
   {
    "duration": 32,
    "start_time": "2023-10-19T13:58:56.333Z"
   },
   {
    "duration": 13,
    "start_time": "2023-10-19T13:58:56.366Z"
   },
   {
    "duration": 27,
    "start_time": "2023-10-19T13:58:56.381Z"
   },
   {
    "duration": 26,
    "start_time": "2023-10-19T13:58:56.411Z"
   },
   {
    "duration": 15,
    "start_time": "2023-10-19T13:58:56.438Z"
   },
   {
    "duration": 9,
    "start_time": "2023-10-19T13:58:56.454Z"
   },
   {
    "duration": 11,
    "start_time": "2023-10-19T13:58:56.464Z"
   },
   {
    "duration": 44,
    "start_time": "2023-10-19T13:58:56.476Z"
   },
   {
    "duration": 14,
    "start_time": "2023-10-19T13:58:56.522Z"
   },
   {
    "duration": 39,
    "start_time": "2023-10-19T13:58:56.538Z"
   },
   {
    "duration": 31,
    "start_time": "2023-10-19T13:58:56.579Z"
   },
   {
    "duration": 13,
    "start_time": "2023-10-19T13:58:56.612Z"
   },
   {
    "duration": 35,
    "start_time": "2023-10-19T13:58:56.626Z"
   },
   {
    "duration": 27,
    "start_time": "2023-10-19T13:58:56.663Z"
   },
   {
    "duration": 9,
    "start_time": "2023-10-19T13:58:56.692Z"
   },
   {
    "duration": 15,
    "start_time": "2023-10-19T13:58:56.702Z"
   },
   {
    "duration": 32,
    "start_time": "2023-10-19T13:58:56.719Z"
   },
   {
    "duration": 28,
    "start_time": "2023-10-19T13:58:56.753Z"
   },
   {
    "duration": 18,
    "start_time": "2023-10-19T14:00:58.112Z"
   },
   {
    "duration": 20,
    "start_time": "2023-10-19T14:01:50.377Z"
   },
   {
    "duration": 19,
    "start_time": "2023-10-19T14:01:54.775Z"
   },
   {
    "duration": 18,
    "start_time": "2023-10-19T14:01:58.551Z"
   },
   {
    "duration": 19,
    "start_time": "2023-10-19T14:02:02.294Z"
   },
   {
    "duration": 12627,
    "start_time": "2023-10-19T14:02:11.463Z"
   },
   {
    "duration": 178,
    "start_time": "2023-10-19T14:07:33.121Z"
   },
   {
    "duration": 3,
    "start_time": "2023-10-19T14:08:32.618Z"
   },
   {
    "duration": 12,
    "start_time": "2023-10-19T14:08:39.985Z"
   },
   {
    "duration": 231,
    "start_time": "2023-10-19T14:08:57.077Z"
   },
   {
    "duration": 26,
    "start_time": "2023-10-19T14:08:58.059Z"
   },
   {
    "duration": 3,
    "start_time": "2023-10-19T14:09:10.666Z"
   },
   {
    "duration": 17,
    "start_time": "2023-10-19T14:09:11.166Z"
   },
   {
    "duration": 3,
    "start_time": "2023-10-19T14:09:29.332Z"
   },
   {
    "duration": 20,
    "start_time": "2023-10-19T14:09:35.987Z"
   },
   {
    "duration": 533,
    "start_time": "2023-10-19T14:09:58.541Z"
   },
   {
    "duration": 1799,
    "start_time": "2023-10-19T14:10:24.363Z"
   },
   {
    "duration": 686,
    "start_time": "2023-10-19T14:13:40.476Z"
   },
   {
    "duration": 500,
    "start_time": "2023-10-19T14:14:01.301Z"
   },
   {
    "duration": 1787,
    "start_time": "2023-10-19T14:14:09.813Z"
   },
   {
    "duration": 1777,
    "start_time": "2023-10-19T14:14:31.805Z"
   },
   {
    "duration": 1719,
    "start_time": "2023-10-19T14:17:51.118Z"
   },
   {
    "duration": 2526,
    "start_time": "2023-10-19T14:17:58.856Z"
   },
   {
    "duration": 1521,
    "start_time": "2023-10-19T14:18:01.384Z"
   },
   {
    "duration": 65,
    "start_time": "2023-10-19T14:18:02.907Z"
   },
   {
    "duration": 7,
    "start_time": "2023-10-19T14:18:02.974Z"
   },
   {
    "duration": 21,
    "start_time": "2023-10-19T14:18:02.984Z"
   },
   {
    "duration": 53,
    "start_time": "2023-10-19T14:18:03.006Z"
   },
   {
    "duration": 25,
    "start_time": "2023-10-19T14:18:03.061Z"
   },
   {
    "duration": 48,
    "start_time": "2023-10-19T14:18:03.089Z"
   },
   {
    "duration": 14,
    "start_time": "2023-10-19T14:18:03.138Z"
   },
   {
    "duration": 32,
    "start_time": "2023-10-19T14:18:03.154Z"
   },
   {
    "duration": 36,
    "start_time": "2023-10-19T14:18:03.187Z"
   },
   {
    "duration": 23,
    "start_time": "2023-10-19T14:18:03.224Z"
   },
   {
    "duration": 62,
    "start_time": "2023-10-19T14:18:03.249Z"
   },
   {
    "duration": 22,
    "start_time": "2023-10-19T14:18:03.315Z"
   },
   {
    "duration": 35,
    "start_time": "2023-10-19T14:18:03.339Z"
   },
   {
    "duration": 76,
    "start_time": "2023-10-19T14:18:03.376Z"
   },
   {
    "duration": 41,
    "start_time": "2023-10-19T14:18:03.454Z"
   },
   {
    "duration": 58,
    "start_time": "2023-10-19T14:18:03.497Z"
   },
   {
    "duration": 19,
    "start_time": "2023-10-19T14:18:03.557Z"
   },
   {
    "duration": 78,
    "start_time": "2023-10-19T14:18:03.578Z"
   },
   {
    "duration": 31,
    "start_time": "2023-10-19T14:18:03.658Z"
   },
   {
    "duration": 32,
    "start_time": "2023-10-19T14:18:03.691Z"
   },
   {
    "duration": 52,
    "start_time": "2023-10-19T14:18:03.725Z"
   },
   {
    "duration": 29,
    "start_time": "2023-10-19T14:18:03.779Z"
   },
   {
    "duration": 18,
    "start_time": "2023-10-19T14:18:03.811Z"
   },
   {
    "duration": 56,
    "start_time": "2023-10-19T14:18:03.831Z"
   },
   {
    "duration": 32,
    "start_time": "2023-10-19T14:18:03.888Z"
   },
   {
    "duration": 24,
    "start_time": "2023-10-19T14:18:03.922Z"
   },
   {
    "duration": 64,
    "start_time": "2023-10-19T14:18:03.948Z"
   },
   {
    "duration": 46,
    "start_time": "2023-10-19T14:18:04.014Z"
   },
   {
    "duration": 1899,
    "start_time": "2023-10-19T14:18:04.062Z"
   },
   {
    "duration": 10,
    "start_time": "2023-10-19T14:49:18.523Z"
   },
   {
    "duration": 2578,
    "start_time": "2023-10-19T15:46:47.765Z"
   },
   {
    "duration": 1606,
    "start_time": "2023-10-19T15:46:50.346Z"
   },
   {
    "duration": 65,
    "start_time": "2023-10-19T15:46:51.954Z"
   },
   {
    "duration": 7,
    "start_time": "2023-10-19T15:46:52.021Z"
   },
   {
    "duration": 28,
    "start_time": "2023-10-19T15:46:52.030Z"
   },
   {
    "duration": 39,
    "start_time": "2023-10-19T15:46:52.059Z"
   },
   {
    "duration": 22,
    "start_time": "2023-10-19T15:46:52.100Z"
   },
   {
    "duration": 39,
    "start_time": "2023-10-19T15:46:52.124Z"
   },
   {
    "duration": 23,
    "start_time": "2023-10-19T15:46:52.165Z"
   },
   {
    "duration": 40,
    "start_time": "2023-10-19T15:46:52.190Z"
   },
   {
    "duration": 34,
    "start_time": "2023-10-19T15:46:52.232Z"
   },
   {
    "duration": 8,
    "start_time": "2023-10-19T15:46:52.269Z"
   },
   {
    "duration": 6,
    "start_time": "2023-10-19T15:46:52.279Z"
   },
   {
    "duration": 9,
    "start_time": "2023-10-19T15:46:52.288Z"
   },
   {
    "duration": 12,
    "start_time": "2023-10-19T15:46:52.298Z"
   },
   {
    "duration": 42,
    "start_time": "2023-10-19T15:46:52.312Z"
   },
   {
    "duration": 16,
    "start_time": "2023-10-19T15:46:52.355Z"
   },
   {
    "duration": 12,
    "start_time": "2023-10-19T15:46:52.373Z"
   },
   {
    "duration": 47,
    "start_time": "2023-10-19T15:46:52.387Z"
   },
   {
    "duration": 14,
    "start_time": "2023-10-19T15:46:52.436Z"
   },
   {
    "duration": 25,
    "start_time": "2023-10-19T15:46:52.452Z"
   },
   {
    "duration": 16,
    "start_time": "2023-10-19T15:46:52.478Z"
   },
   {
    "duration": 9,
    "start_time": "2023-10-19T15:46:52.496Z"
   },
   {
    "duration": 12,
    "start_time": "2023-10-19T15:46:52.507Z"
   },
   {
    "duration": 27,
    "start_time": "2023-10-19T15:46:52.521Z"
   },
   {
    "duration": 38,
    "start_time": "2023-10-19T15:46:52.550Z"
   },
   {
    "duration": 24,
    "start_time": "2023-10-19T15:46:52.590Z"
   },
   {
    "duration": 31,
    "start_time": "2023-10-19T15:46:52.616Z"
   },
   {
    "duration": 1776,
    "start_time": "2023-10-19T15:46:52.649Z"
   },
   {
    "duration": 19,
    "start_time": "2023-10-19T15:53:09.947Z"
   },
   {
    "duration": 6,
    "start_time": "2023-10-19T15:53:17.827Z"
   },
   {
    "duration": 7,
    "start_time": "2023-10-19T15:53:22.345Z"
   },
   {
    "duration": 6,
    "start_time": "2023-10-19T15:53:25.487Z"
   },
   {
    "duration": 20,
    "start_time": "2023-10-19T15:53:29.008Z"
   },
   {
    "duration": 21,
    "start_time": "2023-10-19T15:53:33.392Z"
   },
   {
    "duration": 125,
    "start_time": "2023-10-19T16:05:03.463Z"
   },
   {
    "duration": 22,
    "start_time": "2023-10-19T16:05:10.197Z"
   },
   {
    "duration": 19,
    "start_time": "2023-10-19T16:05:56.240Z"
   },
   {
    "duration": 19,
    "start_time": "2023-10-19T16:06:03.934Z"
   },
   {
    "duration": 2516,
    "start_time": "2023-10-19T16:06:37.342Z"
   },
   {
    "duration": 1551,
    "start_time": "2023-10-19T16:06:39.861Z"
   },
   {
    "duration": 67,
    "start_time": "2023-10-19T16:06:41.414Z"
   },
   {
    "duration": 8,
    "start_time": "2023-10-19T16:06:41.483Z"
   },
   {
    "duration": 19,
    "start_time": "2023-10-19T16:06:41.494Z"
   },
   {
    "duration": 20,
    "start_time": "2023-10-19T16:06:41.515Z"
   },
   {
    "duration": 18,
    "start_time": "2023-10-19T16:06:41.537Z"
   },
   {
    "duration": 21,
    "start_time": "2023-10-19T16:06:41.557Z"
   },
   {
    "duration": 21,
    "start_time": "2023-10-19T16:06:41.580Z"
   },
   {
    "duration": 24,
    "start_time": "2023-10-19T16:06:41.602Z"
   },
   {
    "duration": 25,
    "start_time": "2023-10-19T16:06:41.628Z"
   },
   {
    "duration": 34,
    "start_time": "2023-10-19T16:06:41.655Z"
   },
   {
    "duration": 19,
    "start_time": "2023-10-19T16:06:41.691Z"
   },
   {
    "duration": 14,
    "start_time": "2023-10-19T16:06:41.713Z"
   },
   {
    "duration": 12,
    "start_time": "2023-10-19T16:06:41.729Z"
   },
   {
    "duration": 46,
    "start_time": "2023-10-19T16:06:41.742Z"
   },
   {
    "duration": 20,
    "start_time": "2023-10-19T16:06:41.790Z"
   },
   {
    "duration": 5,
    "start_time": "2023-10-19T16:06:41.812Z"
   },
   {
    "duration": 58,
    "start_time": "2023-10-19T16:06:41.818Z"
   },
   {
    "duration": 12,
    "start_time": "2023-10-19T16:06:41.877Z"
   },
   {
    "duration": 24,
    "start_time": "2023-10-19T16:06:41.891Z"
   },
   {
    "duration": 22,
    "start_time": "2023-10-19T16:06:41.917Z"
   },
   {
    "duration": 27,
    "start_time": "2023-10-19T16:06:41.941Z"
   },
   {
    "duration": 52,
    "start_time": "2023-10-19T16:06:41.970Z"
   },
   {
    "duration": 9,
    "start_time": "2023-10-19T16:06:42.024Z"
   },
   {
    "duration": 26,
    "start_time": "2023-10-19T16:06:42.035Z"
   },
   {
    "duration": 43,
    "start_time": "2023-10-19T16:06:42.063Z"
   },
   {
    "duration": 15,
    "start_time": "2023-10-19T16:06:42.108Z"
   },
   {
    "duration": 11,
    "start_time": "2023-10-19T16:06:42.125Z"
   },
   {
    "duration": 1761,
    "start_time": "2023-10-19T16:06:42.137Z"
   },
   {
    "duration": 20,
    "start_time": "2023-10-19T16:06:43.900Z"
   },
   {
    "duration": 148,
    "start_time": "2023-10-19T16:06:43.922Z"
   },
   {
    "duration": 4,
    "start_time": "2023-10-19T16:07:18.134Z"
   },
   {
    "duration": 2410,
    "start_time": "2023-10-19T16:07:26.458Z"
   },
   {
    "duration": 1582,
    "start_time": "2023-10-19T16:07:28.871Z"
   },
   {
    "duration": 66,
    "start_time": "2023-10-19T16:07:30.455Z"
   },
   {
    "duration": 7,
    "start_time": "2023-10-19T16:07:30.522Z"
   },
   {
    "duration": 24,
    "start_time": "2023-10-19T16:07:30.532Z"
   },
   {
    "duration": 51,
    "start_time": "2023-10-19T16:07:30.557Z"
   },
   {
    "duration": 32,
    "start_time": "2023-10-19T16:07:30.609Z"
   },
   {
    "duration": 34,
    "start_time": "2023-10-19T16:07:30.643Z"
   },
   {
    "duration": 59,
    "start_time": "2023-10-19T16:07:30.679Z"
   },
   {
    "duration": 63,
    "start_time": "2023-10-19T16:07:30.740Z"
   },
   {
    "duration": 73,
    "start_time": "2023-10-19T16:07:30.805Z"
   },
   {
    "duration": 57,
    "start_time": "2023-10-19T16:07:30.880Z"
   },
   {
    "duration": 74,
    "start_time": "2023-10-19T16:07:30.939Z"
   },
   {
    "duration": 41,
    "start_time": "2023-10-19T16:07:31.017Z"
   },
   {
    "duration": 67,
    "start_time": "2023-10-19T16:07:31.060Z"
   },
   {
    "duration": 85,
    "start_time": "2023-10-19T16:07:31.128Z"
   },
   {
    "duration": 38,
    "start_time": "2023-10-19T16:07:31.215Z"
   },
   {
    "duration": 48,
    "start_time": "2023-10-19T16:07:31.255Z"
   },
   {
    "duration": 91,
    "start_time": "2023-10-19T16:07:31.305Z"
   },
   {
    "duration": 74,
    "start_time": "2023-10-19T16:07:31.398Z"
   },
   {
    "duration": 75,
    "start_time": "2023-10-19T16:07:31.474Z"
   },
   {
    "duration": 42,
    "start_time": "2023-10-19T16:07:31.551Z"
   },
   {
    "duration": 62,
    "start_time": "2023-10-19T16:07:31.595Z"
   },
   {
    "duration": 338,
    "start_time": "2023-10-19T16:07:31.659Z"
   },
   {
    "duration": 54,
    "start_time": "2023-10-19T16:07:31.999Z"
   },
   {
    "duration": 34,
    "start_time": "2023-10-19T16:07:32.054Z"
   },
   {
    "duration": 24,
    "start_time": "2023-10-19T16:07:32.091Z"
   },
   {
    "duration": 49,
    "start_time": "2023-10-19T16:07:32.116Z"
   },
   {
    "duration": 38,
    "start_time": "2023-10-19T16:07:32.167Z"
   },
   {
    "duration": 8,
    "start_time": "2023-10-19T16:07:32.206Z"
   },
   {
    "duration": 1802,
    "start_time": "2023-10-19T16:07:32.216Z"
   },
   {
    "duration": 21,
    "start_time": "2023-10-19T16:07:34.019Z"
   },
   {
    "duration": 156,
    "start_time": "2023-10-19T16:07:34.041Z"
   },
   {
    "duration": 2630,
    "start_time": "2023-10-19T16:07:49.137Z"
   },
   {
    "duration": 4,
    "start_time": "2023-10-19T16:07:51.770Z"
   },
   {
    "duration": 81,
    "start_time": "2023-10-19T16:07:51.777Z"
   },
   {
    "duration": 7,
    "start_time": "2023-10-19T16:07:51.859Z"
   },
   {
    "duration": 23,
    "start_time": "2023-10-19T16:07:51.869Z"
   },
   {
    "duration": 36,
    "start_time": "2023-10-19T16:07:51.895Z"
   },
   {
    "duration": 14,
    "start_time": "2023-10-19T16:07:51.933Z"
   },
   {
    "duration": 32,
    "start_time": "2023-10-19T16:07:51.949Z"
   },
   {
    "duration": 28,
    "start_time": "2023-10-19T16:07:51.983Z"
   },
   {
    "duration": 33,
    "start_time": "2023-10-19T16:07:52.013Z"
   },
   {
    "duration": 51,
    "start_time": "2023-10-19T16:07:52.048Z"
   },
   {
    "duration": 25,
    "start_time": "2023-10-19T16:07:52.101Z"
   },
   {
    "duration": 39,
    "start_time": "2023-10-19T16:07:52.128Z"
   },
   {
    "duration": 20,
    "start_time": "2023-10-19T16:07:52.169Z"
   },
   {
    "duration": 20,
    "start_time": "2023-10-19T16:07:52.190Z"
   },
   {
    "duration": 39,
    "start_time": "2023-10-19T16:07:52.212Z"
   },
   {
    "duration": 37,
    "start_time": "2023-10-19T16:07:52.253Z"
   },
   {
    "duration": 59,
    "start_time": "2023-10-19T16:07:52.292Z"
   },
   {
    "duration": 64,
    "start_time": "2023-10-19T16:07:52.353Z"
   },
   {
    "duration": 11,
    "start_time": "2023-10-19T16:07:52.419Z"
   },
   {
    "duration": 19,
    "start_time": "2023-10-19T16:07:52.432Z"
   },
   {
    "duration": 31,
    "start_time": "2023-10-19T16:07:52.453Z"
   },
   {
    "duration": 23,
    "start_time": "2023-10-19T16:07:52.486Z"
   },
   {
    "duration": 16,
    "start_time": "2023-10-19T16:07:52.511Z"
   },
   {
    "duration": 24,
    "start_time": "2023-10-19T16:07:52.529Z"
   },
   {
    "duration": 39,
    "start_time": "2023-10-19T16:07:52.555Z"
   },
   {
    "duration": 23,
    "start_time": "2023-10-19T16:07:52.596Z"
   },
   {
    "duration": 4,
    "start_time": "2023-10-19T16:07:52.621Z"
   },
   {
    "duration": 13,
    "start_time": "2023-10-19T16:07:52.627Z"
   },
   {
    "duration": 4,
    "start_time": "2023-10-19T16:07:55.904Z"
   },
   {
    "duration": 1679,
    "start_time": "2023-10-19T16:08:05.134Z"
   },
   {
    "duration": 4,
    "start_time": "2023-10-19T16:08:09.609Z"
   },
   {
    "duration": 5,
    "start_time": "2023-10-19T16:08:10.334Z"
   },
   {
    "duration": 5,
    "start_time": "2023-10-19T16:09:00.705Z"
   },
   {
    "duration": 1923,
    "start_time": "2023-10-19T16:09:02.321Z"
   },
   {
    "duration": 2440,
    "start_time": "2023-10-19T16:09:11.730Z"
   },
   {
    "duration": 1856,
    "start_time": "2023-10-19T16:09:14.172Z"
   },
   {
    "duration": 68,
    "start_time": "2023-10-19T16:09:16.030Z"
   },
   {
    "duration": 8,
    "start_time": "2023-10-19T16:09:16.100Z"
   },
   {
    "duration": 35,
    "start_time": "2023-10-19T16:09:16.111Z"
   },
   {
    "duration": 37,
    "start_time": "2023-10-19T16:09:16.147Z"
   },
   {
    "duration": 5,
    "start_time": "2023-10-19T16:09:16.186Z"
   },
   {
    "duration": 38,
    "start_time": "2023-10-19T16:09:16.192Z"
   },
   {
    "duration": 18,
    "start_time": "2023-10-19T16:09:16.232Z"
   },
   {
    "duration": 33,
    "start_time": "2023-10-19T16:09:16.252Z"
   },
   {
    "duration": 38,
    "start_time": "2023-10-19T16:09:16.287Z"
   },
   {
    "duration": 30,
    "start_time": "2023-10-19T16:09:16.327Z"
   },
   {
    "duration": 11,
    "start_time": "2023-10-19T16:09:16.359Z"
   },
   {
    "duration": 4,
    "start_time": "2023-10-19T16:09:16.373Z"
   },
   {
    "duration": 15,
    "start_time": "2023-10-19T16:09:16.379Z"
   },
   {
    "duration": 40,
    "start_time": "2023-10-19T16:09:16.396Z"
   },
   {
    "duration": 15,
    "start_time": "2023-10-19T16:09:16.438Z"
   },
   {
    "duration": 5,
    "start_time": "2023-10-19T16:09:16.454Z"
   },
   {
    "duration": 114,
    "start_time": "2023-10-19T16:09:16.460Z"
   },
   {
    "duration": 13,
    "start_time": "2023-10-19T16:09:16.576Z"
   },
   {
    "duration": 12,
    "start_time": "2023-10-19T16:09:16.591Z"
   },
   {
    "duration": 22,
    "start_time": "2023-10-19T16:09:16.605Z"
   },
   {
    "duration": 7,
    "start_time": "2023-10-19T16:09:16.647Z"
   },
   {
    "duration": 15,
    "start_time": "2023-10-19T16:09:16.656Z"
   },
   {
    "duration": 15,
    "start_time": "2023-10-19T16:09:16.673Z"
   },
   {
    "duration": 25,
    "start_time": "2023-10-19T16:09:16.690Z"
   },
   {
    "duration": 7,
    "start_time": "2023-10-19T16:09:16.718Z"
   },
   {
    "duration": 7,
    "start_time": "2023-10-19T16:09:16.727Z"
   },
   {
    "duration": 19,
    "start_time": "2023-10-19T16:09:16.736Z"
   },
   {
    "duration": 1821,
    "start_time": "2023-10-19T16:09:16.757Z"
   },
   {
    "duration": 20,
    "start_time": "2023-10-19T16:09:18.580Z"
   },
   {
    "duration": 44,
    "start_time": "2023-10-19T16:09:18.602Z"
   },
   {
    "duration": 4,
    "start_time": "2023-10-19T16:09:27.568Z"
   },
   {
    "duration": 48,
    "start_time": "2023-10-19T16:09:38.720Z"
   },
   {
    "duration": 135,
    "start_time": "2023-10-19T16:17:12.130Z"
   },
   {
    "duration": 17477,
    "start_time": "2023-10-19T16:17:41.462Z"
   },
   {
    "duration": 2414,
    "start_time": "2023-10-19T16:21:48.723Z"
   },
   {
    "duration": 1591,
    "start_time": "2023-10-19T16:21:51.140Z"
   },
   {
    "duration": 65,
    "start_time": "2023-10-19T16:21:52.733Z"
   },
   {
    "duration": 6,
    "start_time": "2023-10-19T16:21:52.800Z"
   },
   {
    "duration": 25,
    "start_time": "2023-10-19T16:21:52.808Z"
   },
   {
    "duration": 38,
    "start_time": "2023-10-19T16:21:52.835Z"
   },
   {
    "duration": 3,
    "start_time": "2023-10-19T16:21:52.875Z"
   },
   {
    "duration": 20,
    "start_time": "2023-10-19T16:21:52.880Z"
   },
   {
    "duration": 7,
    "start_time": "2023-10-19T16:21:52.902Z"
   },
   {
    "duration": 4,
    "start_time": "2023-10-19T16:21:52.911Z"
   },
   {
    "duration": 22,
    "start_time": "2023-10-19T16:21:52.916Z"
   },
   {
    "duration": 14,
    "start_time": "2023-10-19T16:21:52.940Z"
   },
   {
    "duration": 7,
    "start_time": "2023-10-19T16:21:52.956Z"
   },
   {
    "duration": 12,
    "start_time": "2023-10-19T16:21:52.965Z"
   },
   {
    "duration": 8,
    "start_time": "2023-10-19T16:21:52.978Z"
   },
   {
    "duration": 34,
    "start_time": "2023-10-19T16:21:52.987Z"
   },
   {
    "duration": 24,
    "start_time": "2023-10-19T16:21:53.023Z"
   },
   {
    "duration": 5,
    "start_time": "2023-10-19T16:21:53.048Z"
   },
   {
    "duration": 32,
    "start_time": "2023-10-19T16:21:53.055Z"
   },
   {
    "duration": 12,
    "start_time": "2023-10-19T16:21:53.089Z"
   },
   {
    "duration": 12,
    "start_time": "2023-10-19T16:21:53.103Z"
   },
   {
    "duration": 39,
    "start_time": "2023-10-19T16:21:53.116Z"
   },
   {
    "duration": 17,
    "start_time": "2023-10-19T16:21:53.157Z"
   },
   {
    "duration": 37,
    "start_time": "2023-10-19T16:21:53.176Z"
   },
   {
    "duration": 22,
    "start_time": "2023-10-19T16:21:53.215Z"
   },
   {
    "duration": 12,
    "start_time": "2023-10-19T16:21:53.239Z"
   },
   {
    "duration": 22,
    "start_time": "2023-10-19T16:21:53.253Z"
   },
   {
    "duration": 22,
    "start_time": "2023-10-19T16:21:53.277Z"
   },
   {
    "duration": 17,
    "start_time": "2023-10-19T16:21:53.301Z"
   },
   {
    "duration": 1689,
    "start_time": "2023-10-19T16:21:53.320Z"
   },
   {
    "duration": 4,
    "start_time": "2023-10-19T16:21:55.011Z"
   },
   {
    "duration": 19900,
    "start_time": "2023-10-19T16:21:55.016Z"
   },
   {
    "duration": 48,
    "start_time": "2023-10-19T16:22:14.918Z"
   },
   {
    "duration": 17322,
    "start_time": "2023-10-19T16:23:06.727Z"
   },
   {
    "duration": 114,
    "start_time": "2023-10-19T16:34:11.752Z"
   },
   {
    "duration": 19,
    "start_time": "2023-10-19T16:34:18.405Z"
   },
   {
    "duration": 21,
    "start_time": "2023-10-19T16:34:32.965Z"
   },
   {
    "duration": 5,
    "start_time": "2023-10-19T16:39:06.399Z"
   },
   {
    "duration": 4,
    "start_time": "2023-10-19T16:39:10.879Z"
   },
   {
    "duration": 9,
    "start_time": "2023-10-19T16:39:15.872Z"
   },
   {
    "duration": 136,
    "start_time": "2023-10-19T16:42:32.898Z"
   },
   {
    "duration": 2450,
    "start_time": "2023-10-19T16:42:51.392Z"
   },
   {
    "duration": 1622,
    "start_time": "2023-10-19T16:42:53.846Z"
   },
   {
    "duration": 67,
    "start_time": "2023-10-19T16:42:55.471Z"
   },
   {
    "duration": 7,
    "start_time": "2023-10-19T16:42:55.540Z"
   },
   {
    "duration": 36,
    "start_time": "2023-10-19T16:42:55.549Z"
   },
   {
    "duration": 31,
    "start_time": "2023-10-19T16:42:55.586Z"
   },
   {
    "duration": 4,
    "start_time": "2023-10-19T16:42:55.618Z"
   },
   {
    "duration": 28,
    "start_time": "2023-10-19T16:42:55.624Z"
   },
   {
    "duration": 8,
    "start_time": "2023-10-19T16:42:55.654Z"
   },
   {
    "duration": 15,
    "start_time": "2023-10-19T16:42:55.663Z"
   },
   {
    "duration": 29,
    "start_time": "2023-10-19T16:42:55.680Z"
   },
   {
    "duration": 19,
    "start_time": "2023-10-19T16:42:55.710Z"
   },
   {
    "duration": 10,
    "start_time": "2023-10-19T16:42:55.731Z"
   },
   {
    "duration": 16,
    "start_time": "2023-10-19T16:42:55.744Z"
   },
   {
    "duration": 13,
    "start_time": "2023-10-19T16:42:55.762Z"
   },
   {
    "duration": 32,
    "start_time": "2023-10-19T16:42:55.777Z"
   },
   {
    "duration": 14,
    "start_time": "2023-10-19T16:42:55.812Z"
   },
   {
    "duration": 8,
    "start_time": "2023-10-19T16:42:55.828Z"
   },
   {
    "duration": 63,
    "start_time": "2023-10-19T16:42:55.838Z"
   },
   {
    "duration": 14,
    "start_time": "2023-10-19T16:42:55.903Z"
   },
   {
    "duration": 14,
    "start_time": "2023-10-19T16:42:55.919Z"
   },
   {
    "duration": 21,
    "start_time": "2023-10-19T16:42:55.935Z"
   },
   {
    "duration": 9,
    "start_time": "2023-10-19T16:42:55.957Z"
   },
   {
    "duration": 23,
    "start_time": "2023-10-19T16:42:55.968Z"
   },
   {
    "duration": 11,
    "start_time": "2023-10-19T16:42:55.993Z"
   },
   {
    "duration": 14,
    "start_time": "2023-10-19T16:42:56.006Z"
   },
   {
    "duration": 18,
    "start_time": "2023-10-19T16:42:56.021Z"
   },
   {
    "duration": 7,
    "start_time": "2023-10-19T16:42:56.040Z"
   },
   {
    "duration": 15,
    "start_time": "2023-10-19T16:42:56.048Z"
   },
   {
    "duration": 1716,
    "start_time": "2023-10-19T16:42:56.065Z"
   },
   {
    "duration": 42,
    "start_time": "2023-10-19T16:42:57.783Z"
   },
   {
    "duration": 17849,
    "start_time": "2023-10-19T16:42:57.827Z"
   },
   {
    "duration": 8,
    "start_time": "2023-10-19T16:43:15.678Z"
   },
   {
    "duration": 62,
    "start_time": "2023-10-19T16:43:15.687Z"
   },
   {
    "duration": 112,
    "start_time": "2023-10-19T16:43:15.752Z"
   },
   {
    "duration": 2476,
    "start_time": "2023-10-19T16:44:58.233Z"
   },
   {
    "duration": 4,
    "start_time": "2023-10-19T16:45:00.712Z"
   },
   {
    "duration": 105,
    "start_time": "2023-10-19T16:45:00.718Z"
   },
   {
    "duration": 17,
    "start_time": "2023-10-19T16:45:00.825Z"
   },
   {
    "duration": 72,
    "start_time": "2023-10-19T16:45:00.845Z"
   },
   {
    "duration": 84,
    "start_time": "2023-10-19T16:45:00.919Z"
   },
   {
    "duration": 50,
    "start_time": "2023-10-19T16:45:01.005Z"
   },
   {
    "duration": 83,
    "start_time": "2023-10-19T16:45:01.057Z"
   },
   {
    "duration": 151,
    "start_time": "2023-10-19T16:45:01.143Z"
   },
   {
    "duration": 179,
    "start_time": "2023-10-19T16:45:01.297Z"
   },
   {
    "duration": 87,
    "start_time": "2023-10-19T16:45:01.478Z"
   },
   {
    "duration": 58,
    "start_time": "2023-10-19T16:45:01.567Z"
   },
   {
    "duration": 67,
    "start_time": "2023-10-19T16:45:01.627Z"
   },
   {
    "duration": 93,
    "start_time": "2023-10-19T16:45:01.697Z"
   },
   {
    "duration": 75,
    "start_time": "2023-10-19T16:45:01.792Z"
   },
   {
    "duration": 137,
    "start_time": "2023-10-19T16:45:01.869Z"
   },
   {
    "duration": 54,
    "start_time": "2023-10-19T16:45:02.008Z"
   },
   {
    "duration": 36,
    "start_time": "2023-10-19T16:45:02.064Z"
   },
   {
    "duration": 83,
    "start_time": "2023-10-19T16:45:02.102Z"
   },
   {
    "duration": 28,
    "start_time": "2023-10-19T16:45:02.187Z"
   },
   {
    "duration": 59,
    "start_time": "2023-10-19T16:45:02.217Z"
   },
   {
    "duration": 46,
    "start_time": "2023-10-19T16:45:02.278Z"
   },
   {
    "duration": 48,
    "start_time": "2023-10-19T16:45:02.326Z"
   },
   {
    "duration": 14,
    "start_time": "2023-10-19T16:45:02.378Z"
   },
   {
    "duration": 26,
    "start_time": "2023-10-19T16:45:02.394Z"
   },
   {
    "duration": 45,
    "start_time": "2023-10-19T16:45:02.422Z"
   },
   {
    "duration": 49,
    "start_time": "2023-10-19T16:45:02.468Z"
   },
   {
    "duration": 28,
    "start_time": "2023-10-19T16:45:02.519Z"
   },
   {
    "duration": 36,
    "start_time": "2023-10-19T16:45:02.549Z"
   },
   {
    "duration": 2035,
    "start_time": "2023-10-19T16:45:02.586Z"
   },
   {
    "duration": 54,
    "start_time": "2023-10-19T16:45:04.624Z"
   },
   {
    "duration": 17838,
    "start_time": "2023-10-19T16:45:04.680Z"
   },
   {
    "duration": 8,
    "start_time": "2023-10-19T16:45:22.520Z"
   },
   {
    "duration": 72,
    "start_time": "2023-10-19T16:45:22.530Z"
   },
   {
    "duration": 43,
    "start_time": "2023-10-19T16:45:44.660Z"
   },
   {
    "duration": 41,
    "start_time": "2023-10-19T16:45:47.340Z"
   },
   {
    "duration": 136,
    "start_time": "2023-10-19T16:47:47.880Z"
   },
   {
    "duration": 153,
    "start_time": "2023-10-19T16:48:25.282Z"
   },
   {
    "duration": 383,
    "start_time": "2023-10-19T16:48:33.248Z"
   },
   {
    "duration": 456,
    "start_time": "2023-10-19T16:48:36.644Z"
   },
   {
    "duration": 44,
    "start_time": "2023-10-19T16:49:00.186Z"
   },
   {
    "duration": 21,
    "start_time": "2023-10-19T16:49:14.214Z"
   },
   {
    "duration": 877,
    "start_time": "2023-10-19T16:49:59.243Z"
   },
   {
    "duration": 926,
    "start_time": "2023-10-19T16:50:04.891Z"
   },
   {
    "duration": 860,
    "start_time": "2023-10-19T16:50:07.779Z"
   },
   {
    "duration": 842,
    "start_time": "2023-10-19T16:51:09.043Z"
   },
   {
    "duration": 4,
    "start_time": "2023-10-19T16:51:15.628Z"
   },
   {
    "duration": 10,
    "start_time": "2023-10-19T16:51:41.950Z"
   },
   {
    "duration": 155,
    "start_time": "2023-10-19T16:52:18.552Z"
   },
   {
    "duration": 162,
    "start_time": "2023-10-19T16:52:29.398Z"
   },
   {
    "duration": 1164,
    "start_time": "2023-10-19T16:52:35.908Z"
   },
   {
    "duration": 171,
    "start_time": "2023-10-19T16:52:48.360Z"
   },
   {
    "duration": 15,
    "start_time": "2023-10-19T16:53:23.180Z"
   },
   {
    "duration": 173,
    "start_time": "2023-10-19T16:53:28.748Z"
   },
   {
    "duration": 157,
    "start_time": "2023-10-19T16:55:41.670Z"
   },
   {
    "duration": 176,
    "start_time": "2023-10-19T16:55:44.631Z"
   },
   {
    "duration": 162,
    "start_time": "2023-10-19T16:55:52.055Z"
   },
   {
    "duration": 49,
    "start_time": "2023-10-19T16:58:19.857Z"
   },
   {
    "duration": 1205,
    "start_time": "2023-10-19T16:58:59.890Z"
   },
   {
    "duration": 1180,
    "start_time": "2023-10-19T16:59:16.086Z"
   },
   {
    "duration": 1172,
    "start_time": "2023-10-19T16:59:20.170Z"
   },
   {
    "duration": 1175,
    "start_time": "2023-10-19T16:59:33.479Z"
   },
   {
    "duration": 1184,
    "start_time": "2023-10-19T16:59:37.103Z"
   },
   {
    "duration": 21,
    "start_time": "2023-10-19T17:03:19.363Z"
   },
   {
    "duration": 21,
    "start_time": "2023-10-19T17:05:25.507Z"
   },
   {
    "duration": 22,
    "start_time": "2023-10-19T17:05:32.596Z"
   },
   {
    "duration": 352,
    "start_time": "2023-10-19T17:05:38.642Z"
   },
   {
    "duration": 333,
    "start_time": "2023-10-19T17:06:23.178Z"
   },
   {
    "duration": 162,
    "start_time": "2023-10-19T17:06:32.035Z"
   },
   {
    "duration": 3220,
    "start_time": "2023-10-19T17:06:51.043Z"
   },
   {
    "duration": 402,
    "start_time": "2023-10-19T17:06:57.146Z"
   },
   {
    "duration": 21,
    "start_time": "2023-10-19T17:07:16.474Z"
   },
   {
    "duration": 1185,
    "start_time": "2023-10-19T17:07:20.299Z"
   },
   {
    "duration": 2508,
    "start_time": "2023-10-19T17:07:23.805Z"
   },
   {
    "duration": 1549,
    "start_time": "2023-10-19T17:07:26.316Z"
   },
   {
    "duration": 66,
    "start_time": "2023-10-19T17:07:27.867Z"
   },
   {
    "duration": 7,
    "start_time": "2023-10-19T17:07:27.935Z"
   },
   {
    "duration": 32,
    "start_time": "2023-10-19T17:07:27.945Z"
   },
   {
    "duration": 29,
    "start_time": "2023-10-19T17:07:27.979Z"
   },
   {
    "duration": 4,
    "start_time": "2023-10-19T17:07:28.010Z"
   },
   {
    "duration": 23,
    "start_time": "2023-10-19T17:07:28.016Z"
   },
   {
    "duration": 14,
    "start_time": "2023-10-19T17:07:28.041Z"
   },
   {
    "duration": 9,
    "start_time": "2023-10-19T17:07:28.057Z"
   },
   {
    "duration": 50,
    "start_time": "2023-10-19T17:07:28.068Z"
   },
   {
    "duration": 20,
    "start_time": "2023-10-19T17:07:28.120Z"
   },
   {
    "duration": 19,
    "start_time": "2023-10-19T17:07:28.142Z"
   },
   {
    "duration": 24,
    "start_time": "2023-10-19T17:07:28.165Z"
   },
   {
    "duration": 18,
    "start_time": "2023-10-19T17:07:28.190Z"
   },
   {
    "duration": 34,
    "start_time": "2023-10-19T17:07:28.210Z"
   },
   {
    "duration": 13,
    "start_time": "2023-10-19T17:07:28.246Z"
   },
   {
    "duration": 19,
    "start_time": "2023-10-19T17:07:28.261Z"
   },
   {
    "duration": 79,
    "start_time": "2023-10-19T17:07:28.281Z"
   },
   {
    "duration": 11,
    "start_time": "2023-10-19T17:07:28.362Z"
   },
   {
    "duration": 16,
    "start_time": "2023-10-19T17:07:28.375Z"
   },
   {
    "duration": 25,
    "start_time": "2023-10-19T17:07:28.393Z"
   },
   {
    "duration": 7,
    "start_time": "2023-10-19T17:07:28.420Z"
   },
   {
    "duration": 16,
    "start_time": "2023-10-19T17:07:28.429Z"
   },
   {
    "duration": 21,
    "start_time": "2023-10-19T17:07:28.447Z"
   },
   {
    "duration": 8,
    "start_time": "2023-10-19T17:07:28.470Z"
   },
   {
    "duration": 8,
    "start_time": "2023-10-19T17:07:28.479Z"
   },
   {
    "duration": 20,
    "start_time": "2023-10-19T17:07:28.489Z"
   },
   {
    "duration": 9,
    "start_time": "2023-10-19T17:07:28.511Z"
   },
   {
    "duration": 1772,
    "start_time": "2023-10-19T17:07:28.522Z"
   },
   {
    "duration": 55,
    "start_time": "2023-10-19T17:07:30.296Z"
   },
   {
    "duration": 17709,
    "start_time": "2023-10-19T17:07:30.353Z"
   },
   {
    "duration": 8,
    "start_time": "2023-10-19T17:07:48.064Z"
   },
   {
    "duration": 1220,
    "start_time": "2023-10-19T17:07:48.073Z"
   },
   {
    "duration": 178,
    "start_time": "2023-10-19T17:07:49.295Z"
   },
   {
    "duration": 3157,
    "start_time": "2023-10-19T17:07:49.476Z"
   },
   {
    "duration": 299,
    "start_time": "2023-10-19T17:07:52.635Z"
   },
   {
    "duration": 31,
    "start_time": "2023-10-19T17:07:52.936Z"
   },
   {
    "duration": 3240,
    "start_time": "2023-10-19T17:13:34.246Z"
   },
   {
    "duration": 1232,
    "start_time": "2023-10-19T17:14:11.910Z"
   },
   {
    "duration": 1210,
    "start_time": "2023-10-19T17:14:16.455Z"
   },
   {
    "duration": 1231,
    "start_time": "2023-10-19T17:14:20.454Z"
   },
   {
    "duration": 869,
    "start_time": "2023-10-19T17:14:24.073Z"
   },
   {
    "duration": 1053,
    "start_time": "2023-10-19T17:14:27.430Z"
   },
   {
    "duration": 1235,
    "start_time": "2023-10-19T17:14:30.294Z"
   },
   {
    "duration": 1254,
    "start_time": "2023-10-19T17:14:32.775Z"
   },
   {
    "duration": 1195,
    "start_time": "2023-10-19T17:14:36.322Z"
   },
   {
    "duration": 1191,
    "start_time": "2023-10-19T17:14:40.046Z"
   },
   {
    "duration": 1194,
    "start_time": "2023-10-19T17:14:45.440Z"
   },
   {
    "duration": 94,
    "start_time": "2023-10-19T17:14:49.230Z"
   },
   {
    "duration": 142,
    "start_time": "2023-10-19T17:14:59.990Z"
   },
   {
    "duration": 1208,
    "start_time": "2023-10-19T17:15:02.559Z"
   },
   {
    "duration": 1182,
    "start_time": "2023-10-19T17:15:06.305Z"
   },
   {
    "duration": 1189,
    "start_time": "2023-10-19T17:15:11.690Z"
   },
   {
    "duration": 1278,
    "start_time": "2023-10-19T17:15:15.617Z"
   },
   {
    "duration": 1227,
    "start_time": "2023-10-19T17:15:19.439Z"
   },
   {
    "duration": 1206,
    "start_time": "2023-10-19T17:15:26.104Z"
   },
   {
    "duration": 1215,
    "start_time": "2023-10-19T17:15:29.927Z"
   },
   {
    "duration": 1190,
    "start_time": "2023-10-19T17:15:37.130Z"
   },
   {
    "duration": 1210,
    "start_time": "2023-10-19T17:15:41.040Z"
   },
   {
    "duration": 1266,
    "start_time": "2023-10-19T17:15:54.242Z"
   },
   {
    "duration": 200,
    "start_time": "2023-10-19T17:15:55.511Z"
   },
   {
    "duration": 3289,
    "start_time": "2023-10-19T17:16:33.159Z"
   },
   {
    "duration": 216,
    "start_time": "2023-10-19T17:16:36.450Z"
   },
   {
    "duration": 372,
    "start_time": "2023-10-19T17:16:46.488Z"
   },
   {
    "duration": 619,
    "start_time": "2023-10-19T17:16:50.342Z"
   },
   {
    "duration": 167,
    "start_time": "2023-10-19T17:16:52.423Z"
   },
   {
    "duration": 655,
    "start_time": "2023-10-19T17:17:21.185Z"
   },
   {
    "duration": 158,
    "start_time": "2023-10-19T17:17:23.299Z"
   },
   {
    "duration": 601,
    "start_time": "2023-10-19T17:17:36.975Z"
   },
   {
    "duration": 170,
    "start_time": "2023-10-19T17:17:41.635Z"
   },
   {
    "duration": 548,
    "start_time": "2023-10-19T17:17:50.913Z"
   },
   {
    "duration": 559,
    "start_time": "2023-10-19T17:17:54.322Z"
   },
   {
    "duration": 594,
    "start_time": "2023-10-19T17:17:57.048Z"
   },
   {
    "duration": 624,
    "start_time": "2023-10-19T17:18:01.416Z"
   },
   {
    "duration": 615,
    "start_time": "2023-10-19T17:18:04.040Z"
   },
   {
    "duration": 31,
    "start_time": "2023-10-19T17:19:06.689Z"
   },
   {
    "duration": 22,
    "start_time": "2023-10-19T17:19:10.473Z"
   },
   {
    "duration": 21,
    "start_time": "2023-10-19T17:19:14.825Z"
   },
   {
    "duration": 3172,
    "start_time": "2023-10-19T17:19:18.011Z"
   },
   {
    "duration": 3153,
    "start_time": "2023-10-19T17:19:27.523Z"
   },
   {
    "duration": 3068,
    "start_time": "2023-10-19T17:19:35.154Z"
   },
   {
    "duration": 3115,
    "start_time": "2023-10-19T17:19:39.762Z"
   },
   {
    "duration": 3202,
    "start_time": "2023-10-19T17:19:45.012Z"
   },
   {
    "duration": 3198,
    "start_time": "2023-10-19T17:19:52.193Z"
   },
   {
    "duration": 3242,
    "start_time": "2023-10-19T17:19:58.225Z"
   },
   {
    "duration": 3140,
    "start_time": "2023-10-19T17:20:07.004Z"
   },
   {
    "duration": 2848,
    "start_time": "2023-10-19T17:20:13.196Z"
   },
   {
    "duration": 2895,
    "start_time": "2023-10-19T17:20:17.937Z"
   },
   {
    "duration": 3403,
    "start_time": "2023-10-19T17:20:27.443Z"
   },
   {
    "duration": 3309,
    "start_time": "2023-10-19T17:20:36.394Z"
   },
   {
    "duration": 3338,
    "start_time": "2023-10-19T17:20:43.522Z"
   },
   {
    "duration": 3268,
    "start_time": "2023-10-19T17:20:51.826Z"
   },
   {
    "duration": 3518,
    "start_time": "2023-10-19T17:20:59.009Z"
   },
   {
    "duration": 3380,
    "start_time": "2023-10-19T17:21:04.285Z"
   },
   {
    "duration": 3275,
    "start_time": "2023-10-19T17:21:10.161Z"
   },
   {
    "duration": 3387,
    "start_time": "2023-10-19T17:21:20.162Z"
   },
   {
    "duration": 3448,
    "start_time": "2023-10-19T17:21:24.851Z"
   },
   {
    "duration": 93394,
    "start_time": "2023-10-19T17:22:17.045Z"
   },
   {
    "duration": 3339,
    "start_time": "2023-10-19T17:24:05.349Z"
   },
   {
    "duration": 33131,
    "start_time": "2023-10-19T17:24:24.126Z"
   },
   {
    "duration": 3339,
    "start_time": "2023-10-19T17:25:26.100Z"
   },
   {
    "duration": 364,
    "start_time": "2023-10-19T17:26:47.414Z"
   },
   {
    "duration": 329,
    "start_time": "2023-10-19T17:27:05.006Z"
   },
   {
    "duration": 269,
    "start_time": "2023-10-19T17:27:14.204Z"
   },
   {
    "duration": 293,
    "start_time": "2023-10-19T17:27:18.036Z"
   },
   {
    "duration": 2994,
    "start_time": "2023-10-19T17:27:39.500Z"
   },
   {
    "duration": 3282,
    "start_time": "2023-10-19T17:28:09.733Z"
   },
   {
    "duration": 5,
    "start_time": "2023-10-19T17:28:37.205Z"
   },
   {
    "duration": 11,
    "start_time": "2023-10-19T17:28:54.556Z"
   },
   {
    "duration": 13,
    "start_time": "2023-10-19T17:29:01.480Z"
   },
   {
    "duration": 10,
    "start_time": "2023-10-19T17:29:31.621Z"
   },
   {
    "duration": 8,
    "start_time": "2023-10-19T17:29:35.208Z"
   },
   {
    "duration": 3,
    "start_time": "2023-10-19T17:30:06.936Z"
   },
   {
    "duration": 6,
    "start_time": "2023-10-19T17:30:09.028Z"
   },
   {
    "duration": 296,
    "start_time": "2023-10-19T17:30:15.494Z"
   },
   {
    "duration": 2491,
    "start_time": "2023-10-19T17:31:17.753Z"
   },
   {
    "duration": 1724,
    "start_time": "2023-10-19T17:31:20.246Z"
   },
   {
    "duration": 64,
    "start_time": "2023-10-19T17:31:21.972Z"
   },
   {
    "duration": 7,
    "start_time": "2023-10-19T17:31:22.038Z"
   },
   {
    "duration": 24,
    "start_time": "2023-10-19T17:31:22.047Z"
   },
   {
    "duration": 28,
    "start_time": "2023-10-19T17:31:22.072Z"
   },
   {
    "duration": 5,
    "start_time": "2023-10-19T17:31:22.102Z"
   },
   {
    "duration": 25,
    "start_time": "2023-10-19T17:31:22.108Z"
   },
   {
    "duration": 27,
    "start_time": "2023-10-19T17:31:22.136Z"
   },
   {
    "duration": 14,
    "start_time": "2023-10-19T17:31:22.165Z"
   },
   {
    "duration": 44,
    "start_time": "2023-10-19T17:31:22.181Z"
   },
   {
    "duration": 16,
    "start_time": "2023-10-19T17:31:22.226Z"
   },
   {
    "duration": 20,
    "start_time": "2023-10-19T17:31:22.244Z"
   },
   {
    "duration": 19,
    "start_time": "2023-10-19T17:31:22.267Z"
   },
   {
    "duration": 14,
    "start_time": "2023-10-19T17:31:22.287Z"
   },
   {
    "duration": 53,
    "start_time": "2023-10-19T17:31:22.303Z"
   },
   {
    "duration": 13,
    "start_time": "2023-10-19T17:31:22.357Z"
   },
   {
    "duration": 29,
    "start_time": "2023-10-19T17:31:22.372Z"
   },
   {
    "duration": 37,
    "start_time": "2023-10-19T17:31:22.403Z"
   },
   {
    "duration": 21,
    "start_time": "2023-10-19T17:31:22.441Z"
   },
   {
    "duration": 27,
    "start_time": "2023-10-19T17:31:22.464Z"
   },
   {
    "duration": 26,
    "start_time": "2023-10-19T17:31:22.493Z"
   },
   {
    "duration": 14,
    "start_time": "2023-10-19T17:31:22.521Z"
   },
   {
    "duration": 27,
    "start_time": "2023-10-19T17:31:22.537Z"
   },
   {
    "duration": 25,
    "start_time": "2023-10-19T17:31:22.566Z"
   },
   {
    "duration": 13,
    "start_time": "2023-10-19T17:31:22.593Z"
   },
   {
    "duration": 28,
    "start_time": "2023-10-19T17:31:22.608Z"
   },
   {
    "duration": 31,
    "start_time": "2023-10-19T17:31:22.638Z"
   },
   {
    "duration": 12,
    "start_time": "2023-10-19T17:31:22.671Z"
   },
   {
    "duration": 1674,
    "start_time": "2023-10-19T17:31:22.685Z"
   },
   {
    "duration": 39,
    "start_time": "2023-10-19T17:31:24.361Z"
   },
   {
    "duration": 17590,
    "start_time": "2023-10-19T17:31:24.402Z"
   },
   {
    "duration": 7,
    "start_time": "2023-10-19T17:31:41.994Z"
   },
   {
    "duration": 653,
    "start_time": "2023-10-19T17:31:42.003Z"
   },
   {
    "duration": 173,
    "start_time": "2023-10-19T17:31:42.658Z"
   },
   {
    "duration": 3445,
    "start_time": "2023-10-19T17:31:42.833Z"
   },
   {
    "duration": 3,
    "start_time": "2023-10-19T17:31:46.280Z"
   },
   {
    "duration": 417,
    "start_time": "2023-10-19T17:31:46.286Z"
   },
   {
    "duration": 23,
    "start_time": "2023-10-19T17:31:46.707Z"
   },
   {
    "duration": 2677,
    "start_time": "2023-10-19T18:10:25.186Z"
   },
   {
    "duration": 5,
    "start_time": "2023-10-19T18:10:27.866Z"
   },
   {
    "duration": 88,
    "start_time": "2023-10-19T18:10:27.872Z"
   },
   {
    "duration": 8,
    "start_time": "2023-10-19T18:10:27.961Z"
   },
   {
    "duration": 21,
    "start_time": "2023-10-19T18:10:27.971Z"
   },
   {
    "duration": 29,
    "start_time": "2023-10-19T18:10:27.994Z"
   },
   {
    "duration": 9,
    "start_time": "2023-10-19T18:10:28.026Z"
   },
   {
    "duration": 23,
    "start_time": "2023-10-19T18:10:28.037Z"
   },
   {
    "duration": 15,
    "start_time": "2023-10-19T18:10:28.062Z"
   },
   {
    "duration": 6,
    "start_time": "2023-10-19T18:10:28.078Z"
   },
   {
    "duration": 33,
    "start_time": "2023-10-19T18:10:28.086Z"
   },
   {
    "duration": 17,
    "start_time": "2023-10-19T18:10:28.121Z"
   },
   {
    "duration": 40,
    "start_time": "2023-10-19T18:10:28.141Z"
   },
   {
    "duration": 26,
    "start_time": "2023-10-19T18:10:28.186Z"
   },
   {
    "duration": 18,
    "start_time": "2023-10-19T18:10:28.214Z"
   },
   {
    "duration": 58,
    "start_time": "2023-10-19T18:10:28.234Z"
   },
   {
    "duration": 12,
    "start_time": "2023-10-19T18:10:28.293Z"
   },
   {
    "duration": 7,
    "start_time": "2023-10-19T18:10:28.307Z"
   },
   {
    "duration": 35,
    "start_time": "2023-10-19T18:10:28.316Z"
   },
   {
    "duration": 12,
    "start_time": "2023-10-19T18:10:28.353Z"
   },
   {
    "duration": 35,
    "start_time": "2023-10-19T18:10:28.367Z"
   },
   {
    "duration": 27,
    "start_time": "2023-10-19T18:10:28.404Z"
   },
   {
    "duration": 6,
    "start_time": "2023-10-19T18:10:28.433Z"
   },
   {
    "duration": 45,
    "start_time": "2023-10-19T18:10:28.440Z"
   },
   {
    "duration": 32,
    "start_time": "2023-10-19T18:10:28.487Z"
   },
   {
    "duration": 17,
    "start_time": "2023-10-19T18:10:28.521Z"
   },
   {
    "duration": 25,
    "start_time": "2023-10-19T18:10:28.539Z"
   },
   {
    "duration": 6,
    "start_time": "2023-10-19T18:10:28.566Z"
   },
   {
    "duration": 13,
    "start_time": "2023-10-19T18:10:28.573Z"
   },
   {
    "duration": 1856,
    "start_time": "2023-10-19T18:10:28.587Z"
   },
   {
    "duration": 160,
    "start_time": "2023-10-19T18:12:14.927Z"
   },
   {
    "duration": 51,
    "start_time": "2023-10-19T18:12:23.814Z"
   },
   {
    "duration": 26,
    "start_time": "2023-10-19T18:14:34.837Z"
   },
   {
    "duration": 692,
    "start_time": "2023-10-19T18:25:22.159Z"
   },
   {
    "duration": 688,
    "start_time": "2023-10-19T18:25:26.717Z"
   },
   {
    "duration": 2687,
    "start_time": "2023-10-19T18:26:18.047Z"
   },
   {
    "duration": 4428,
    "start_time": "2023-10-19T18:26:33.345Z"
   },
   {
    "duration": 1734,
    "start_time": "2023-10-19T18:26:48.175Z"
   },
   {
    "duration": 5323,
    "start_time": "2023-10-19T18:26:58.151Z"
   },
   {
    "duration": 1865,
    "start_time": "2023-10-19T18:27:16.593Z"
   },
   {
    "duration": 3078,
    "start_time": "2023-10-19T18:27:24.820Z"
   },
   {
    "duration": 1847,
    "start_time": "2023-10-19T18:27:30.263Z"
   },
   {
    "duration": 1803,
    "start_time": "2023-10-19T18:28:09.435Z"
   },
   {
    "duration": 1988,
    "start_time": "2023-10-19T18:28:27.020Z"
   },
   {
    "duration": 1847,
    "start_time": "2023-10-19T18:28:51.233Z"
   },
   {
    "duration": 2021,
    "start_time": "2023-10-19T18:31:07.736Z"
   },
   {
    "duration": 1796,
    "start_time": "2023-10-19T18:32:41.696Z"
   },
   {
    "duration": 2460,
    "start_time": "2023-10-19T18:32:47.318Z"
   },
   {
    "duration": 6,
    "start_time": "2023-10-19T18:32:49.781Z"
   },
   {
    "duration": 70,
    "start_time": "2023-10-19T18:32:49.789Z"
   },
   {
    "duration": 8,
    "start_time": "2023-10-19T18:32:49.861Z"
   },
   {
    "duration": 12,
    "start_time": "2023-10-19T18:32:49.872Z"
   },
   {
    "duration": 29,
    "start_time": "2023-10-19T18:32:49.886Z"
   },
   {
    "duration": 4,
    "start_time": "2023-10-19T18:32:49.917Z"
   },
   {
    "duration": 34,
    "start_time": "2023-10-19T18:32:49.923Z"
   },
   {
    "duration": 12,
    "start_time": "2023-10-19T18:32:49.959Z"
   },
   {
    "duration": 7,
    "start_time": "2023-10-19T18:32:49.973Z"
   },
   {
    "duration": 60,
    "start_time": "2023-10-19T18:32:49.982Z"
   },
   {
    "duration": 9,
    "start_time": "2023-10-19T18:32:50.044Z"
   },
   {
    "duration": 28,
    "start_time": "2023-10-19T18:32:50.055Z"
   },
   {
    "duration": 11,
    "start_time": "2023-10-19T18:32:50.088Z"
   },
   {
    "duration": 6,
    "start_time": "2023-10-19T18:32:50.102Z"
   },
   {
    "duration": 33,
    "start_time": "2023-10-19T18:32:50.110Z"
   },
   {
    "duration": 13,
    "start_time": "2023-10-19T18:32:50.144Z"
   },
   {
    "duration": 3,
    "start_time": "2023-10-19T18:32:50.160Z"
   },
   {
    "duration": 53,
    "start_time": "2023-10-19T18:32:50.165Z"
   },
   {
    "duration": 14,
    "start_time": "2023-10-19T18:32:50.220Z"
   },
   {
    "duration": 23,
    "start_time": "2023-10-19T18:32:50.236Z"
   },
   {
    "duration": 32,
    "start_time": "2023-10-19T18:32:50.261Z"
   },
   {
    "duration": 22,
    "start_time": "2023-10-19T18:32:50.296Z"
   },
   {
    "duration": 33,
    "start_time": "2023-10-19T18:32:50.320Z"
   },
   {
    "duration": 33,
    "start_time": "2023-10-19T18:32:50.355Z"
   },
   {
    "duration": 16,
    "start_time": "2023-10-19T18:32:50.390Z"
   },
   {
    "duration": 31,
    "start_time": "2023-10-19T18:32:50.407Z"
   },
   {
    "duration": 19,
    "start_time": "2023-10-19T18:32:50.441Z"
   },
   {
    "duration": 40,
    "start_time": "2023-10-19T18:32:50.462Z"
   },
   {
    "duration": 1855,
    "start_time": "2023-10-19T18:32:50.503Z"
   },
   {
    "duration": 1857,
    "start_time": "2023-10-19T18:32:54.397Z"
   },
   {
    "duration": 1798,
    "start_time": "2023-10-19T18:34:21.335Z"
   },
   {
    "duration": 1850,
    "start_time": "2023-10-19T18:34:29.234Z"
   },
   {
    "duration": 16,
    "start_time": "2023-10-19T18:36:06.079Z"
   },
   {
    "duration": 91,
    "start_time": "2023-10-19T18:38:30.211Z"
   },
   {
    "duration": 20,
    "start_time": "2023-10-19T18:38:40.563Z"
   },
   {
    "duration": 97559,
    "start_time": "2023-10-19T18:38:45.548Z"
   },
   {
    "duration": 10299,
    "start_time": "2023-10-19T18:40:52.549Z"
   },
   {
    "duration": 71017,
    "start_time": "2023-10-19T18:41:08.948Z"
   },
   {
    "duration": 32,
    "start_time": "2023-10-19T18:42:26.724Z"
   },
   {
    "duration": 58098,
    "start_time": "2023-10-19T18:42:35.917Z"
   },
   {
    "duration": 7377,
    "start_time": "2023-10-19T18:44:33.446Z"
   },
   {
    "duration": 27905,
    "start_time": "2023-10-19T18:45:25.607Z"
   },
   {
    "duration": 118858,
    "start_time": "2023-10-19T18:46:14.146Z"
   },
   {
    "duration": 39996,
    "start_time": "2023-10-19T18:48:19.097Z"
   },
   {
    "duration": 28292,
    "start_time": "2023-10-19T18:51:09.355Z"
   },
   {
    "duration": 93189,
    "start_time": "2023-10-19T18:56:19.328Z"
   },
   {
    "duration": 644,
    "start_time": "2023-10-19T18:58:35.830Z"
   },
   {
    "duration": 10265,
    "start_time": "2023-10-19T18:59:39.662Z"
   },
   {
    "duration": 322827,
    "start_time": "2023-10-19T18:59:54.855Z"
   },
   {
    "duration": 28056,
    "start_time": "2023-10-19T19:06:58.943Z"
   },
   {
    "duration": 118965,
    "start_time": "2023-10-19T19:07:38.331Z"
   },
   {
    "duration": 20917,
    "start_time": "2023-10-19T19:10:35.345Z"
   },
   {
    "duration": 13661,
    "start_time": "2023-10-19T19:11:25.697Z"
   },
   {
    "duration": 15492,
    "start_time": "2023-10-19T19:11:54.298Z"
   },
   {
    "duration": 3893,
    "start_time": "2023-10-19T19:12:29.746Z"
   },
   {
    "duration": 26511,
    "start_time": "2023-10-19T19:13:15.525Z"
   },
   {
    "duration": 34823,
    "start_time": "2023-10-19T19:14:08.409Z"
   },
   {
    "duration": 3614,
    "start_time": "2023-10-19T19:24:10.239Z"
   },
   {
    "duration": 19551,
    "start_time": "2023-10-19T19:25:37.599Z"
   },
   {
    "duration": 39819,
    "start_time": "2023-10-19T19:26:23.031Z"
   },
   {
    "duration": 35172,
    "start_time": "2023-10-19T19:27:19.800Z"
   },
   {
    "duration": 35476,
    "start_time": "2023-10-19T19:29:27.515Z"
   },
   {
    "duration": 40812,
    "start_time": "2023-10-19T19:30:43.141Z"
   },
   {
    "duration": 41080,
    "start_time": "2023-10-19T19:31:35.466Z"
   },
   {
    "duration": 748,
    "start_time": "2023-10-19T19:36:41.615Z"
   },
   {
    "duration": 8,
    "start_time": "2023-10-19T19:36:47.217Z"
   },
   {
    "duration": 5,
    "start_time": "2023-10-19T19:36:48.094Z"
   },
   {
    "duration": 749,
    "start_time": "2023-10-19T19:36:49.113Z"
   },
   {
    "duration": 2485,
    "start_time": "2023-10-19T19:38:34.817Z"
   },
   {
    "duration": 5,
    "start_time": "2023-10-19T19:38:37.305Z"
   },
   {
    "duration": 94,
    "start_time": "2023-10-19T19:38:37.311Z"
   },
   {
    "duration": 8,
    "start_time": "2023-10-19T19:38:37.407Z"
   },
   {
    "duration": 36,
    "start_time": "2023-10-19T19:38:37.418Z"
   },
   {
    "duration": 15,
    "start_time": "2023-10-19T19:38:37.456Z"
   },
   {
    "duration": 4,
    "start_time": "2023-10-19T19:38:37.473Z"
   },
   {
    "duration": 27,
    "start_time": "2023-10-19T19:38:37.478Z"
   },
   {
    "duration": 9,
    "start_time": "2023-10-19T19:38:37.507Z"
   },
   {
    "duration": 4,
    "start_time": "2023-10-19T19:38:37.518Z"
   },
   {
    "duration": 38,
    "start_time": "2023-10-19T19:38:37.523Z"
   },
   {
    "duration": 9,
    "start_time": "2023-10-19T19:38:37.563Z"
   },
   {
    "duration": 6,
    "start_time": "2023-10-19T19:38:37.573Z"
   },
   {
    "duration": 5,
    "start_time": "2023-10-19T19:38:37.582Z"
   },
   {
    "duration": 6,
    "start_time": "2023-10-19T19:38:37.588Z"
   },
   {
    "duration": 54,
    "start_time": "2023-10-19T19:38:37.595Z"
   },
   {
    "duration": 13,
    "start_time": "2023-10-19T19:38:37.651Z"
   },
   {
    "duration": 4,
    "start_time": "2023-10-19T19:38:37.666Z"
   },
   {
    "duration": 36,
    "start_time": "2023-10-19T19:38:37.672Z"
   },
   {
    "duration": 13,
    "start_time": "2023-10-19T19:38:37.709Z"
   },
   {
    "duration": 32,
    "start_time": "2023-10-19T19:38:37.724Z"
   },
   {
    "duration": 12,
    "start_time": "2023-10-19T19:38:37.758Z"
   },
   {
    "duration": 25,
    "start_time": "2023-10-19T19:38:37.772Z"
   },
   {
    "duration": 37,
    "start_time": "2023-10-19T19:38:37.799Z"
   },
   {
    "duration": 17,
    "start_time": "2023-10-19T19:38:37.837Z"
   },
   {
    "duration": 22,
    "start_time": "2023-10-19T19:38:37.856Z"
   },
   {
    "duration": 10,
    "start_time": "2023-10-19T19:38:37.880Z"
   },
   {
    "duration": 8,
    "start_time": "2023-10-19T19:38:37.892Z"
   },
   {
    "duration": 11,
    "start_time": "2023-10-19T19:38:37.902Z"
   },
   {
    "duration": 1917,
    "start_time": "2023-10-19T19:38:37.914Z"
   },
   {
    "duration": 1842,
    "start_time": "2023-10-19T19:38:39.833Z"
   },
   {
    "duration": 35149,
    "start_time": "2023-10-19T19:38:41.677Z"
   },
   {
    "duration": 42630,
    "start_time": "2023-10-19T19:39:16.828Z"
   },
   {
    "duration": 11,
    "start_time": "2023-10-19T19:39:59.547Z"
   },
   {
    "duration": 100,
    "start_time": "2023-10-19T19:39:59.560Z"
   },
   {
    "duration": 776,
    "start_time": "2023-10-19T19:39:59.663Z"
   },
   {
    "duration": 177,
    "start_time": "2023-10-19T19:40:01.844Z"
   },
   {
    "duration": 106,
    "start_time": "2023-10-19T19:47:09.998Z"
   },
   {
    "duration": 550,
    "start_time": "2023-10-19T19:47:20.646Z"
   },
   {
    "duration": 14134,
    "start_time": "2023-10-19T19:50:10.959Z"
   },
   {
    "duration": 2888,
    "start_time": "2023-10-19T19:54:55.461Z"
   },
   {
    "duration": 2796,
    "start_time": "2023-10-19T19:55:17.558Z"
   },
   {
    "duration": 2831,
    "start_time": "2023-10-19T19:55:41.322Z"
   },
   {
    "duration": 2891,
    "start_time": "2023-10-19T19:55:49.155Z"
   },
   {
    "duration": 2798,
    "start_time": "2023-10-19T19:56:01.851Z"
   },
   {
    "duration": 2847,
    "start_time": "2023-10-19T19:56:12.108Z"
   },
   {
    "duration": 2435,
    "start_time": "2023-10-19T19:57:34.886Z"
   },
   {
    "duration": 4,
    "start_time": "2023-10-19T19:57:37.324Z"
   },
   {
    "duration": 93,
    "start_time": "2023-10-19T19:57:37.330Z"
   },
   {
    "duration": 7,
    "start_time": "2023-10-19T19:57:37.425Z"
   },
   {
    "duration": 13,
    "start_time": "2023-10-19T19:57:37.434Z"
   },
   {
    "duration": 20,
    "start_time": "2023-10-19T19:57:37.449Z"
   },
   {
    "duration": 4,
    "start_time": "2023-10-19T19:57:37.470Z"
   },
   {
    "duration": 17,
    "start_time": "2023-10-19T19:57:37.476Z"
   },
   {
    "duration": 8,
    "start_time": "2023-10-19T19:57:37.495Z"
   },
   {
    "duration": 4,
    "start_time": "2023-10-19T19:57:37.505Z"
   },
   {
    "duration": 42,
    "start_time": "2023-10-19T19:57:37.511Z"
   },
   {
    "duration": 7,
    "start_time": "2023-10-19T19:57:37.555Z"
   },
   {
    "duration": 23,
    "start_time": "2023-10-19T19:57:37.564Z"
   },
   {
    "duration": 4,
    "start_time": "2023-10-19T19:57:37.590Z"
   },
   {
    "duration": 21,
    "start_time": "2023-10-19T19:57:37.595Z"
   },
   {
    "duration": 29,
    "start_time": "2023-10-19T19:57:37.618Z"
   },
   {
    "duration": 12,
    "start_time": "2023-10-19T19:57:37.649Z"
   },
   {
    "duration": 3,
    "start_time": "2023-10-19T19:57:37.663Z"
   },
   {
    "duration": 41,
    "start_time": "2023-10-19T19:57:37.668Z"
   },
   {
    "duration": 12,
    "start_time": "2023-10-19T19:57:37.711Z"
   },
   {
    "duration": 23,
    "start_time": "2023-10-19T19:57:37.725Z"
   },
   {
    "duration": 11,
    "start_time": "2023-10-19T19:57:37.749Z"
   },
   {
    "duration": 9,
    "start_time": "2023-10-19T19:57:37.761Z"
   },
   {
    "duration": 13,
    "start_time": "2023-10-19T19:57:37.772Z"
   },
   {
    "duration": 10,
    "start_time": "2023-10-19T19:57:37.786Z"
   },
   {
    "duration": 12,
    "start_time": "2023-10-19T19:57:37.798Z"
   },
   {
    "duration": 15,
    "start_time": "2023-10-19T19:57:37.812Z"
   },
   {
    "duration": 6,
    "start_time": "2023-10-19T19:57:37.828Z"
   },
   {
    "duration": 16,
    "start_time": "2023-10-19T19:57:37.835Z"
   },
   {
    "duration": 1773,
    "start_time": "2023-10-19T19:57:37.852Z"
   },
   {
    "duration": 1801,
    "start_time": "2023-10-19T19:57:39.627Z"
   },
   {
    "duration": 34490,
    "start_time": "2023-10-19T19:57:41.430Z"
   },
   {
    "duration": 40626,
    "start_time": "2023-10-19T19:58:15.922Z"
   },
   {
    "duration": 101,
    "start_time": "2023-10-19T19:58:56.550Z"
   },
   {
    "duration": 5,
    "start_time": "2023-10-19T19:58:56.653Z"
   },
   {
    "duration": 562,
    "start_time": "2023-10-19T19:58:56.659Z"
   },
   {
    "duration": 130,
    "start_time": "2023-10-19T19:58:57.223Z"
   },
   {
    "duration": 14467,
    "start_time": "2023-10-19T19:58:57.355Z"
   },
   {
    "duration": 2829,
    "start_time": "2023-10-19T19:59:11.824Z"
   },
   {
    "duration": 4,
    "start_time": "2023-10-19T20:00:07.521Z"
   },
   {
    "duration": 2120,
    "start_time": "2023-10-19T20:03:33.792Z"
   },
   {
    "duration": 1903,
    "start_time": "2023-10-19T20:03:52.111Z"
   },
   {
    "duration": 1870,
    "start_time": "2023-10-19T20:05:16.256Z"
   },
   {
    "duration": 1743,
    "start_time": "2023-10-19T20:05:22.091Z"
   },
   {
    "duration": 2372,
    "start_time": "2023-10-19T20:05:45.132Z"
   },
   {
    "duration": 2273,
    "start_time": "2023-10-19T20:07:51.674Z"
   },
   {
    "duration": 95,
    "start_time": "2023-10-19T20:08:14.882Z"
   },
   {
    "duration": 2360,
    "start_time": "2023-10-19T20:08:18.217Z"
   },
   {
    "duration": 2301,
    "start_time": "2023-10-19T20:08:38.063Z"
   },
   {
    "duration": 3,
    "start_time": "2023-10-19T20:09:54.549Z"
   },
   {
    "duration": 375,
    "start_time": "2023-10-19T20:09:55.478Z"
   },
   {
    "duration": 253,
    "start_time": "2023-10-19T20:10:02.034Z"
   },
   {
    "duration": 259,
    "start_time": "2023-10-19T20:10:22.035Z"
   },
   {
    "duration": 23,
    "start_time": "2023-10-19T20:12:17.984Z"
   },
   {
    "duration": 86726,
    "start_time": "2023-10-19T20:12:29.716Z"
   },
   {
    "duration": 2071,
    "start_time": "2023-10-19T20:16:05.201Z"
   },
   {
    "duration": 2030,
    "start_time": "2023-10-19T20:16:16.574Z"
   },
   {
    "duration": 2070,
    "start_time": "2023-10-19T20:16:33.050Z"
   },
   {
    "duration": 9110,
    "start_time": "2023-10-19T20:17:30.480Z"
   },
   {
    "duration": 8927,
    "start_time": "2023-10-19T20:18:10.399Z"
   },
   {
    "duration": 2116,
    "start_time": "2023-10-19T20:21:13.034Z"
   },
   {
    "duration": 19843,
    "start_time": "2023-10-19T20:21:30.209Z"
   },
   {
    "duration": 19972,
    "start_time": "2023-10-19T20:22:20.381Z"
   },
   {
    "duration": 19788,
    "start_time": "2023-10-19T20:23:42.862Z"
   },
   {
    "duration": 19993,
    "start_time": "2023-10-19T20:24:15.061Z"
   },
   {
    "duration": 15,
    "start_time": "2023-10-19T20:28:03.676Z"
   },
   {
    "duration": 13,
    "start_time": "2023-10-19T20:28:10.758Z"
   },
   {
    "duration": 12,
    "start_time": "2023-10-19T20:28:19.214Z"
   },
   {
    "duration": 18,
    "start_time": "2023-10-19T20:29:45.694Z"
   },
   {
    "duration": 19,
    "start_time": "2023-10-19T20:30:03.045Z"
   },
   {
    "duration": 1767,
    "start_time": "2023-10-19T20:30:22.054Z"
   },
   {
    "duration": 168,
    "start_time": "2023-10-19T20:35:04.099Z"
   },
   {
    "duration": 57,
    "start_time": "2023-10-19T20:37:22.589Z"
   },
   {
    "duration": 12,
    "start_time": "2023-10-19T20:49:20.284Z"
   },
   {
    "duration": 147,
    "start_time": "2023-10-19T20:49:21.076Z"
   },
   {
    "duration": 125,
    "start_time": "2023-10-19T20:49:57.024Z"
   },
   {
    "duration": 13,
    "start_time": "2023-10-19T20:50:24.557Z"
   },
   {
    "duration": 125,
    "start_time": "2023-10-19T20:50:25.093Z"
   },
   {
    "duration": 154,
    "start_time": "2023-10-19T20:50:49.025Z"
   },
   {
    "duration": 160,
    "start_time": "2023-10-19T20:51:05.226Z"
   },
   {
    "duration": 168,
    "start_time": "2023-10-19T20:51:15.700Z"
   },
   {
    "duration": 142,
    "start_time": "2023-10-19T20:51:17.966Z"
   },
   {
    "duration": 15,
    "start_time": "2023-10-19T20:51:22.545Z"
   },
   {
    "duration": 137,
    "start_time": "2023-10-19T20:51:27.510Z"
   },
   {
    "duration": 2504,
    "start_time": "2023-10-19T20:52:30.086Z"
   },
   {
    "duration": 1520,
    "start_time": "2023-10-19T20:52:32.593Z"
   },
   {
    "duration": 68,
    "start_time": "2023-10-19T20:52:34.115Z"
   },
   {
    "duration": 7,
    "start_time": "2023-10-19T20:52:34.185Z"
   },
   {
    "duration": 16,
    "start_time": "2023-10-19T20:52:34.194Z"
   },
   {
    "duration": 19,
    "start_time": "2023-10-19T20:52:34.212Z"
   },
   {
    "duration": 29,
    "start_time": "2023-10-19T20:52:34.233Z"
   },
   {
    "duration": 35,
    "start_time": "2023-10-19T20:52:34.264Z"
   },
   {
    "duration": 7,
    "start_time": "2023-10-19T20:52:34.301Z"
   },
   {
    "duration": 4,
    "start_time": "2023-10-19T20:52:34.311Z"
   },
   {
    "duration": 36,
    "start_time": "2023-10-19T20:52:34.317Z"
   },
   {
    "duration": 8,
    "start_time": "2023-10-19T20:52:34.355Z"
   },
   {
    "duration": 6,
    "start_time": "2023-10-19T20:52:34.364Z"
   },
   {
    "duration": 4,
    "start_time": "2023-10-19T20:52:34.372Z"
   },
   {
    "duration": 4,
    "start_time": "2023-10-19T20:52:34.378Z"
   },
   {
    "duration": 36,
    "start_time": "2023-10-19T20:52:34.384Z"
   },
   {
    "duration": 33,
    "start_time": "2023-10-19T20:52:34.422Z"
   },
   {
    "duration": 4,
    "start_time": "2023-10-19T20:52:34.457Z"
   },
   {
    "duration": 39,
    "start_time": "2023-10-19T20:52:34.462Z"
   },
   {
    "duration": 12,
    "start_time": "2023-10-19T20:52:34.503Z"
   },
   {
    "duration": 32,
    "start_time": "2023-10-19T20:52:34.517Z"
   },
   {
    "duration": 16,
    "start_time": "2023-10-19T20:52:34.551Z"
   },
   {
    "duration": 7,
    "start_time": "2023-10-19T20:52:34.568Z"
   },
   {
    "duration": 11,
    "start_time": "2023-10-19T20:52:34.577Z"
   },
   {
    "duration": 21,
    "start_time": "2023-10-19T20:52:34.590Z"
   },
   {
    "duration": 9,
    "start_time": "2023-10-19T20:52:34.613Z"
   },
   {
    "duration": 4,
    "start_time": "2023-10-19T20:52:34.624Z"
   },
   {
    "duration": 4,
    "start_time": "2023-10-19T20:52:34.649Z"
   },
   {
    "duration": 7,
    "start_time": "2023-10-19T20:52:34.655Z"
   },
   {
    "duration": 1795,
    "start_time": "2023-10-19T20:52:34.663Z"
   },
   {
    "duration": 1800,
    "start_time": "2023-10-19T20:52:36.460Z"
   },
   {
    "duration": 34192,
    "start_time": "2023-10-19T20:52:38.262Z"
   },
   {
    "duration": 39891,
    "start_time": "2023-10-19T20:53:12.456Z"
   },
   {
    "duration": 98,
    "start_time": "2023-10-19T20:53:52.350Z"
   },
   {
    "duration": 20,
    "start_time": "2023-10-19T20:53:52.450Z"
   },
   {
    "duration": 552,
    "start_time": "2023-10-19T20:53:52.471Z"
   },
   {
    "duration": 14146,
    "start_time": "2023-10-19T20:53:53.026Z"
   },
   {
    "duration": 2982,
    "start_time": "2023-10-19T20:54:07.173Z"
   },
   {
    "duration": 7,
    "start_time": "2023-10-19T20:54:10.249Z"
   },
   {
    "duration": 2083,
    "start_time": "2023-10-19T20:54:10.258Z"
   },
   {
    "duration": 971,
    "start_time": "2023-10-19T20:54:12.343Z"
   },
   {
    "duration": 236,
    "start_time": "2023-10-19T20:54:13.316Z"
   },
   {
    "duration": 12,
    "start_time": "2023-10-19T20:54:13.554Z"
   },
   {
    "duration": 159,
    "start_time": "2023-10-19T20:54:13.568Z"
   },
   {
    "duration": 22,
    "start_time": "2023-10-19T20:54:13.729Z"
   },
   {
    "duration": 0,
    "start_time": "2023-10-19T20:54:13.753Z"
   },
   {
    "duration": 0,
    "start_time": "2023-10-19T20:54:13.755Z"
   },
   {
    "duration": 0,
    "start_time": "2023-10-19T20:54:13.756Z"
   },
   {
    "duration": 2458,
    "start_time": "2023-10-19T20:56:23.669Z"
   },
   {
    "duration": 1486,
    "start_time": "2023-10-19T20:56:26.129Z"
   },
   {
    "duration": 68,
    "start_time": "2023-10-19T20:56:27.617Z"
   },
   {
    "duration": 6,
    "start_time": "2023-10-19T20:56:27.687Z"
   },
   {
    "duration": 30,
    "start_time": "2023-10-19T20:56:27.695Z"
   },
   {
    "duration": 34,
    "start_time": "2023-10-19T20:56:27.727Z"
   },
   {
    "duration": 9,
    "start_time": "2023-10-19T20:56:27.763Z"
   },
   {
    "duration": 21,
    "start_time": "2023-10-19T20:56:27.773Z"
   },
   {
    "duration": 23,
    "start_time": "2023-10-19T20:56:27.796Z"
   },
   {
    "duration": 11,
    "start_time": "2023-10-19T20:56:27.821Z"
   },
   {
    "duration": 34,
    "start_time": "2023-10-19T20:56:27.834Z"
   },
   {
    "duration": 22,
    "start_time": "2023-10-19T20:56:27.870Z"
   },
   {
    "duration": 20,
    "start_time": "2023-10-19T20:56:27.894Z"
   },
   {
    "duration": 19,
    "start_time": "2023-10-19T20:56:27.917Z"
   },
   {
    "duration": 20,
    "start_time": "2023-10-19T20:56:27.937Z"
   },
   {
    "duration": 40,
    "start_time": "2023-10-19T20:56:27.958Z"
   },
   {
    "duration": 12,
    "start_time": "2023-10-19T20:56:28.000Z"
   },
   {
    "duration": 12,
    "start_time": "2023-10-19T20:56:28.013Z"
   },
   {
    "duration": 49,
    "start_time": "2023-10-19T20:56:28.027Z"
   },
   {
    "duration": 15,
    "start_time": "2023-10-19T20:56:28.077Z"
   },
   {
    "duration": 27,
    "start_time": "2023-10-19T20:56:28.094Z"
   },
   {
    "duration": 32,
    "start_time": "2023-10-19T20:56:28.123Z"
   },
   {
    "duration": 15,
    "start_time": "2023-10-19T20:56:28.156Z"
   },
   {
    "duration": 30,
    "start_time": "2023-10-19T20:56:28.173Z"
   },
   {
    "duration": 22,
    "start_time": "2023-10-19T20:56:28.205Z"
   },
   {
    "duration": 20,
    "start_time": "2023-10-19T20:56:28.229Z"
   },
   {
    "duration": 9,
    "start_time": "2023-10-19T20:56:28.251Z"
   },
   {
    "duration": 32,
    "start_time": "2023-10-19T20:56:28.262Z"
   },
   {
    "duration": 27,
    "start_time": "2023-10-19T20:56:28.295Z"
   },
   {
    "duration": 1730,
    "start_time": "2023-10-19T20:56:28.324Z"
   },
   {
    "duration": 1803,
    "start_time": "2023-10-19T20:56:30.056Z"
   },
   {
    "duration": 33752,
    "start_time": "2023-10-19T20:56:31.862Z"
   },
   {
    "duration": 41033,
    "start_time": "2023-10-19T20:57:05.615Z"
   },
   {
    "duration": 97,
    "start_time": "2023-10-19T20:57:46.651Z"
   },
   {
    "duration": 9,
    "start_time": "2023-10-19T20:57:46.750Z"
   },
   {
    "duration": 670,
    "start_time": "2023-10-19T20:57:46.760Z"
   },
   {
    "duration": 16064,
    "start_time": "2023-10-19T20:57:47.432Z"
   },
   {
    "duration": 2755,
    "start_time": "2023-10-19T20:58:03.498Z"
   },
   {
    "duration": 93,
    "start_time": "2023-10-19T20:58:06.256Z"
   },
   {
    "duration": 2064,
    "start_time": "2023-10-19T20:58:06.351Z"
   },
   {
    "duration": 1009,
    "start_time": "2023-10-19T20:58:08.418Z"
   },
   {
    "duration": 220,
    "start_time": "2023-10-19T20:58:09.428Z"
   },
   {
    "duration": 13,
    "start_time": "2023-10-19T20:58:09.649Z"
   },
   {
    "duration": 162,
    "start_time": "2023-10-19T20:58:09.663Z"
   },
   {
    "duration": 23,
    "start_time": "2023-10-19T20:58:09.827Z"
   },
   {
    "duration": 0,
    "start_time": "2023-10-19T20:58:09.852Z"
   },
   {
    "duration": 0,
    "start_time": "2023-10-19T20:58:09.853Z"
   },
   {
    "duration": 0,
    "start_time": "2023-10-19T20:58:09.855Z"
   },
   {
    "duration": 9023,
    "start_time": "2023-10-19T21:01:29.236Z"
   },
   {
    "duration": 20272,
    "start_time": "2023-10-19T21:01:43.477Z"
   },
   {
    "duration": 12,
    "start_time": "2023-10-19T21:02:16.363Z"
   },
   {
    "duration": 143,
    "start_time": "2023-10-19T21:02:17.127Z"
   },
   {
    "duration": 169,
    "start_time": "2023-10-19T21:02:19.061Z"
   },
   {
    "duration": 141,
    "start_time": "2023-10-19T21:02:21.161Z"
   },
   {
    "duration": 2385,
    "start_time": "2023-10-19T21:02:25.670Z"
   },
   {
    "duration": 1566,
    "start_time": "2023-10-19T21:02:28.058Z"
   },
   {
    "duration": 68,
    "start_time": "2023-10-19T21:02:29.626Z"
   },
   {
    "duration": 7,
    "start_time": "2023-10-19T21:02:29.696Z"
   },
   {
    "duration": 50,
    "start_time": "2023-10-19T21:02:29.705Z"
   },
   {
    "duration": 84,
    "start_time": "2023-10-19T21:02:29.756Z"
   },
   {
    "duration": 46,
    "start_time": "2023-10-19T21:02:29.842Z"
   },
   {
    "duration": 86,
    "start_time": "2023-10-19T21:02:29.890Z"
   },
   {
    "duration": 73,
    "start_time": "2023-10-19T21:02:29.978Z"
   },
   {
    "duration": 82,
    "start_time": "2023-10-19T21:02:30.053Z"
   },
   {
    "duration": 116,
    "start_time": "2023-10-19T21:02:30.137Z"
   },
   {
    "duration": 43,
    "start_time": "2023-10-19T21:02:30.255Z"
   },
   {
    "duration": 61,
    "start_time": "2023-10-19T21:02:30.300Z"
   },
   {
    "duration": 46,
    "start_time": "2023-10-19T21:02:30.366Z"
   },
   {
    "duration": 36,
    "start_time": "2023-10-19T21:02:30.414Z"
   },
   {
    "duration": 72,
    "start_time": "2023-10-19T21:02:30.452Z"
   },
   {
    "duration": 78,
    "start_time": "2023-10-19T21:02:30.526Z"
   },
   {
    "duration": 96,
    "start_time": "2023-10-19T21:02:30.606Z"
   },
   {
    "duration": 103,
    "start_time": "2023-10-19T21:02:30.704Z"
   },
   {
    "duration": 78,
    "start_time": "2023-10-19T21:02:30.809Z"
   },
   {
    "duration": 63,
    "start_time": "2023-10-19T21:02:30.889Z"
   },
   {
    "duration": 81,
    "start_time": "2023-10-19T21:02:30.953Z"
   },
   {
    "duration": 68,
    "start_time": "2023-10-19T21:02:31.036Z"
   },
   {
    "duration": 76,
    "start_time": "2023-10-19T21:02:31.106Z"
   },
   {
    "duration": 63,
    "start_time": "2023-10-19T21:02:31.184Z"
   },
   {
    "duration": 65,
    "start_time": "2023-10-19T21:02:31.249Z"
   },
   {
    "duration": 171,
    "start_time": "2023-10-19T21:02:31.316Z"
   },
   {
    "duration": 56,
    "start_time": "2023-10-19T21:02:31.489Z"
   },
   {
    "duration": 51,
    "start_time": "2023-10-19T21:02:31.546Z"
   },
   {
    "duration": 1773,
    "start_time": "2023-10-19T21:02:31.599Z"
   },
   {
    "duration": 1820,
    "start_time": "2023-10-19T21:02:33.374Z"
   },
   {
    "duration": 33794,
    "start_time": "2023-10-19T21:02:35.196Z"
   },
   {
    "duration": 2255,
    "start_time": "2023-10-19T21:03:08.991Z"
   },
   {
    "duration": 100,
    "start_time": "2023-10-19T21:03:11.253Z"
   },
   {
    "duration": 19,
    "start_time": "2023-10-19T21:03:11.355Z"
   },
   {
    "duration": 535,
    "start_time": "2023-10-19T21:03:11.376Z"
   },
   {
    "duration": 15191,
    "start_time": "2023-10-19T21:03:11.912Z"
   },
   {
    "duration": 2943,
    "start_time": "2023-10-19T21:03:27.105Z"
   },
   {
    "duration": 96,
    "start_time": "2023-10-19T21:03:30.051Z"
   },
   {
    "duration": 2139,
    "start_time": "2023-10-19T21:03:30.149Z"
   },
   {
    "duration": 8922,
    "start_time": "2023-10-19T21:03:32.292Z"
   },
   {
    "duration": 20336,
    "start_time": "2023-10-19T21:03:41.216Z"
   },
   {
    "duration": 101,
    "start_time": "2023-10-19T21:04:01.555Z"
   },
   {
    "duration": 195,
    "start_time": "2023-10-19T21:04:01.657Z"
   },
   {
    "duration": 173,
    "start_time": "2023-10-19T21:04:01.854Z"
   },
   {
    "duration": 147,
    "start_time": "2023-10-19T21:04:02.029Z"
   },
   {
    "duration": 75,
    "start_time": "2023-10-19T21:04:02.178Z"
   },
   {
    "duration": 328,
    "start_time": "2023-10-19T21:04:02.255Z"
   },
   {
    "duration": 14,
    "start_time": "2023-10-19T21:04:25.722Z"
   },
   {
    "duration": 180,
    "start_time": "2023-10-19T21:04:35.069Z"
   },
   {
    "duration": 167,
    "start_time": "2023-10-19T21:04:37.392Z"
   },
   {
    "duration": 15,
    "start_time": "2023-10-19T21:04:43.760Z"
   },
   {
    "duration": 141,
    "start_time": "2023-10-19T21:04:52.818Z"
   },
   {
    "duration": 123,
    "start_time": "2023-10-19T21:05:44.799Z"
   },
   {
    "duration": 63,
    "start_time": "2023-10-19T21:10:46.307Z"
   },
   {
    "duration": 213,
    "start_time": "2023-10-19T21:11:18.215Z"
   },
   {
    "duration": 1724,
    "start_time": "2023-10-19T21:12:31.028Z"
   },
   {
    "duration": 18632,
    "start_time": "2023-10-19T21:12:45.116Z"
   },
   {
    "duration": 2418,
    "start_time": "2023-10-19T21:15:20.881Z"
   },
   {
    "duration": 1476,
    "start_time": "2023-10-19T21:15:23.301Z"
   },
   {
    "duration": 68,
    "start_time": "2023-10-19T21:15:24.778Z"
   },
   {
    "duration": 6,
    "start_time": "2023-10-19T21:15:24.848Z"
   },
   {
    "duration": 14,
    "start_time": "2023-10-19T21:15:24.856Z"
   },
   {
    "duration": 41,
    "start_time": "2023-10-19T21:15:24.872Z"
   },
   {
    "duration": 21,
    "start_time": "2023-10-19T21:15:24.915Z"
   },
   {
    "duration": 43,
    "start_time": "2023-10-19T21:15:24.938Z"
   },
   {
    "duration": 11,
    "start_time": "2023-10-19T21:15:24.983Z"
   },
   {
    "duration": 36,
    "start_time": "2023-10-19T21:15:24.995Z"
   },
   {
    "duration": 51,
    "start_time": "2023-10-19T21:15:25.032Z"
   },
   {
    "duration": 29,
    "start_time": "2023-10-19T21:15:25.084Z"
   },
   {
    "duration": 14,
    "start_time": "2023-10-19T21:15:25.115Z"
   },
   {
    "duration": 43,
    "start_time": "2023-10-19T21:15:25.132Z"
   },
   {
    "duration": 16,
    "start_time": "2023-10-19T21:15:25.178Z"
   },
   {
    "duration": 52,
    "start_time": "2023-10-19T21:15:25.196Z"
   },
   {
    "duration": 16,
    "start_time": "2023-10-19T21:15:25.250Z"
   },
   {
    "duration": 8,
    "start_time": "2023-10-19T21:15:25.268Z"
   },
   {
    "duration": 51,
    "start_time": "2023-10-19T21:15:25.277Z"
   },
   {
    "duration": 11,
    "start_time": "2023-10-19T21:15:25.330Z"
   },
   {
    "duration": 24,
    "start_time": "2023-10-19T21:15:25.343Z"
   },
   {
    "duration": 22,
    "start_time": "2023-10-19T21:15:25.369Z"
   },
   {
    "duration": 20,
    "start_time": "2023-10-19T21:15:25.392Z"
   },
   {
    "duration": 31,
    "start_time": "2023-10-19T21:15:25.413Z"
   },
   {
    "duration": 19,
    "start_time": "2023-10-19T21:15:25.446Z"
   },
   {
    "duration": 22,
    "start_time": "2023-10-19T21:15:25.467Z"
   },
   {
    "duration": 29,
    "start_time": "2023-10-19T21:15:25.490Z"
   },
   {
    "duration": 29,
    "start_time": "2023-10-19T21:15:25.521Z"
   },
   {
    "duration": 26,
    "start_time": "2023-10-19T21:15:25.551Z"
   },
   {
    "duration": 1682,
    "start_time": "2023-10-19T21:15:25.578Z"
   },
   {
    "duration": 1800,
    "start_time": "2023-10-19T21:15:27.262Z"
   },
   {
    "duration": 33827,
    "start_time": "2023-10-19T21:15:29.064Z"
   },
   {
    "duration": 2355,
    "start_time": "2023-10-19T21:16:02.893Z"
   },
   {
    "duration": 97,
    "start_time": "2023-10-19T21:16:05.251Z"
   },
   {
    "duration": 43,
    "start_time": "2023-10-19T21:16:05.350Z"
   },
   {
    "duration": 584,
    "start_time": "2023-10-19T21:16:05.395Z"
   },
   {
    "duration": 13969,
    "start_time": "2023-10-19T21:16:05.981Z"
   },
   {
    "duration": 2800,
    "start_time": "2023-10-19T21:16:19.952Z"
   },
   {
    "duration": 93,
    "start_time": "2023-10-19T21:16:22.754Z"
   },
   {
    "duration": 2068,
    "start_time": "2023-10-19T21:16:22.850Z"
   },
   {
    "duration": 8923,
    "start_time": "2023-10-19T21:16:24.922Z"
   },
   {
    "duration": 19700,
    "start_time": "2023-10-19T21:16:33.848Z"
   },
   {
    "duration": 102,
    "start_time": "2023-10-19T21:16:53.550Z"
   },
   {
    "duration": 149,
    "start_time": "2023-10-19T21:16:53.654Z"
   },
   {
    "duration": 175,
    "start_time": "2023-10-19T21:16:53.805Z"
   },
   {
    "duration": 154,
    "start_time": "2023-10-19T21:16:53.982Z"
   },
   {
    "duration": 102,
    "start_time": "2023-10-19T21:16:54.146Z"
   },
   {
    "duration": 239,
    "start_time": "2023-10-19T21:16:54.250Z"
   },
   {
    "duration": 132,
    "start_time": "2023-10-19T21:16:54.491Z"
   },
   {
    "duration": 19784,
    "start_time": "2023-10-19T21:20:41.065Z"
   },
   {
    "duration": 19894,
    "start_time": "2023-10-19T21:27:57.262Z"
   },
   {
    "duration": 208,
    "start_time": "2023-10-19T21:28:50.135Z"
   },
   {
    "duration": 19861,
    "start_time": "2023-10-19T21:29:29.887Z"
   },
   {
    "duration": 19868,
    "start_time": "2023-10-19T21:30:27.280Z"
   },
   {
    "duration": 100,
    "start_time": "2023-10-19T21:31:53.089Z"
   },
   {
    "duration": 2258,
    "start_time": "2023-10-19T21:32:05.492Z"
   },
   {
    "duration": 2327,
    "start_time": "2023-10-19T21:32:15.220Z"
   },
   {
    "duration": 2372,
    "start_time": "2023-10-19T21:33:21.178Z"
   },
   {
    "duration": 2264,
    "start_time": "2023-10-19T21:33:34.785Z"
   },
   {
    "duration": 2328,
    "start_time": "2023-10-19T21:33:43.922Z"
   },
   {
    "duration": 2406,
    "start_time": "2023-10-19T21:34:49.094Z"
   },
   {
    "duration": 1410,
    "start_time": "2023-10-19T21:34:51.503Z"
   },
   {
    "duration": 67,
    "start_time": "2023-10-19T21:34:52.914Z"
   },
   {
    "duration": 7,
    "start_time": "2023-10-19T21:34:52.983Z"
   },
   {
    "duration": 37,
    "start_time": "2023-10-19T21:34:52.992Z"
   },
   {
    "duration": 20,
    "start_time": "2023-10-19T21:34:53.031Z"
   },
   {
    "duration": 16,
    "start_time": "2023-10-19T21:34:53.053Z"
   },
   {
    "duration": 66,
    "start_time": "2023-10-19T21:34:53.071Z"
   },
   {
    "duration": 12,
    "start_time": "2023-10-19T21:34:53.139Z"
   },
   {
    "duration": 24,
    "start_time": "2023-10-19T21:34:53.152Z"
   },
   {
    "duration": 33,
    "start_time": "2023-10-19T21:34:53.177Z"
   },
   {
    "duration": 23,
    "start_time": "2023-10-19T21:34:53.212Z"
   },
   {
    "duration": 60,
    "start_time": "2023-10-19T21:34:53.236Z"
   },
   {
    "duration": 37,
    "start_time": "2023-10-19T21:34:53.299Z"
   },
   {
    "duration": 10,
    "start_time": "2023-10-19T21:34:53.337Z"
   },
   {
    "duration": 68,
    "start_time": "2023-10-19T21:34:53.348Z"
   },
   {
    "duration": 12,
    "start_time": "2023-10-19T21:34:53.418Z"
   },
   {
    "duration": 17,
    "start_time": "2023-10-19T21:34:53.432Z"
   },
   {
    "duration": 98,
    "start_time": "2023-10-19T21:34:53.450Z"
   },
   {
    "duration": 14,
    "start_time": "2023-10-19T21:34:53.550Z"
   },
   {
    "duration": 23,
    "start_time": "2023-10-19T21:34:53.566Z"
   },
   {
    "duration": 24,
    "start_time": "2023-10-19T21:34:53.590Z"
   },
   {
    "duration": 14,
    "start_time": "2023-10-19T21:34:53.615Z"
   },
   {
    "duration": 26,
    "start_time": "2023-10-19T21:34:53.630Z"
   },
   {
    "duration": 25,
    "start_time": "2023-10-19T21:34:53.658Z"
   },
   {
    "duration": 15,
    "start_time": "2023-10-19T21:34:53.685Z"
   },
   {
    "duration": 17,
    "start_time": "2023-10-19T21:34:53.702Z"
   },
   {
    "duration": 8,
    "start_time": "2023-10-19T21:34:53.721Z"
   },
   {
    "duration": 27,
    "start_time": "2023-10-19T21:34:53.731Z"
   },
   {
    "duration": 1731,
    "start_time": "2023-10-19T21:34:53.759Z"
   },
   {
    "duration": 1790,
    "start_time": "2023-10-19T21:34:55.492Z"
   },
   {
    "duration": 34906,
    "start_time": "2023-10-19T21:34:57.283Z"
   },
   {
    "duration": 2258,
    "start_time": "2023-10-19T21:35:32.191Z"
   },
   {
    "duration": 100,
    "start_time": "2023-10-19T21:35:34.451Z"
   },
   {
    "duration": 30,
    "start_time": "2023-10-19T21:35:34.554Z"
   },
   {
    "duration": 577,
    "start_time": "2023-10-19T21:35:34.586Z"
   },
   {
    "duration": 14019,
    "start_time": "2023-10-19T21:35:35.165Z"
   },
   {
    "duration": 2867,
    "start_time": "2023-10-19T21:35:49.186Z"
   },
   {
    "duration": 97,
    "start_time": "2023-10-19T21:35:52.056Z"
   },
   {
    "duration": 2117,
    "start_time": "2023-10-19T21:35:52.155Z"
   },
   {
    "duration": 8876,
    "start_time": "2023-10-19T21:35:54.276Z"
   },
   {
    "duration": 19815,
    "start_time": "2023-10-19T21:36:03.154Z"
   },
   {
    "duration": 104,
    "start_time": "2023-10-19T21:36:23.048Z"
   },
   {
    "duration": 152,
    "start_time": "2023-10-19T21:36:23.154Z"
   },
   {
    "duration": 174,
    "start_time": "2023-10-19T21:36:23.308Z"
   },
   {
    "duration": 150,
    "start_time": "2023-10-19T21:36:23.483Z"
   },
   {
    "duration": 117,
    "start_time": "2023-10-19T21:36:23.635Z"
   },
   {
    "duration": 232,
    "start_time": "2023-10-19T21:36:23.754Z"
   },
   {
    "duration": 144,
    "start_time": "2023-10-19T21:36:23.988Z"
   },
   {
    "duration": 19731,
    "start_time": "2023-10-19T21:40:10.918Z"
   },
   {
    "duration": 2432,
    "start_time": "2023-10-19T21:52:14.133Z"
   },
   {
    "duration": 1447,
    "start_time": "2023-10-19T21:52:16.567Z"
   },
   {
    "duration": 66,
    "start_time": "2023-10-19T21:52:18.016Z"
   },
   {
    "duration": 11,
    "start_time": "2023-10-19T21:52:18.084Z"
   },
   {
    "duration": 75,
    "start_time": "2023-10-19T21:52:18.097Z"
   },
   {
    "duration": 21,
    "start_time": "2023-10-19T21:52:18.173Z"
   },
   {
    "duration": 14,
    "start_time": "2023-10-19T21:52:18.196Z"
   },
   {
    "duration": 21,
    "start_time": "2023-10-19T21:52:18.211Z"
   },
   {
    "duration": 12,
    "start_time": "2023-10-19T21:52:18.234Z"
   },
   {
    "duration": 3,
    "start_time": "2023-10-19T21:52:18.249Z"
   },
   {
    "duration": 24,
    "start_time": "2023-10-19T21:52:18.254Z"
   },
   {
    "duration": 22,
    "start_time": "2023-10-19T21:52:18.280Z"
   },
   {
    "duration": 13,
    "start_time": "2023-10-19T21:52:18.303Z"
   },
   {
    "duration": 12,
    "start_time": "2023-10-19T21:52:18.317Z"
   },
   {
    "duration": 14,
    "start_time": "2023-10-19T21:52:18.331Z"
   },
   {
    "duration": 33,
    "start_time": "2023-10-19T21:52:18.346Z"
   },
   {
    "duration": 13,
    "start_time": "2023-10-19T21:52:18.381Z"
   },
   {
    "duration": 4,
    "start_time": "2023-10-19T21:52:18.396Z"
   },
   {
    "duration": 53,
    "start_time": "2023-10-19T21:52:18.401Z"
   },
   {
    "duration": 13,
    "start_time": "2023-10-19T21:52:18.455Z"
   },
   {
    "duration": 22,
    "start_time": "2023-10-19T21:52:18.470Z"
   },
   {
    "duration": 16,
    "start_time": "2023-10-19T21:52:18.494Z"
   },
   {
    "duration": 19,
    "start_time": "2023-10-19T21:52:18.511Z"
   },
   {
    "duration": 14,
    "start_time": "2023-10-19T21:52:18.531Z"
   },
   {
    "duration": 18,
    "start_time": "2023-10-19T21:52:18.547Z"
   },
   {
    "duration": 28,
    "start_time": "2023-10-19T21:52:18.567Z"
   },
   {
    "duration": 24,
    "start_time": "2023-10-19T21:52:18.596Z"
   },
   {
    "duration": 21,
    "start_time": "2023-10-19T21:52:18.623Z"
   },
   {
    "duration": 12,
    "start_time": "2023-10-19T21:52:18.645Z"
   },
   {
    "duration": 1728,
    "start_time": "2023-10-19T21:52:18.659Z"
   },
   {
    "duration": 1801,
    "start_time": "2023-10-19T21:52:20.389Z"
   },
   {
    "duration": 1937,
    "start_time": "2023-10-19T21:52:22.191Z"
   },
   {
    "duration": 36257,
    "start_time": "2023-10-19T21:52:24.130Z"
   },
   {
    "duration": 35054,
    "start_time": "2023-10-19T21:53:00.389Z"
   },
   {
    "duration": 2303,
    "start_time": "2023-10-19T21:53:35.447Z"
   },
   {
    "duration": 2396,
    "start_time": "2023-10-19T21:53:37.753Z"
   },
   {
    "duration": 98,
    "start_time": "2023-10-19T21:53:40.152Z"
   },
   {
    "duration": 17,
    "start_time": "2023-10-19T21:53:40.252Z"
   },
   {
    "duration": 562,
    "start_time": "2023-10-19T21:53:40.271Z"
   },
   {
    "duration": 14101,
    "start_time": "2023-10-19T21:53:40.834Z"
   },
   {
    "duration": 2916,
    "start_time": "2023-10-19T21:53:54.937Z"
   },
   {
    "duration": 93,
    "start_time": "2023-10-19T21:53:57.855Z"
   },
   {
    "duration": 2080,
    "start_time": "2023-10-19T21:53:57.951Z"
   },
   {
    "duration": 9071,
    "start_time": "2023-10-19T21:54:00.033Z"
   },
   {
    "duration": 19741,
    "start_time": "2023-10-19T21:54:09.106Z"
   },
   {
    "duration": 13,
    "start_time": "2023-10-19T21:54:28.849Z"
   },
   {
    "duration": 166,
    "start_time": "2023-10-19T21:54:28.864Z"
   },
   {
    "duration": 182,
    "start_time": "2023-10-19T21:54:29.032Z"
   },
   {
    "duration": 145,
    "start_time": "2023-10-19T21:54:29.216Z"
   },
   {
    "duration": 91,
    "start_time": "2023-10-19T21:54:29.362Z"
   },
   {
    "duration": 275,
    "start_time": "2023-10-19T21:54:29.455Z"
   },
   {
    "duration": 135,
    "start_time": "2023-10-19T21:54:29.732Z"
   },
   {
    "duration": 1973,
    "start_time": "2023-10-19T21:55:00.473Z"
   },
   {
    "duration": 2419,
    "start_time": "2023-10-19T21:56:48.807Z"
   },
   {
    "duration": 1566,
    "start_time": "2023-10-19T21:56:51.229Z"
   },
   {
    "duration": 67,
    "start_time": "2023-10-19T21:56:52.797Z"
   },
   {
    "duration": 7,
    "start_time": "2023-10-19T21:56:52.865Z"
   },
   {
    "duration": 43,
    "start_time": "2023-10-19T21:56:52.874Z"
   },
   {
    "duration": 17,
    "start_time": "2023-10-19T21:56:52.919Z"
   },
   {
    "duration": 13,
    "start_time": "2023-10-19T21:56:52.937Z"
   },
   {
    "duration": 31,
    "start_time": "2023-10-19T21:56:52.951Z"
   },
   {
    "duration": 14,
    "start_time": "2023-10-19T21:56:52.984Z"
   },
   {
    "duration": 15,
    "start_time": "2023-10-19T21:56:52.999Z"
   },
   {
    "duration": 27,
    "start_time": "2023-10-19T21:56:53.016Z"
   },
   {
    "duration": 13,
    "start_time": "2023-10-19T21:56:53.045Z"
   },
   {
    "duration": 11,
    "start_time": "2023-10-19T21:56:53.059Z"
   },
   {
    "duration": 26,
    "start_time": "2023-10-19T21:56:53.072Z"
   },
   {
    "duration": 6,
    "start_time": "2023-10-19T21:56:53.100Z"
   },
   {
    "duration": 37,
    "start_time": "2023-10-19T21:56:53.108Z"
   },
   {
    "duration": 12,
    "start_time": "2023-10-19T21:56:53.146Z"
   },
   {
    "duration": 28,
    "start_time": "2023-10-19T21:56:53.160Z"
   },
   {
    "duration": 58,
    "start_time": "2023-10-19T21:56:53.190Z"
   },
   {
    "duration": 11,
    "start_time": "2023-10-19T21:56:53.250Z"
   },
   {
    "duration": 25,
    "start_time": "2023-10-19T21:56:53.262Z"
   },
   {
    "duration": 16,
    "start_time": "2023-10-19T21:56:53.289Z"
   },
   {
    "duration": 14,
    "start_time": "2023-10-19T21:56:53.306Z"
   },
   {
    "duration": 18,
    "start_time": "2023-10-19T21:56:53.322Z"
   },
   {
    "duration": 19,
    "start_time": "2023-10-19T21:56:53.342Z"
   },
   {
    "duration": 10,
    "start_time": "2023-10-19T21:56:53.363Z"
   },
   {
    "duration": 8,
    "start_time": "2023-10-19T21:56:53.374Z"
   },
   {
    "duration": 18,
    "start_time": "2023-10-19T21:56:53.383Z"
   },
   {
    "duration": 16,
    "start_time": "2023-10-19T21:56:53.403Z"
   },
   {
    "duration": 1683,
    "start_time": "2023-10-19T21:56:53.421Z"
   },
   {
    "duration": 973,
    "start_time": "2023-10-19T21:56:55.107Z"
   },
   {
    "duration": 781,
    "start_time": "2023-10-19T21:56:56.081Z"
   },
   {
    "duration": 6830,
    "start_time": "2023-10-19T21:56:56.864Z"
   },
   {
    "duration": 8,
    "start_time": "2023-10-19T21:57:03.748Z"
   },
   {
    "duration": 0,
    "start_time": "2023-10-19T21:57:03.758Z"
   },
   {
    "duration": 0,
    "start_time": "2023-10-19T21:57:03.760Z"
   },
   {
    "duration": 0,
    "start_time": "2023-10-19T21:57:03.761Z"
   },
   {
    "duration": 0,
    "start_time": "2023-10-19T21:57:03.762Z"
   },
   {
    "duration": 0,
    "start_time": "2023-10-19T21:57:03.763Z"
   },
   {
    "duration": 0,
    "start_time": "2023-10-19T21:57:03.764Z"
   },
   {
    "duration": 0,
    "start_time": "2023-10-19T21:57:03.766Z"
   },
   {
    "duration": 0,
    "start_time": "2023-10-19T21:57:03.767Z"
   },
   {
    "duration": 0,
    "start_time": "2023-10-19T21:57:03.768Z"
   },
   {
    "duration": 0,
    "start_time": "2023-10-19T21:57:03.769Z"
   },
   {
    "duration": 1,
    "start_time": "2023-10-19T21:57:03.770Z"
   },
   {
    "duration": 0,
    "start_time": "2023-10-19T21:57:03.771Z"
   },
   {
    "duration": 0,
    "start_time": "2023-10-19T21:57:03.773Z"
   },
   {
    "duration": 0,
    "start_time": "2023-10-19T21:57:03.774Z"
   },
   {
    "duration": 0,
    "start_time": "2023-10-19T21:57:03.775Z"
   },
   {
    "duration": 0,
    "start_time": "2023-10-19T21:57:03.776Z"
   },
   {
    "duration": 0,
    "start_time": "2023-10-19T21:57:03.777Z"
   },
   {
    "duration": 0,
    "start_time": "2023-10-19T21:57:03.778Z"
   },
   {
    "duration": 7224,
    "start_time": "2023-10-19T21:57:27.680Z"
   },
   {
    "duration": 2404,
    "start_time": "2023-10-19T21:57:44.984Z"
   },
   {
    "duration": 1487,
    "start_time": "2023-10-19T21:57:47.390Z"
   },
   {
    "duration": 68,
    "start_time": "2023-10-19T21:57:48.879Z"
   },
   {
    "duration": 7,
    "start_time": "2023-10-19T21:57:48.949Z"
   },
   {
    "duration": 9,
    "start_time": "2023-10-19T21:57:48.958Z"
   },
   {
    "duration": 43,
    "start_time": "2023-10-19T21:57:48.969Z"
   },
   {
    "duration": 14,
    "start_time": "2023-10-19T21:57:49.016Z"
   },
   {
    "duration": 28,
    "start_time": "2023-10-19T21:57:49.032Z"
   },
   {
    "duration": 27,
    "start_time": "2023-10-19T21:57:49.063Z"
   },
   {
    "duration": 17,
    "start_time": "2023-10-19T21:57:49.092Z"
   },
   {
    "duration": 42,
    "start_time": "2023-10-19T21:57:49.110Z"
   },
   {
    "duration": 39,
    "start_time": "2023-10-19T21:57:49.153Z"
   },
   {
    "duration": 19,
    "start_time": "2023-10-19T21:57:49.194Z"
   },
   {
    "duration": 28,
    "start_time": "2023-10-19T21:57:49.216Z"
   },
   {
    "duration": 7,
    "start_time": "2023-10-19T21:57:49.245Z"
   },
   {
    "duration": 30,
    "start_time": "2023-10-19T21:57:49.254Z"
   },
   {
    "duration": 12,
    "start_time": "2023-10-19T21:57:49.286Z"
   },
   {
    "duration": 4,
    "start_time": "2023-10-19T21:57:49.300Z"
   },
   {
    "duration": 49,
    "start_time": "2023-10-19T21:57:49.306Z"
   },
   {
    "duration": 13,
    "start_time": "2023-10-19T21:57:49.357Z"
   },
   {
    "duration": 13,
    "start_time": "2023-10-19T21:57:49.371Z"
   },
   {
    "duration": 10,
    "start_time": "2023-10-19T21:57:49.385Z"
   },
   {
    "duration": 6,
    "start_time": "2023-10-19T21:57:49.397Z"
   },
   {
    "duration": 42,
    "start_time": "2023-10-19T21:57:49.405Z"
   },
   {
    "duration": 9,
    "start_time": "2023-10-19T21:57:49.448Z"
   },
   {
    "duration": 13,
    "start_time": "2023-10-19T21:57:49.459Z"
   },
   {
    "duration": 4,
    "start_time": "2023-10-19T21:57:49.473Z"
   },
   {
    "duration": 6,
    "start_time": "2023-10-19T21:57:49.478Z"
   },
   {
    "duration": 7,
    "start_time": "2023-10-19T21:57:49.485Z"
   },
   {
    "duration": 1694,
    "start_time": "2023-10-19T21:57:49.493Z"
   },
   {
    "duration": 515,
    "start_time": "2023-10-19T21:57:51.189Z"
   },
   {
    "duration": 365,
    "start_time": "2023-10-19T21:57:51.706Z"
   },
   {
    "duration": 5867,
    "start_time": "2023-10-19T21:57:52.073Z"
   },
   {
    "duration": 7230,
    "start_time": "2023-10-19T21:57:57.941Z"
   },
   {
    "duration": 2178,
    "start_time": "2023-10-19T21:58:05.174Z"
   },
   {
    "duration": 1993,
    "start_time": "2023-10-19T21:58:07.356Z"
   },
   {
    "duration": 95,
    "start_time": "2023-10-19T21:58:09.353Z"
   },
   {
    "duration": 44,
    "start_time": "2023-10-19T21:58:09.450Z"
   },
   {
    "duration": 557,
    "start_time": "2023-10-19T21:58:09.496Z"
   },
   {
    "duration": 14902,
    "start_time": "2023-10-19T21:58:10.055Z"
   },
   {
    "duration": 2987,
    "start_time": "2023-10-19T21:58:24.961Z"
   },
   {
    "duration": 96,
    "start_time": "2023-10-19T21:58:27.951Z"
   },
   {
    "duration": 2050,
    "start_time": "2023-10-19T21:58:28.049Z"
   },
   {
    "duration": 8890,
    "start_time": "2023-10-19T21:58:30.101Z"
   },
   {
    "duration": 20154,
    "start_time": "2023-10-19T21:58:38.993Z"
   },
   {
    "duration": 105,
    "start_time": "2023-10-19T21:58:59.150Z"
   },
   {
    "duration": 152,
    "start_time": "2023-10-19T21:58:59.257Z"
   },
   {
    "duration": 177,
    "start_time": "2023-10-19T21:58:59.410Z"
   },
   {
    "duration": 142,
    "start_time": "2023-10-19T21:58:59.589Z"
   },
   {
    "duration": 116,
    "start_time": "2023-10-19T21:58:59.733Z"
   },
   {
    "duration": 239,
    "start_time": "2023-10-19T21:58:59.851Z"
   },
   {
    "duration": 143,
    "start_time": "2023-10-19T21:59:00.092Z"
   },
   {
    "duration": 2434,
    "start_time": "2023-10-19T22:06:19.232Z"
   },
   {
    "duration": 1454,
    "start_time": "2023-10-19T22:06:21.669Z"
   },
   {
    "duration": 66,
    "start_time": "2023-10-19T22:06:23.125Z"
   },
   {
    "duration": 7,
    "start_time": "2023-10-19T22:06:23.192Z"
   },
   {
    "duration": 133,
    "start_time": "2023-10-19T22:06:23.202Z"
   },
   {
    "duration": 20,
    "start_time": "2023-10-19T22:06:23.337Z"
   },
   {
    "duration": 7,
    "start_time": "2023-10-19T22:06:23.359Z"
   },
   {
    "duration": 19,
    "start_time": "2023-10-19T22:06:23.368Z"
   },
   {
    "duration": 8,
    "start_time": "2023-10-19T22:06:23.390Z"
   },
   {
    "duration": 8,
    "start_time": "2023-10-19T22:06:23.399Z"
   },
   {
    "duration": 28,
    "start_time": "2023-10-19T22:06:23.409Z"
   },
   {
    "duration": 7,
    "start_time": "2023-10-19T22:06:23.447Z"
   },
   {
    "duration": 36,
    "start_time": "2023-10-19T22:06:23.456Z"
   },
   {
    "duration": 8,
    "start_time": "2023-10-19T22:06:23.495Z"
   },
   {
    "duration": 13,
    "start_time": "2023-10-19T22:06:23.505Z"
   },
   {
    "duration": 43,
    "start_time": "2023-10-19T22:06:23.519Z"
   },
   {
    "duration": 11,
    "start_time": "2023-10-19T22:06:23.564Z"
   },
   {
    "duration": 32,
    "start_time": "2023-10-19T22:06:23.577Z"
   },
   {
    "duration": 50,
    "start_time": "2023-10-19T22:06:23.611Z"
   },
   {
    "duration": 11,
    "start_time": "2023-10-19T22:06:23.663Z"
   },
   {
    "duration": 36,
    "start_time": "2023-10-19T22:06:23.676Z"
   },
   {
    "duration": 31,
    "start_time": "2023-10-19T22:06:23.713Z"
   },
   {
    "duration": 6,
    "start_time": "2023-10-19T22:06:23.746Z"
   },
   {
    "duration": 117,
    "start_time": "2023-10-19T22:06:23.754Z"
   },
   {
    "duration": 22,
    "start_time": "2023-10-19T22:06:23.873Z"
   },
   {
    "duration": 8,
    "start_time": "2023-10-19T22:06:23.896Z"
   },
   {
    "duration": 11,
    "start_time": "2023-10-19T22:06:23.905Z"
   },
   {
    "duration": 12,
    "start_time": "2023-10-19T22:06:23.918Z"
   },
   {
    "duration": 7,
    "start_time": "2023-10-19T22:06:23.932Z"
   },
   {
    "duration": 1772,
    "start_time": "2023-10-19T22:06:23.941Z"
   },
   {
    "duration": 508,
    "start_time": "2023-10-19T22:06:25.715Z"
   },
   {
    "duration": 357,
    "start_time": "2023-10-19T22:06:26.224Z"
   },
   {
    "duration": 5845,
    "start_time": "2023-10-19T22:06:26.583Z"
   },
   {
    "duration": 7313,
    "start_time": "2023-10-19T22:06:32.430Z"
   },
   {
    "duration": 2304,
    "start_time": "2023-10-19T22:06:39.746Z"
   },
   {
    "duration": 1993,
    "start_time": "2023-10-19T22:06:42.056Z"
   },
   {
    "duration": 99,
    "start_time": "2023-10-19T22:06:44.052Z"
   },
   {
    "duration": 22,
    "start_time": "2023-10-19T22:06:44.153Z"
   },
   {
    "duration": 551,
    "start_time": "2023-10-19T22:06:44.177Z"
   },
   {
    "duration": 13964,
    "start_time": "2023-10-19T22:06:44.730Z"
   },
   {
    "duration": 2955,
    "start_time": "2023-10-19T22:06:58.698Z"
   },
   {
    "duration": 93,
    "start_time": "2023-10-19T22:07:01.656Z"
   },
   {
    "duration": 2107,
    "start_time": "2023-10-19T22:07:01.751Z"
   },
   {
    "duration": 8838,
    "start_time": "2023-10-19T22:07:03.860Z"
   },
   {
    "duration": 19946,
    "start_time": "2023-10-19T22:07:12.701Z"
   },
   {
    "duration": 105,
    "start_time": "2023-10-19T22:07:32.650Z"
   },
   {
    "duration": 153,
    "start_time": "2023-10-19T22:07:32.757Z"
   },
   {
    "duration": 176,
    "start_time": "2023-10-19T22:07:32.912Z"
   },
   {
    "duration": 147,
    "start_time": "2023-10-19T22:07:33.090Z"
   },
   {
    "duration": 16,
    "start_time": "2023-10-19T22:07:33.247Z"
   },
   {
    "duration": 253,
    "start_time": "2023-10-19T22:07:33.353Z"
   },
   {
    "duration": 140,
    "start_time": "2023-10-19T22:07:33.608Z"
   },
   {
    "duration": 62,
    "start_time": "2023-10-20T10:31:26.233Z"
   },
   {
    "duration": 5119,
    "start_time": "2023-10-20T10:31:42.290Z"
   },
   {
    "duration": 1805,
    "start_time": "2023-10-20T10:31:47.412Z"
   },
   {
    "duration": 110,
    "start_time": "2023-10-20T10:31:49.218Z"
   },
   {
    "duration": 8,
    "start_time": "2023-10-20T10:31:49.329Z"
   },
   {
    "duration": 5,
    "start_time": "2023-10-20T10:31:49.340Z"
   },
   {
    "duration": 21,
    "start_time": "2023-10-20T10:31:49.348Z"
   },
   {
    "duration": 5,
    "start_time": "2023-10-20T10:31:49.371Z"
   },
   {
    "duration": 15,
    "start_time": "2023-10-20T10:31:49.377Z"
   },
   {
    "duration": 9,
    "start_time": "2023-10-20T10:31:49.394Z"
   },
   {
    "duration": 4,
    "start_time": "2023-10-20T10:31:49.404Z"
   },
   {
    "duration": 26,
    "start_time": "2023-10-20T10:31:49.452Z"
   },
   {
    "duration": 9,
    "start_time": "2023-10-20T10:31:49.480Z"
   },
   {
    "duration": 6,
    "start_time": "2023-10-20T10:31:49.491Z"
   },
   {
    "duration": 8,
    "start_time": "2023-10-20T10:31:49.500Z"
   },
   {
    "duration": 15,
    "start_time": "2023-10-20T10:31:49.510Z"
   },
   {
    "duration": 48,
    "start_time": "2023-10-20T10:31:49.527Z"
   },
   {
    "duration": 13,
    "start_time": "2023-10-20T10:31:49.577Z"
   },
   {
    "duration": 5,
    "start_time": "2023-10-20T10:31:49.591Z"
   },
   {
    "duration": 64,
    "start_time": "2023-10-20T10:31:49.598Z"
   },
   {
    "duration": 16,
    "start_time": "2023-10-20T10:31:49.664Z"
   },
   {
    "duration": 13,
    "start_time": "2023-10-20T10:31:49.681Z"
   },
   {
    "duration": 15,
    "start_time": "2023-10-20T10:31:49.696Z"
   },
   {
    "duration": 7,
    "start_time": "2023-10-20T10:31:49.712Z"
   },
   {
    "duration": 14,
    "start_time": "2023-10-20T10:31:49.746Z"
   },
   {
    "duration": 9,
    "start_time": "2023-10-20T10:31:49.763Z"
   },
   {
    "duration": 10,
    "start_time": "2023-10-20T10:31:49.774Z"
   },
   {
    "duration": 10,
    "start_time": "2023-10-20T10:31:49.785Z"
   },
   {
    "duration": 11,
    "start_time": "2023-10-20T10:31:49.797Z"
   },
   {
    "duration": 6,
    "start_time": "2023-10-20T10:31:49.810Z"
   },
   {
    "duration": 1943,
    "start_time": "2023-10-20T10:31:49.818Z"
   },
   {
    "duration": 530,
    "start_time": "2023-10-20T10:31:51.765Z"
   },
   {
    "duration": 6534,
    "start_time": "2023-10-20T10:31:52.297Z"
   },
   {
    "duration": 1817,
    "start_time": "2023-10-20T10:31:58.833Z"
   },
   {
    "duration": 5,
    "start_time": "2023-10-20T10:32:15.507Z"
   },
   {
    "duration": 6,
    "start_time": "2023-10-20T10:32:55.096Z"
   },
   {
    "duration": 2689,
    "start_time": "2023-10-20T10:36:14.339Z"
   },
   {
    "duration": 5,
    "start_time": "2023-10-20T10:36:17.030Z"
   },
   {
    "duration": 82,
    "start_time": "2023-10-20T10:36:17.037Z"
   },
   {
    "duration": 9,
    "start_time": "2023-10-20T10:36:17.121Z"
   },
   {
    "duration": 19,
    "start_time": "2023-10-20T10:36:17.132Z"
   },
   {
    "duration": 17,
    "start_time": "2023-10-20T10:36:17.153Z"
   },
   {
    "duration": 4,
    "start_time": "2023-10-20T10:36:17.172Z"
   },
   {
    "duration": 16,
    "start_time": "2023-10-20T10:36:17.177Z"
   },
   {
    "duration": 13,
    "start_time": "2023-10-20T10:36:17.195Z"
   },
   {
    "duration": 11,
    "start_time": "2023-10-20T10:36:17.210Z"
   },
   {
    "duration": 57,
    "start_time": "2023-10-20T10:36:17.223Z"
   },
   {
    "duration": 7,
    "start_time": "2023-10-20T10:36:17.282Z"
   },
   {
    "duration": 12,
    "start_time": "2023-10-20T10:36:17.291Z"
   },
   {
    "duration": 14,
    "start_time": "2023-10-20T10:36:17.306Z"
   },
   {
    "duration": 7,
    "start_time": "2023-10-20T10:36:17.322Z"
   },
   {
    "duration": 57,
    "start_time": "2023-10-20T10:36:17.331Z"
   },
   {
    "duration": 13,
    "start_time": "2023-10-20T10:36:17.390Z"
   },
   {
    "duration": 3,
    "start_time": "2023-10-20T10:36:17.405Z"
   },
   {
    "duration": 38,
    "start_time": "2023-10-20T10:36:17.409Z"
   },
   {
    "duration": 49,
    "start_time": "2023-10-20T10:36:17.451Z"
   },
   {
    "duration": 27,
    "start_time": "2023-10-20T10:36:17.502Z"
   },
   {
    "duration": 32,
    "start_time": "2023-10-20T10:36:17.530Z"
   },
   {
    "duration": 26,
    "start_time": "2023-10-20T10:36:17.565Z"
   },
   {
    "duration": 31,
    "start_time": "2023-10-20T10:36:17.593Z"
   },
   {
    "duration": 22,
    "start_time": "2023-10-20T10:36:17.625Z"
   },
   {
    "duration": 21,
    "start_time": "2023-10-20T10:36:17.648Z"
   },
   {
    "duration": 9,
    "start_time": "2023-10-20T10:36:17.671Z"
   },
   {
    "duration": 16,
    "start_time": "2023-10-20T10:36:17.682Z"
   },
   {
    "duration": 21,
    "start_time": "2023-10-20T10:36:17.699Z"
   },
   {
    "duration": 1997,
    "start_time": "2023-10-20T10:36:17.721Z"
   },
   {
    "duration": 567,
    "start_time": "2023-10-20T10:36:19.719Z"
   },
   {
    "duration": 6373,
    "start_time": "2023-10-20T10:36:20.288Z"
   },
   {
    "duration": 1795,
    "start_time": "2023-10-20T10:36:26.663Z"
   },
   {
    "duration": 85,
    "start_time": "2023-10-20T10:36:28.463Z"
   },
   {
    "duration": 482,
    "start_time": "2023-10-20T10:36:28.551Z"
   },
   {
    "duration": 7779,
    "start_time": "2023-10-20T10:36:29.035Z"
   },
   {
    "duration": 1749,
    "start_time": "2023-10-20T10:36:36.816Z"
   },
   {
    "duration": 84,
    "start_time": "2023-10-20T10:36:38.567Z"
   },
   {
    "duration": 119,
    "start_time": "2023-10-20T10:36:54.491Z"
   },
   {
    "duration": 4,
    "start_time": "2023-10-20T10:37:13.840Z"
   },
   {
    "duration": 571,
    "start_time": "2023-10-20T10:37:16.307Z"
   },
   {
    "duration": 201,
    "start_time": "2023-10-20T10:39:10.004Z"
   },
   {
    "duration": 87,
    "start_time": "2023-10-20T10:40:02.782Z"
   },
   {
    "duration": 84,
    "start_time": "2023-10-20T10:40:28.047Z"
   },
   {
    "duration": 113,
    "start_time": "2023-10-20T10:41:06.468Z"
   },
   {
    "duration": 6,
    "start_time": "2023-10-20T10:41:32.666Z"
   },
   {
    "duration": 6,
    "start_time": "2023-10-20T10:41:41.580Z"
   },
   {
    "duration": 46,
    "start_time": "2023-10-20T10:45:13.484Z"
   },
   {
    "duration": 2563,
    "start_time": "2023-10-20T10:45:21.166Z"
   },
   {
    "duration": 4,
    "start_time": "2023-10-20T10:45:23.732Z"
   },
   {
    "duration": 107,
    "start_time": "2023-10-20T10:45:23.738Z"
   },
   {
    "duration": 13,
    "start_time": "2023-10-20T10:45:23.847Z"
   },
   {
    "duration": 35,
    "start_time": "2023-10-20T10:45:23.863Z"
   },
   {
    "duration": 19,
    "start_time": "2023-10-20T10:45:23.900Z"
   },
   {
    "duration": 10,
    "start_time": "2023-10-20T10:45:23.921Z"
   },
   {
    "duration": 22,
    "start_time": "2023-10-20T10:45:23.933Z"
   },
   {
    "duration": 11,
    "start_time": "2023-10-20T10:45:23.957Z"
   },
   {
    "duration": 3,
    "start_time": "2023-10-20T10:45:23.971Z"
   },
   {
    "duration": 28,
    "start_time": "2023-10-20T10:45:23.976Z"
   },
   {
    "duration": 11,
    "start_time": "2023-10-20T10:45:24.005Z"
   },
   {
    "duration": 23,
    "start_time": "2023-10-20T10:45:24.018Z"
   },
   {
    "duration": 15,
    "start_time": "2023-10-20T10:45:24.043Z"
   },
   {
    "duration": 12,
    "start_time": "2023-10-20T10:45:24.060Z"
   },
   {
    "duration": 43,
    "start_time": "2023-10-20T10:45:24.074Z"
   },
   {
    "duration": 13,
    "start_time": "2023-10-20T10:45:24.120Z"
   },
   {
    "duration": 6,
    "start_time": "2023-10-20T10:45:24.135Z"
   },
   {
    "duration": 124,
    "start_time": "2023-10-20T10:45:24.164Z"
   },
   {
    "duration": 92,
    "start_time": "2023-10-20T10:45:24.290Z"
   },
   {
    "duration": 59,
    "start_time": "2023-10-20T10:45:24.384Z"
   },
   {
    "duration": 17,
    "start_time": "2023-10-20T10:45:24.445Z"
   },
   {
    "duration": 6,
    "start_time": "2023-10-20T10:45:24.465Z"
   },
   {
    "duration": 21,
    "start_time": "2023-10-20T10:45:24.473Z"
   },
   {
    "duration": 9,
    "start_time": "2023-10-20T10:45:24.497Z"
   },
   {
    "duration": 19,
    "start_time": "2023-10-20T10:45:24.507Z"
   },
   {
    "duration": 21,
    "start_time": "2023-10-20T10:45:24.528Z"
   },
   {
    "duration": 16,
    "start_time": "2023-10-20T10:45:24.555Z"
   },
   {
    "duration": 11,
    "start_time": "2023-10-20T10:45:24.573Z"
   },
   {
    "duration": 1974,
    "start_time": "2023-10-20T10:45:24.586Z"
   },
   {
    "duration": 524,
    "start_time": "2023-10-20T10:45:26.565Z"
   },
   {
    "duration": 6345,
    "start_time": "2023-10-20T10:45:27.091Z"
   },
   {
    "duration": 1832,
    "start_time": "2023-10-20T10:45:33.438Z"
   },
   {
    "duration": 81,
    "start_time": "2023-10-20T10:45:35.273Z"
   },
   {
    "duration": 104,
    "start_time": "2023-10-20T10:45:35.357Z"
   },
   {
    "duration": 430,
    "start_time": "2023-10-20T10:45:35.464Z"
   },
   {
    "duration": 7874,
    "start_time": "2023-10-20T10:45:35.896Z"
   },
   {
    "duration": 1679,
    "start_time": "2023-10-20T10:45:43.772Z"
   },
   {
    "duration": 85,
    "start_time": "2023-10-20T10:45:45.466Z"
   },
   {
    "duration": 50,
    "start_time": "2023-10-20T10:45:45.554Z"
   },
   {
    "duration": 626,
    "start_time": "2023-10-20T10:45:45.606Z"
   },
   {
    "duration": 46,
    "start_time": "2023-10-20T10:45:49.853Z"
   },
   {
    "duration": 50,
    "start_time": "2023-10-20T10:46:20.043Z"
   },
   {
    "duration": 6,
    "start_time": "2023-10-20T10:46:51.379Z"
   },
   {
    "duration": 6,
    "start_time": "2023-10-20T10:47:18.116Z"
   },
   {
    "duration": 2707,
    "start_time": "2023-10-20T10:47:46.124Z"
   },
   {
    "duration": 5,
    "start_time": "2023-10-20T10:47:48.834Z"
   },
   {
    "duration": 109,
    "start_time": "2023-10-20T10:47:48.841Z"
   },
   {
    "duration": 11,
    "start_time": "2023-10-20T10:47:48.953Z"
   },
   {
    "duration": 6,
    "start_time": "2023-10-20T10:47:48.967Z"
   },
   {
    "duration": 24,
    "start_time": "2023-10-20T10:47:48.975Z"
   },
   {
    "duration": 5,
    "start_time": "2023-10-20T10:47:49.001Z"
   },
   {
    "duration": 44,
    "start_time": "2023-10-20T10:47:49.009Z"
   },
   {
    "duration": 15,
    "start_time": "2023-10-20T10:47:49.058Z"
   },
   {
    "duration": 7,
    "start_time": "2023-10-20T10:47:49.075Z"
   },
   {
    "duration": 25,
    "start_time": "2023-10-20T10:47:49.083Z"
   },
   {
    "duration": 16,
    "start_time": "2023-10-20T10:47:49.110Z"
   },
   {
    "duration": 7,
    "start_time": "2023-10-20T10:47:49.146Z"
   },
   {
    "duration": 3,
    "start_time": "2023-10-20T10:47:49.158Z"
   },
   {
    "duration": 10,
    "start_time": "2023-10-20T10:47:49.163Z"
   },
   {
    "duration": 33,
    "start_time": "2023-10-20T10:47:49.175Z"
   },
   {
    "duration": 14,
    "start_time": "2023-10-20T10:47:49.210Z"
   },
   {
    "duration": 25,
    "start_time": "2023-10-20T10:47:49.226Z"
   },
   {
    "duration": 48,
    "start_time": "2023-10-20T10:47:49.254Z"
   },
   {
    "duration": 13,
    "start_time": "2023-10-20T10:47:49.304Z"
   },
   {
    "duration": 28,
    "start_time": "2023-10-20T10:47:49.319Z"
   },
   {
    "duration": 21,
    "start_time": "2023-10-20T10:47:49.349Z"
   },
   {
    "duration": 8,
    "start_time": "2023-10-20T10:47:49.372Z"
   },
   {
    "duration": 16,
    "start_time": "2023-10-20T10:47:49.382Z"
   },
   {
    "duration": 8,
    "start_time": "2023-10-20T10:47:49.400Z"
   },
   {
    "duration": 29,
    "start_time": "2023-10-20T10:47:49.410Z"
   },
   {
    "duration": 9,
    "start_time": "2023-10-20T10:47:49.440Z"
   },
   {
    "duration": 16,
    "start_time": "2023-10-20T10:47:49.451Z"
   },
   {
    "duration": 22,
    "start_time": "2023-10-20T10:47:49.469Z"
   },
   {
    "duration": 1919,
    "start_time": "2023-10-20T10:47:49.493Z"
   },
   {
    "duration": 545,
    "start_time": "2023-10-20T10:47:51.414Z"
   },
   {
    "duration": 6570,
    "start_time": "2023-10-20T10:47:51.961Z"
   },
   {
    "duration": 1735,
    "start_time": "2023-10-20T10:47:58.533Z"
   },
   {
    "duration": 86,
    "start_time": "2023-10-20T10:48:00.272Z"
   },
   {
    "duration": 91,
    "start_time": "2023-10-20T10:48:26.499Z"
   },
   {
    "duration": 7,
    "start_time": "2023-10-20T10:48:29.154Z"
   },
   {
    "duration": 7,
    "start_time": "2023-10-20T10:48:48.678Z"
   },
   {
    "duration": 363,
    "start_time": "2023-10-20T10:48:54.269Z"
   },
   {
    "duration": 7693,
    "start_time": "2023-10-20T10:48:55.213Z"
   },
   {
    "duration": 1831,
    "start_time": "2023-10-20T10:49:02.922Z"
   },
   {
    "duration": 93,
    "start_time": "2023-10-20T10:49:04.756Z"
   },
   {
    "duration": 4,
    "start_time": "2023-10-20T10:49:08.397Z"
   },
   {
    "duration": 589,
    "start_time": "2023-10-20T10:49:09.341Z"
   },
   {
    "duration": 41,
    "start_time": "2023-10-20T10:57:21.321Z"
   },
   {
    "duration": 15283,
    "start_time": "2023-10-20T10:59:20.513Z"
   },
   {
    "duration": 12098,
    "start_time": "2023-10-20T11:01:03.979Z"
   },
   {
    "duration": 861,
    "start_time": "2023-10-20T11:01:26.043Z"
   },
   {
    "duration": 114,
    "start_time": "2023-10-20T11:04:58.540Z"
   },
   {
    "duration": 2944,
    "start_time": "2023-10-20T11:05:02.904Z"
   },
   {
    "duration": 126,
    "start_time": "2023-10-20T11:05:09.822Z"
   },
   {
    "duration": 5,
    "start_time": "2023-10-20T11:13:26.360Z"
   },
   {
    "duration": 2100,
    "start_time": "2023-10-20T11:13:27.433Z"
   },
   {
    "duration": 28,
    "start_time": "2023-10-20T11:14:23.253Z"
   },
   {
    "duration": 33,
    "start_time": "2023-10-20T11:15:26.070Z"
   },
   {
    "duration": 9220,
    "start_time": "2023-10-20T11:15:28.053Z"
   },
   {
    "duration": 867,
    "start_time": "2023-10-20T11:16:11.555Z"
   },
   {
    "duration": 20189,
    "start_time": "2023-10-20T11:17:32.657Z"
   },
   {
    "duration": 42,
    "start_time": "2023-10-20T11:18:44.312Z"
   },
   {
    "duration": 112,
    "start_time": "2023-10-20T11:18:53.147Z"
   },
   {
    "duration": 2458,
    "start_time": "2023-10-20T11:24:15.362Z"
   },
   {
    "duration": 1593,
    "start_time": "2023-10-20T11:24:17.823Z"
   },
   {
    "duration": 68,
    "start_time": "2023-10-20T11:24:19.418Z"
   },
   {
    "duration": 6,
    "start_time": "2023-10-20T11:24:19.488Z"
   },
   {
    "duration": 16,
    "start_time": "2023-10-20T11:24:19.496Z"
   },
   {
    "duration": 22,
    "start_time": "2023-10-20T11:24:19.514Z"
   },
   {
    "duration": 9,
    "start_time": "2023-10-20T11:24:19.538Z"
   },
   {
    "duration": 14,
    "start_time": "2023-10-20T11:24:19.549Z"
   },
   {
    "duration": 8,
    "start_time": "2023-10-20T11:24:19.564Z"
   },
   {
    "duration": 12,
    "start_time": "2023-10-20T11:24:19.574Z"
   },
   {
    "duration": 22,
    "start_time": "2023-10-20T11:24:19.587Z"
   },
   {
    "duration": 8,
    "start_time": "2023-10-20T11:24:19.611Z"
   },
   {
    "duration": 6,
    "start_time": "2023-10-20T11:24:19.647Z"
   },
   {
    "duration": 11,
    "start_time": "2023-10-20T11:24:19.655Z"
   },
   {
    "duration": 6,
    "start_time": "2023-10-20T11:24:19.667Z"
   },
   {
    "duration": 35,
    "start_time": "2023-10-20T11:24:19.675Z"
   },
   {
    "duration": 13,
    "start_time": "2023-10-20T11:24:19.711Z"
   },
   {
    "duration": 23,
    "start_time": "2023-10-20T11:24:19.726Z"
   },
   {
    "duration": 41,
    "start_time": "2023-10-20T11:24:19.751Z"
   },
   {
    "duration": 16,
    "start_time": "2023-10-20T11:24:19.794Z"
   },
   {
    "duration": 41,
    "start_time": "2023-10-20T11:24:19.812Z"
   },
   {
    "duration": 28,
    "start_time": "2023-10-20T11:24:19.854Z"
   },
   {
    "duration": 16,
    "start_time": "2023-10-20T11:24:19.884Z"
   },
   {
    "duration": 26,
    "start_time": "2023-10-20T11:24:19.902Z"
   },
   {
    "duration": 10,
    "start_time": "2023-10-20T11:24:19.930Z"
   },
   {
    "duration": 10,
    "start_time": "2023-10-20T11:24:19.941Z"
   },
   {
    "duration": 3,
    "start_time": "2023-10-20T11:24:19.953Z"
   },
   {
    "duration": 4,
    "start_time": "2023-10-20T11:24:19.960Z"
   },
   {
    "duration": 5,
    "start_time": "2023-10-20T11:24:19.966Z"
   },
   {
    "duration": 1845,
    "start_time": "2023-10-20T11:24:19.973Z"
   },
   {
    "duration": 505,
    "start_time": "2023-10-20T11:24:21.820Z"
   },
   {
    "duration": 6038,
    "start_time": "2023-10-20T11:24:22.327Z"
   },
   {
    "duration": 2487,
    "start_time": "2023-10-20T11:24:28.366Z"
   },
   {
    "duration": 7,
    "start_time": "2023-10-20T11:24:30.856Z"
   },
   {
    "duration": 25,
    "start_time": "2023-10-20T11:24:30.948Z"
   },
   {
    "duration": 435,
    "start_time": "2023-10-20T11:24:30.974Z"
   },
   {
    "duration": 7454,
    "start_time": "2023-10-20T11:24:31.411Z"
   },
   {
    "duration": 1881,
    "start_time": "2023-10-20T11:24:38.867Z"
   },
   {
    "duration": 98,
    "start_time": "2023-10-20T11:24:40.750Z"
   },
   {
    "duration": 20,
    "start_time": "2023-10-20T11:24:40.850Z"
   },
   {
    "duration": 563,
    "start_time": "2023-10-20T11:24:40.872Z"
   },
   {
    "duration": 45,
    "start_time": "2023-10-20T11:24:41.437Z"
   },
   {
    "duration": 14558,
    "start_time": "2023-10-20T11:24:41.484Z"
   },
   {
    "duration": 879,
    "start_time": "2023-10-20T11:24:56.047Z"
   },
   {
    "duration": 2721,
    "start_time": "2023-10-20T11:24:56.928Z"
   },
   {
    "duration": 294,
    "start_time": "2023-10-20T11:24:59.653Z"
   },
   {
    "duration": 93,
    "start_time": "2023-10-20T11:24:59.954Z"
   },
   {
    "duration": 2219,
    "start_time": "2023-10-20T11:25:00.049Z"
   },
   {
    "duration": 26,
    "start_time": "2023-10-20T11:25:02.270Z"
   },
   {
    "duration": 9243,
    "start_time": "2023-10-20T11:25:02.298Z"
   },
   {
    "duration": 862,
    "start_time": "2023-10-20T11:25:11.547Z"
   },
   {
    "duration": 21149,
    "start_time": "2023-10-20T11:25:12.410Z"
   },
   {
    "duration": 207,
    "start_time": "2023-10-20T11:25:33.646Z"
   },
   {
    "duration": 220,
    "start_time": "2023-10-20T11:25:33.856Z"
   },
   {
    "duration": 0,
    "start_time": "2023-10-20T11:25:34.077Z"
   },
   {
    "duration": 0,
    "start_time": "2023-10-20T11:25:34.079Z"
   },
   {
    "duration": 0,
    "start_time": "2023-10-20T11:25:34.080Z"
   },
   {
    "duration": 0,
    "start_time": "2023-10-20T11:25:34.082Z"
   },
   {
    "duration": 0,
    "start_time": "2023-10-20T11:25:34.083Z"
   },
   {
    "duration": 0,
    "start_time": "2023-10-20T11:25:34.084Z"
   },
   {
    "duration": 32,
    "start_time": "2023-10-20T11:26:23.328Z"
   },
   {
    "duration": 1278,
    "start_time": "2023-10-20T11:26:30.835Z"
   },
   {
    "duration": 27,
    "start_time": "2023-10-20T11:26:49.213Z"
   },
   {
    "duration": 171,
    "start_time": "2023-10-20T11:27:02.078Z"
   },
   {
    "duration": 2469,
    "start_time": "2023-10-20T11:27:25.510Z"
   },
   {
    "duration": 1498,
    "start_time": "2023-10-20T11:27:27.981Z"
   },
   {
    "duration": 65,
    "start_time": "2023-10-20T11:27:29.481Z"
   },
   {
    "duration": 7,
    "start_time": "2023-10-20T11:27:29.549Z"
   },
   {
    "duration": 25,
    "start_time": "2023-10-20T11:27:29.557Z"
   },
   {
    "duration": 16,
    "start_time": "2023-10-20T11:27:29.584Z"
   },
   {
    "duration": 6,
    "start_time": "2023-10-20T11:27:29.602Z"
   },
   {
    "duration": 24,
    "start_time": "2023-10-20T11:27:29.609Z"
   },
   {
    "duration": 15,
    "start_time": "2023-10-20T11:27:29.635Z"
   },
   {
    "duration": 21,
    "start_time": "2023-10-20T11:27:29.652Z"
   },
   {
    "duration": 36,
    "start_time": "2023-10-20T11:27:29.674Z"
   },
   {
    "duration": 15,
    "start_time": "2023-10-20T11:27:29.711Z"
   },
   {
    "duration": 8,
    "start_time": "2023-10-20T11:27:29.727Z"
   },
   {
    "duration": 25,
    "start_time": "2023-10-20T11:27:29.737Z"
   },
   {
    "duration": 27,
    "start_time": "2023-10-20T11:27:29.764Z"
   },
   {
    "duration": 42,
    "start_time": "2023-10-20T11:27:29.793Z"
   },
   {
    "duration": 12,
    "start_time": "2023-10-20T11:27:29.837Z"
   },
   {
    "duration": 4,
    "start_time": "2023-10-20T11:27:29.851Z"
   },
   {
    "duration": 41,
    "start_time": "2023-10-20T11:27:29.857Z"
   },
   {
    "duration": 12,
    "start_time": "2023-10-20T11:27:29.899Z"
   },
   {
    "duration": 10,
    "start_time": "2023-10-20T11:27:29.913Z"
   },
   {
    "duration": 31,
    "start_time": "2023-10-20T11:27:29.925Z"
   },
   {
    "duration": 21,
    "start_time": "2023-10-20T11:27:29.958Z"
   },
   {
    "duration": 64,
    "start_time": "2023-10-20T11:27:29.981Z"
   },
   {
    "duration": 57,
    "start_time": "2023-10-20T11:27:30.047Z"
   },
   {
    "duration": 39,
    "start_time": "2023-10-20T11:27:30.106Z"
   },
   {
    "duration": 36,
    "start_time": "2023-10-20T11:27:30.147Z"
   },
   {
    "duration": 33,
    "start_time": "2023-10-20T11:27:30.186Z"
   },
   {
    "duration": 25,
    "start_time": "2023-10-20T11:27:30.221Z"
   },
   {
    "duration": 1774,
    "start_time": "2023-10-20T11:27:30.248Z"
   },
   {
    "duration": 509,
    "start_time": "2023-10-20T11:27:32.023Z"
   },
   {
    "duration": 6108,
    "start_time": "2023-10-20T11:27:32.534Z"
   },
   {
    "duration": 2508,
    "start_time": "2023-10-20T11:27:38.646Z"
   },
   {
    "duration": 101,
    "start_time": "2023-10-20T11:27:41.246Z"
   },
   {
    "duration": 27,
    "start_time": "2023-10-20T11:27:41.349Z"
   },
   {
    "duration": 360,
    "start_time": "2023-10-20T11:27:41.378Z"
   },
   {
    "duration": 7476,
    "start_time": "2023-10-20T11:27:41.741Z"
   },
   {
    "duration": 2130,
    "start_time": "2023-10-20T11:27:49.219Z"
   },
   {
    "duration": 98,
    "start_time": "2023-10-20T11:27:51.352Z"
   },
   {
    "duration": 22,
    "start_time": "2023-10-20T11:27:51.452Z"
   },
   {
    "duration": 574,
    "start_time": "2023-10-20T11:27:51.476Z"
   },
   {
    "duration": 41,
    "start_time": "2023-10-20T11:27:52.052Z"
   },
   {
    "duration": 15105,
    "start_time": "2023-10-20T11:27:52.095Z"
   },
   {
    "duration": 867,
    "start_time": "2023-10-20T11:28:07.201Z"
   },
   {
    "duration": 2733,
    "start_time": "2023-10-20T11:28:08.070Z"
   },
   {
    "duration": 201,
    "start_time": "2023-10-20T11:28:10.847Z"
   },
   {
    "duration": 7,
    "start_time": "2023-10-20T11:28:11.051Z"
   },
   {
    "duration": 2095,
    "start_time": "2023-10-20T11:28:11.147Z"
   },
   {
    "duration": 27,
    "start_time": "2023-10-20T11:28:13.246Z"
   },
   {
    "duration": 10159,
    "start_time": "2023-10-20T11:28:13.275Z"
   },
   {
    "duration": 898,
    "start_time": "2023-10-20T11:28:23.435Z"
   },
   {
    "duration": 20027,
    "start_time": "2023-10-20T11:28:24.335Z"
   },
   {
    "duration": 199,
    "start_time": "2023-10-20T11:28:44.449Z"
   },
   {
    "duration": 101,
    "start_time": "2023-10-20T11:28:44.656Z"
   },
   {
    "duration": 152,
    "start_time": "2023-10-20T11:28:44.759Z"
   },
   {
    "duration": 175,
    "start_time": "2023-10-20T11:28:44.912Z"
   },
   {
    "duration": 158,
    "start_time": "2023-10-20T11:28:45.089Z"
   },
   {
    "duration": 201,
    "start_time": "2023-10-20T11:28:45.249Z"
   },
   {
    "duration": 272,
    "start_time": "2023-10-20T11:28:45.452Z"
   },
   {
    "duration": 160,
    "start_time": "2023-10-20T11:28:45.726Z"
   },
   {
    "duration": 2429,
    "start_time": "2023-10-20T11:34:05.746Z"
   },
   {
    "duration": 1500,
    "start_time": "2023-10-20T11:34:08.178Z"
   },
   {
    "duration": 66,
    "start_time": "2023-10-20T11:34:09.680Z"
   },
   {
    "duration": 8,
    "start_time": "2023-10-20T11:34:09.748Z"
   },
   {
    "duration": 14,
    "start_time": "2023-10-20T11:34:09.757Z"
   },
   {
    "duration": 29,
    "start_time": "2023-10-20T11:34:09.773Z"
   },
   {
    "duration": 4,
    "start_time": "2023-10-20T11:34:09.804Z"
   },
   {
    "duration": 18,
    "start_time": "2023-10-20T11:34:09.810Z"
   },
   {
    "duration": 12,
    "start_time": "2023-10-20T11:34:09.829Z"
   },
   {
    "duration": 13,
    "start_time": "2023-10-20T11:34:09.849Z"
   },
   {
    "duration": 23,
    "start_time": "2023-10-20T11:34:09.864Z"
   },
   {
    "duration": 9,
    "start_time": "2023-10-20T11:34:09.889Z"
   },
   {
    "duration": 6,
    "start_time": "2023-10-20T11:34:09.899Z"
   },
   {
    "duration": 9,
    "start_time": "2023-10-20T11:34:09.907Z"
   },
   {
    "duration": 8,
    "start_time": "2023-10-20T11:34:09.918Z"
   },
   {
    "duration": 50,
    "start_time": "2023-10-20T11:34:09.927Z"
   },
   {
    "duration": 16,
    "start_time": "2023-10-20T11:34:09.979Z"
   },
   {
    "duration": 17,
    "start_time": "2023-10-20T11:34:09.997Z"
   },
   {
    "duration": 51,
    "start_time": "2023-10-20T11:34:10.016Z"
   },
   {
    "duration": 13,
    "start_time": "2023-10-20T11:34:10.069Z"
   },
   {
    "duration": 23,
    "start_time": "2023-10-20T11:34:10.084Z"
   },
   {
    "duration": 19,
    "start_time": "2023-10-20T11:34:10.109Z"
   },
   {
    "duration": 22,
    "start_time": "2023-10-20T11:34:10.130Z"
   },
   {
    "duration": 24,
    "start_time": "2023-10-20T11:34:10.154Z"
   },
   {
    "duration": 22,
    "start_time": "2023-10-20T11:34:10.180Z"
   },
   {
    "duration": 16,
    "start_time": "2023-10-20T11:34:10.203Z"
   },
   {
    "duration": 11,
    "start_time": "2023-10-20T11:34:10.221Z"
   },
   {
    "duration": 5,
    "start_time": "2023-10-20T11:34:10.237Z"
   },
   {
    "duration": 16,
    "start_time": "2023-10-20T11:34:10.244Z"
   },
   {
    "duration": 1844,
    "start_time": "2023-10-20T11:34:10.262Z"
   },
   {
    "duration": 514,
    "start_time": "2023-10-20T11:34:12.108Z"
   },
   {
    "duration": 6196,
    "start_time": "2023-10-20T11:34:12.623Z"
   },
   {
    "duration": 2438,
    "start_time": "2023-10-20T11:34:18.821Z"
   },
   {
    "duration": 91,
    "start_time": "2023-10-20T11:34:21.261Z"
   },
   {
    "duration": 21,
    "start_time": "2023-10-20T11:34:21.447Z"
   },
   {
    "duration": 381,
    "start_time": "2023-10-20T11:34:21.470Z"
   },
   {
    "duration": 7327,
    "start_time": "2023-10-20T11:34:21.853Z"
   },
   {
    "duration": 1970,
    "start_time": "2023-10-20T11:34:29.182Z"
   },
   {
    "duration": 97,
    "start_time": "2023-10-20T11:34:31.156Z"
   },
   {
    "duration": 62,
    "start_time": "2023-10-20T11:34:31.255Z"
   },
   {
    "duration": 691,
    "start_time": "2023-10-20T11:34:31.319Z"
   },
   {
    "duration": 52,
    "start_time": "2023-10-20T11:34:32.012Z"
   },
   {
    "duration": 15661,
    "start_time": "2023-10-20T11:34:32.066Z"
   },
   {
    "duration": 880,
    "start_time": "2023-10-20T11:34:47.729Z"
   },
   {
    "duration": 2943,
    "start_time": "2023-10-20T11:34:48.610Z"
   },
   {
    "duration": 292,
    "start_time": "2023-10-20T11:34:51.555Z"
   },
   {
    "duration": 9,
    "start_time": "2023-10-20T11:34:51.849Z"
   },
   {
    "duration": 2126,
    "start_time": "2023-10-20T11:34:51.947Z"
   },
   {
    "duration": 27,
    "start_time": "2023-10-20T11:34:54.075Z"
   },
   {
    "duration": 9173,
    "start_time": "2023-10-20T11:34:54.104Z"
   },
   {
    "duration": 903,
    "start_time": "2023-10-20T11:35:03.279Z"
   },
   {
    "duration": 19063,
    "start_time": "2023-10-20T11:35:04.184Z"
   },
   {
    "duration": 199,
    "start_time": "2023-10-20T11:35:23.250Z"
   },
   {
    "duration": 99,
    "start_time": "2023-10-20T11:35:23.451Z"
   },
   {
    "duration": 324,
    "start_time": "2023-10-20T11:35:23.552Z"
   },
   {
    "duration": 376,
    "start_time": "2023-10-20T11:35:23.878Z"
   },
   {
    "duration": 293,
    "start_time": "2023-10-20T11:35:24.255Z"
   },
   {
    "duration": 103,
    "start_time": "2023-10-20T11:35:24.550Z"
   },
   {
    "duration": 368,
    "start_time": "2023-10-20T11:35:24.656Z"
   },
   {
    "duration": 143,
    "start_time": "2023-10-20T11:35:25.025Z"
   }
  ],
  "kernelspec": {
   "display_name": "Python 3 (ipykernel)",
   "language": "python",
   "name": "python3"
  },
  "language_info": {
   "codemirror_mode": {
    "name": "ipython",
    "version": 3
   },
   "file_extension": ".py",
   "mimetype": "text/x-python",
   "name": "python",
   "nbconvert_exporter": "python",
   "pygments_lexer": "ipython3",
   "version": "3.9.5"
  },
  "toc": {
   "base_numbering": 1,
   "nav_menu": {},
   "number_sections": true,
   "sideBar": true,
   "skip_h1_title": true,
   "title_cell": "Содержание",
   "title_sidebar": "Contents",
   "toc_cell": true,
   "toc_position": {
    "height": "calc(100% - 180px)",
    "left": "10px",
    "top": "150px",
    "width": "252.859375px"
   },
   "toc_section_display": true,
   "toc_window_display": true
  }
 },
 "nbformat": 4,
 "nbformat_minor": 2
}
